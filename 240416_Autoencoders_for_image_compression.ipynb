{
  "nbformat": 4,
  "nbformat_minor": 0,
  "metadata": {
    "colab": {
      "provenance": [],
      "include_colab_link": true
    },
    "kernelspec": {
      "name": "python3",
      "display_name": "Python 3"
    },
    "accelerator": "GPU"
  },
  "cells": [
    {
      "cell_type": "markdown",
      "metadata": {
        "id": "view-in-github",
        "colab_type": "text"
      },
      "source": [
        "<a href=\"https://colab.research.google.com/github/0ginny/TIL/blob/main/240416_Autoencoders_for_image_compression.ipynb\" target=\"_parent\"><img src=\"https://colab.research.google.com/assets/colab-badge.svg\" alt=\"Open In Colab\"/></a>"
      ]
    },
    {
      "cell_type": "markdown",
      "metadata": {
        "id": "tWTsZuTecmx2"
      },
      "source": [
        "# Computer Vision Masterclass - Autoencoders for image compression"
      ]
    },
    {
      "cell_type": "markdown",
      "source": [
        "인코딩 후 디코딩을 하는 알고리즘이야.\n",
        "\n",
        "단순 이미지의 경우 선형오토인코더로 가능하고\n",
        "\n",
        "큰 이미지의 경우 cnn을 변형해서 encoding, decoding하는 방식을 쓸 수 있어."
      ],
      "metadata": {
        "id": "3I7Bz_vmIjkm"
      }
    },
    {
      "cell_type": "markdown",
      "metadata": {
        "id": "mYpQleaUwS31"
      },
      "source": [
        "## Linear autoencoder"
      ]
    },
    {
      "cell_type": "markdown",
      "metadata": {
        "id": "LLdyWpcAc07f"
      },
      "source": [
        "### Importing the libraries"
      ]
    },
    {
      "cell_type": "code",
      "metadata": {
        "colab": {
          "base_uri": "https://localhost:8080/",
          "height": 36
        },
        "id": "fySWLykPByvy",
        "outputId": "e9086043-de01-4448-ce90-1369d88ce1dc"
      },
      "source": [
        "import tensorflow as tf\n",
        "from tensorflow.keras.models import Sequential, Model\n",
        "from tensorflow.keras.layers import Dense, Input # 신경막 입력층, Dense는 전연결층\n",
        "import numpy as np\n",
        "import matplotlib.pyplot as plt\n",
        "tf.__version__"
      ],
      "execution_count": null,
      "outputs": [
        {
          "output_type": "execute_result",
          "data": {
            "text/plain": [
              "'2.15.0'"
            ],
            "application/vnd.google.colaboratory.intrinsic+json": {
              "type": "string"
            }
          },
          "metadata": {},
          "execution_count": 1
        }
      ]
    },
    {
      "cell_type": "markdown",
      "metadata": {
        "id": "7lpF9L-OdCc9"
      },
      "source": [
        "### Loading the dataset\n",
        "\n",
        "- Dataset: https://keras.io/api/datasets/mnist/"
      ]
    },
    {
      "cell_type": "code",
      "source": [
        "from tensorflow.keras.datasets import mnist"
      ],
      "metadata": {
        "id": "YPtRDgCUJb1f"
      },
      "execution_count": null,
      "outputs": []
    },
    {
      "cell_type": "code",
      "source": [
        "(X_train, y_train), (X_test,y_test) = mnist.load_data()"
      ],
      "metadata": {
        "colab": {
          "base_uri": "https://localhost:8080/"
        },
        "id": "z_yCtLUYJkda",
        "outputId": "9a33089f-0933-4f7c-adaa-c4ba8e3fde64"
      },
      "execution_count": null,
      "outputs": [
        {
          "output_type": "stream",
          "name": "stdout",
          "text": [
            "Downloading data from https://storage.googleapis.com/tensorflow/tf-keras-datasets/mnist.npz\n",
            "11490434/11490434 [==============================] - 0s 0us/step\n"
          ]
        }
      ]
    },
    {
      "cell_type": "code",
      "source": [
        "X_train.shape, y_train.shape"
      ],
      "metadata": {
        "colab": {
          "base_uri": "https://localhost:8080/"
        },
        "id": "y51XvhO4Jsvh",
        "outputId": "5a2a0c58-afaf-48aa-d57c-5c38faefa971"
      },
      "execution_count": null,
      "outputs": [
        {
          "output_type": "execute_result",
          "data": {
            "text/plain": [
              "((60000, 28, 28), (60000,))"
            ]
          },
          "metadata": {},
          "execution_count": 5
        }
      ]
    },
    {
      "cell_type": "code",
      "source": [
        "X_test.shape, y_test.shape"
      ],
      "metadata": {
        "colab": {
          "base_uri": "https://localhost:8080/"
        },
        "id": "MWu3LvuMJ7b_",
        "outputId": "35965df6-2505-481d-f5d5-865497a8f462"
      },
      "execution_count": null,
      "outputs": [
        {
          "output_type": "execute_result",
          "data": {
            "text/plain": [
              "((10000, 28, 28), (10000,))"
            ]
          },
          "metadata": {},
          "execution_count": 6
        }
      ]
    },
    {
      "cell_type": "markdown",
      "metadata": {
        "id": "BUi_hVlrhe3Z"
      },
      "source": [
        "### Visualizing the images"
      ]
    },
    {
      "cell_type": "code",
      "source": [
        "np.random.randint(0, 59999)"
      ],
      "metadata": {
        "colab": {
          "base_uri": "https://localhost:8080/"
        },
        "id": "jg6623cpKIzL",
        "outputId": "8f4b5e86-07e2-4c89-d563-e9af0a4163af"
      },
      "execution_count": null,
      "outputs": [
        {
          "output_type": "execute_result",
          "data": {
            "text/plain": [
              "56049"
            ]
          },
          "metadata": {},
          "execution_count": 7
        }
      ]
    },
    {
      "cell_type": "code",
      "source": [
        "i = np.random.randint(0,59999)\n",
        "print(y_train[i])\n",
        "plt.imshow(X_train[i], cmap = 'gray')"
      ],
      "metadata": {
        "colab": {
          "base_uri": "https://localhost:8080/",
          "height": 466
        },
        "id": "DxBSZ9m_KYjg",
        "outputId": "4d53f144-0eed-4d41-ea96-5e46a6f46f84"
      },
      "execution_count": null,
      "outputs": [
        {
          "output_type": "stream",
          "name": "stdout",
          "text": [
            "1\n"
          ]
        },
        {
          "output_type": "execute_result",
          "data": {
            "text/plain": [
              "<matplotlib.image.AxesImage at 0x7a2d22eb32e0>"
            ]
          },
          "metadata": {},
          "execution_count": 12
        },
        {
          "output_type": "display_data",
          "data": {
            "text/plain": [
              "<Figure size 640x480 with 1 Axes>"
            ],
            "image/png": "[encoded data removed]"
          },
          "metadata": {}
        }
      ]
    },
    {
      "cell_type": "code",
      "source": [
        "width = 10\n",
        "height = 10\n",
        "fig, axes = plt.subplots(height, width, figsize = (15,15))\n",
        "\n",
        "axes = axes.ravel() # (10,10) -> [100]\n",
        "for i in np.arange(0, width * height) :\n",
        "    index = np.random.randint(0,59999)\n",
        "    axes[i].imshow(X_train[index], cmap = 'gray')\n",
        "    axes[i].set_title(y_train[index], fontsize = 8) # 라벨 보여주기\n",
        "    axes[i].axis('off') # 격자 없애기\n",
        "plt.subplots_adjust(hspace = 0.4) # 이미지 사이의 수평 공백"
      ],
      "metadata": {
        "colab": {
          "base_uri": "https://localhost:8080/",
          "height": 1000
        },
        "id": "mhJtnGaWKv48",
        "outputId": "214de4de-1fdd-4746-c5b7-60b5c51dd052"
      },
      "execution_count": null,
      "outputs": [
        {
          "output_type": "display_data",
          "data": {
            "text/plain": [
              "<Figure size 1500x1500 with 100 Axes>"
            ],
            "image/png": "[encoded data removed]"
          },
          "metadata": {}
        }
      ]
    },
    {
      "cell_type": "markdown",
      "metadata": {
        "id": "6HePmiMIn6mG"
      },
      "source": [
        "### Pre-processing the images"
      ]
    },
    {
      "cell_type": "code",
      "source": [
        "X_train[0].min(), X_train[0].max()"
      ],
      "metadata": {
        "colab": {
          "base_uri": "https://localhost:8080/"
        },
        "id": "V1cn0enWMWdl",
        "outputId": "ec37dd37-e864-4983-c5b7-bdafad9f2361"
      },
      "execution_count": null,
      "outputs": [
        {
          "output_type": "execute_result",
          "data": {
            "text/plain": [
              "(0, 255)"
            ]
          },
          "metadata": {},
          "execution_count": 19
        }
      ]
    },
    {
      "cell_type": "code",
      "source": [
        "# normalize\n",
        "X_train = X_train /255\n",
        "X_test = X_test / 255"
      ],
      "metadata": {
        "id": "UPjUt1RQMh2-"
      },
      "execution_count": null,
      "outputs": []
    },
    {
      "cell_type": "code",
      "source": [
        "X_train.shape, X_test.shape"
      ],
      "metadata": {
        "colab": {
          "base_uri": "https://localhost:8080/"
        },
        "id": "xL4mR9wlMtxY",
        "outputId": "0cb95884-7b3b-4721-d04c-f5bb8d14282d"
      },
      "execution_count": null,
      "outputs": [
        {
          "output_type": "execute_result",
          "data": {
            "text/plain": [
              "((60000, 28, 28), (10000, 28, 28))"
            ]
          },
          "metadata": {},
          "execution_count": 21
        }
      ]
    },
    {
      "cell_type": "code",
      "source": [
        "# for linear autoEncoder, vetorizing\n",
        "X_train = X_train.reshape(X_train.shape[0], X_train.shape[1] * X_train.shape[2])\n",
        "X_train.shape"
      ],
      "metadata": {
        "colab": {
          "base_uri": "https://localhost:8080/"
        },
        "id": "HJgF7MQ-M5TC",
        "outputId": "6694b033-1fa3-4c17-a7f9-afb0eb053353"
      },
      "execution_count": null,
      "outputs": [
        {
          "output_type": "execute_result",
          "data": {
            "text/plain": [
              "(60000, 784)"
            ]
          },
          "metadata": {},
          "execution_count": 22
        }
      ]
    },
    {
      "cell_type": "code",
      "source": [
        "X_test = X_test.reshape(X_test.shape[0], X_test.shape[1] * X_test.shape[2])\n",
        "X_test.shape"
      ],
      "metadata": {
        "colab": {
          "base_uri": "https://localhost:8080/"
        },
        "id": "MDZPeOJ1NbbY",
        "outputId": "7d25e961-47f9-4878-da27-553b79a9eb35"
      },
      "execution_count": null,
      "outputs": [
        {
          "output_type": "execute_result",
          "data": {
            "text/plain": [
              "(10000, 784)"
            ]
          },
          "metadata": {},
          "execution_count": 23
        }
      ]
    },
    {
      "cell_type": "markdown",
      "metadata": {
        "id": "6XcT_IVOs2S1"
      },
      "source": [
        "### Building and training the linear autoencoder"
      ]
    },
    {
      "cell_type": "markdown",
      "source": [
        "784 - 128 - 64 - 32 - 64 - 128 - 784\n",
        "\n",
        "이런 크기로 인코딩, 디코딩 할거야."
      ],
      "metadata": {
        "id": "MjzYMoFTN1EO"
      }
    },
    {
      "cell_type": "code",
      "source": [
        "autoencoder = Sequential()\n",
        "\n",
        "# Encode\n",
        "autoencoder.add(Dense(units = 128 , activation = 'relu', input_dim = 784))\n",
        "autoencoder.add(Dense(units = 64, activation = 'relu'))\n",
        "autoencoder.add(Dense(units = 32, activation = 'relu'))\n",
        "\n",
        "# Decode\n",
        "autoencoder.add(Dense(units = 64, activation = 'relu'))\n",
        "autoencoder.add(Dense(units = 128, activation = 'relu'))\n",
        "autoencoder.add(Dense(units = 784, activation = 'sigmoid')) # predict -> pixel value\n",
        "# 만약 다시 사진으로 돌아가는 것이 아니라, 분류를 하는 거라면\n",
        "# autoencoder.add(Dense(units = 10, activation = 'softmax'))\n",
        "\n",
        "\n",
        "print(autoencoder.summary())\n"
      ],
      "metadata": {
        "colab": {
          "base_uri": "https://localhost:8080/"
        },
        "id": "kKuZsUeaN-iy",
        "outputId": "23eb6580-0f8d-4e86-ac11-014e5ba527ac"
      },
      "execution_count": null,
      "outputs": [
        {
          "output_type": "stream",
          "name": "stdout",
          "text": [
            "Model: \"sequential\"\n",
            "_________________________________________________________________\n",
            " Layer (type)                Output Shape              Param #   \n",
            "=================================================================\n",
            " dense (Dense)               (None, 128)               100480    \n",
            "                                                                 \n",
            " dense_1 (Dense)             (None, 64)                8256      \n",
            "                                                                 \n",
            " dense_2 (Dense)             (None, 32)                2080      \n",
            "                                                                 \n",
            " dense_3 (Dense)             (None, 64)                2112      \n",
            "                                                                 \n",
            " dense_4 (Dense)             (None, 128)               8320      \n",
            "                                                                 \n",
            " dense_5 (Dense)             (None, 784)               101136    \n",
            "                                                                 \n",
            "=================================================================\n",
            "Total params: 222384 (868.69 KB)\n",
            "Trainable params: 222384 (868.69 KB)\n",
            "Non-trainable params: 0 (0.00 Byte)\n",
            "_________________________________________________________________\n",
            "None\n"
          ]
        }
      ]
    },
    {
      "cell_type": "code",
      "source": [
        "autoencoder.compile(optimizer = 'adam', loss = 'binary_crossentropy', metrics = ['accuracy']) # sigmoid -> binary_crossentropy"
      ],
      "metadata": {
        "id": "ZyLnZhWKPa7j"
      },
      "execution_count": null,
      "outputs": []
    },
    {
      "cell_type": "code",
      "source": [
        "autoencoder.fit(X_train, X_train, epochs = 50) # 다시 자신으로 돌아가는 거야."
      ],
      "metadata": {
        "colab": {
          "base_uri": "https://localhost:8080/"
        },
        "id": "Ym6_O52OPpBu",
        "outputId": "9cf86f37-0819-493a-d978-1d8055b64068"
      },
      "execution_count": null,
      "outputs": [
        {
          "output_type": "stream",
          "name": "stdout",
          "text": [
            "Epoch 1/50\n",
            "1875/1875 [==============================] - 17s 8ms/step - loss: 0.1515 - accuracy: 0.0109\n",
            "Epoch 2/50\n",
            "1875/1875 [==============================] - 11s 6ms/step - loss: 0.1103 - accuracy: 0.0114\n",
            "Epoch 3/50\n",
            "1875/1875 [==============================] - 11s 6ms/step - loss: 0.1026 - accuracy: 0.0128\n",
            "Epoch 4/50\n",
            "1875/1875 [==============================] - 12s 6ms/step - loss: 0.0983 - accuracy: 0.0128\n",
            "Epoch 5/50\n",
            "1875/1875 [==============================] - 11s 6ms/step - loss: 0.0953 - accuracy: 0.0124\n",
            "Epoch 6/50\n",
            "1875/1875 [==============================] - 13s 7ms/step - loss: 0.0931 - accuracy: 0.0136\n",
            "Epoch 7/50\n",
            "1875/1875 [==============================] - 11s 6ms/step - loss: 0.0914 - accuracy: 0.0143\n",
            "Epoch 8/50\n",
            "1875/1875 [==============================] - 11s 6ms/step - loss: 0.0902 - accuracy: 0.0132\n",
            "Epoch 9/50\n",
            "1875/1875 [==============================] - 11s 6ms/step - loss: 0.0893 - accuracy: 0.0137\n",
            "Epoch 10/50\n",
            "1875/1875 [==============================] - 11s 6ms/step - loss: 0.0885 - accuracy: 0.0137\n",
            "Epoch 11/50\n",
            "1875/1875 [==============================] - 11s 6ms/step - loss: 0.0880 - accuracy: 0.0140\n",
            "Epoch 12/50\n",
            "1875/1875 [==============================] - 11s 6ms/step - loss: 0.0874 - accuracy: 0.0135\n",
            "Epoch 13/50\n",
            "1875/1875 [==============================] - 11s 6ms/step - loss: 0.0870 - accuracy: 0.0147\n",
            "Epoch 14/50\n",
            "1875/1875 [==============================] - 11s 6ms/step - loss: 0.0866 - accuracy: 0.0147\n",
            "Epoch 15/50\n",
            "1875/1875 [==============================] - 11s 6ms/step - loss: 0.0860 - accuracy: 0.0151\n",
            "Epoch 16/50\n",
            "1875/1875 [==============================] - 11s 6ms/step - loss: 0.0856 - accuracy: 0.0151\n",
            "Epoch 17/50\n",
            "1875/1875 [==============================] - 11s 6ms/step - loss: 0.0853 - accuracy: 0.0153\n",
            "Epoch 18/50\n",
            "1875/1875 [==============================] - 11s 6ms/step - loss: 0.0850 - accuracy: 0.0143\n",
            "Epoch 19/50\n",
            "1875/1875 [==============================] - 11s 6ms/step - loss: 0.0848 - accuracy: 0.0146\n",
            "Epoch 20/50\n",
            "1875/1875 [==============================] - 11s 6ms/step - loss: 0.0846 - accuracy: 0.0143\n",
            "Epoch 21/50\n",
            "1875/1875 [==============================] - 11s 6ms/step - loss: 0.0844 - accuracy: 0.0151\n",
            "Epoch 22/50\n",
            "1875/1875 [==============================] - 11s 6ms/step - loss: 0.0843 - accuracy: 0.0145\n",
            "Epoch 23/50\n",
            "1875/1875 [==============================] - 11s 6ms/step - loss: 0.0840 - accuracy: 0.0143\n",
            "Epoch 24/50\n",
            "1875/1875 [==============================] - 12s 6ms/step - loss: 0.0837 - accuracy: 0.0147\n",
            "Epoch 25/50\n",
            "1875/1875 [==============================] - 12s 6ms/step - loss: 0.0834 - accuracy: 0.0139\n",
            "Epoch 26/50\n",
            "1875/1875 [==============================] - 11s 6ms/step - loss: 0.0833 - accuracy: 0.0149\n",
            "Epoch 27/50\n",
            "1875/1875 [==============================] - 11s 6ms/step - loss: 0.0831 - accuracy: 0.0141\n",
            "Epoch 28/50\n",
            "1875/1875 [==============================] - 11s 6ms/step - loss: 0.0830 - accuracy: 0.0143\n",
            "Epoch 29/50\n",
            "1875/1875 [==============================] - 12s 6ms/step - loss: 0.0828 - accuracy: 0.0148\n",
            "Epoch 30/50\n",
            "1875/1875 [==============================] - 12s 6ms/step - loss: 0.0827 - accuracy: 0.0144\n",
            "Epoch 31/50\n",
            "1875/1875 [==============================] - 12s 7ms/step - loss: 0.0827 - accuracy: 0.0149\n",
            "Epoch 32/50\n",
            "1875/1875 [==============================] - 12s 6ms/step - loss: 0.0826 - accuracy: 0.0145\n",
            "Epoch 33/50\n",
            "1875/1875 [==============================] - 11s 6ms/step - loss: 0.0824 - accuracy: 0.0146\n",
            "Epoch 34/50\n",
            "1875/1875 [==============================] - 11s 6ms/step - loss: 0.0824 - accuracy: 0.0140\n",
            "Epoch 35/50\n",
            "1875/1875 [==============================] - 11s 6ms/step - loss: 0.0823 - accuracy: 0.0144\n",
            "Epoch 36/50\n",
            "1875/1875 [==============================] - 10s 5ms/step - loss: 0.0822 - accuracy: 0.0144\n",
            "Epoch 37/50\n",
            "1875/1875 [==============================] - 11s 6ms/step - loss: 0.0822 - accuracy: 0.0145\n",
            "Epoch 38/50\n",
            "1875/1875 [==============================] - 11s 6ms/step - loss: 0.0821 - accuracy: 0.0148\n",
            "Epoch 39/50\n",
            "1875/1875 [==============================] - 11s 6ms/step - loss: 0.0821 - accuracy: 0.0145\n",
            "Epoch 40/50\n",
            "1875/1875 [==============================] - 11s 6ms/step - loss: 0.0820 - accuracy: 0.0143\n",
            "Epoch 41/50\n",
            "1875/1875 [==============================] - 12s 6ms/step - loss: 0.0819 - accuracy: 0.0138\n",
            "Epoch 42/50\n",
            "1875/1875 [==============================] - 11s 6ms/step - loss: 0.0819 - accuracy: 0.0141\n",
            "Epoch 43/50\n",
            "1875/1875 [==============================] - 11s 6ms/step - loss: 0.0818 - accuracy: 0.0143\n",
            "Epoch 44/50\n",
            "1875/1875 [==============================] - 11s 6ms/step - loss: 0.0818 - accuracy: 0.0143\n",
            "Epoch 45/50\n",
            "1875/1875 [==============================] - 11s 6ms/step - loss: 0.0817 - accuracy: 0.0146\n",
            "Epoch 46/50\n",
            "1875/1875 [==============================] - 14s 8ms/step - loss: 0.0817 - accuracy: 0.0146\n",
            "Epoch 47/50\n",
            "1875/1875 [==============================] - 11s 6ms/step - loss: 0.0817 - accuracy: 0.0144\n",
            "Epoch 48/50\n",
            "1875/1875 [==============================] - 12s 6ms/step - loss: 0.0816 - accuracy: 0.0146\n",
            "Epoch 49/50\n",
            "1875/1875 [==============================] - 22s 12ms/step - loss: 0.0815 - accuracy: 0.0143\n",
            "Epoch 50/50\n",
            "1875/1875 [==============================] - 19s 10ms/step - loss: 0.0815 - accuracy: 0.0147\n"
          ]
        },
        {
          "output_type": "execute_result",
          "data": {
            "text/plain": [
              "<keras.src.callbacks.History at 0x7a2d1eed8370>"
            ]
          },
          "metadata": {},
          "execution_count": 26
        }
      ]
    },
    {
      "cell_type": "markdown",
      "metadata": {
        "id": "L4m5DrJzxmmS"
      },
      "source": [
        "### Encoding the images"
      ]
    },
    {
      "cell_type": "code",
      "source": [
        "autoencoder.summary()"
      ],
      "metadata": {
        "colab": {
          "base_uri": "https://localhost:8080/"
        },
        "id": "fYXKFxMIScq_",
        "outputId": "168cb4c2-ea97-4faa-bbdc-5b671bbda864"
      },
      "execution_count": null,
      "outputs": [
        {
          "output_type": "stream",
          "name": "stdout",
          "text": [
            "Model: \"sequential\"\n",
            "_________________________________________________________________\n",
            " Layer (type)                Output Shape              Param #   \n",
            "=================================================================\n",
            " dense (Dense)               (None, 128)               100480    \n",
            "                                                                 \n",
            " dense_1 (Dense)             (None, 64)                8256      \n",
            "                                                                 \n",
            " dense_2 (Dense)             (None, 32)                2080      \n",
            "                                                                 \n",
            " dense_3 (Dense)             (None, 64)                2112      \n",
            "                                                                 \n",
            " dense_4 (Dense)             (None, 128)               8320      \n",
            "                                                                 \n",
            " dense_5 (Dense)             (None, 784)               101136    \n",
            "                                                                 \n",
            "=================================================================\n",
            "Total params: 222384 (868.69 KB)\n",
            "Trainable params: 222384 (868.69 KB)\n",
            "Non-trainable params: 0 (0.00 Byte)\n",
            "_________________________________________________________________\n"
          ]
        }
      ]
    },
    {
      "cell_type": "code",
      "source": [
        "autoencoder.input"
      ],
      "metadata": {
        "colab": {
          "base_uri": "https://localhost:8080/"
        },
        "id": "8dCGjuhgStjf",
        "outputId": "9fe909f7-57bd-4aea-8acc-89825e068dd9"
      },
      "execution_count": null,
      "outputs": [
        {
          "output_type": "execute_result",
          "data": {
            "text/plain": [
              "<KerasTensor: shape=(None, 784) dtype=float32 (created by layer 'dense_input')>"
            ]
          },
          "metadata": {},
          "execution_count": 29
        }
      ]
    },
    {
      "cell_type": "code",
      "source": [
        "autoencoder.get_layer('dense_2').output"
      ],
      "metadata": {
        "colab": {
          "base_uri": "https://localhost:8080/"
        },
        "id": "CghY7RYwS8vj",
        "outputId": "89ca66dd-037a-4563-ddad-bc8a13ea63a0"
      },
      "execution_count": null,
      "outputs": [
        {
          "output_type": "execute_result",
          "data": {
            "text/plain": [
              "<KerasTensor: shape=(None, 32) dtype=float32 (created by layer 'dense_2')>"
            ]
          },
          "metadata": {},
          "execution_count": 30
        }
      ]
    },
    {
      "cell_type": "code",
      "source": [
        "# encoding만 보고 싶을 때.\n",
        "encoder = Model(inputs = autoencoder.input, outputs = autoencoder.get_layer('dense_2').output)"
      ],
      "metadata": {
        "id": "BHOHXOEwSDHb"
      },
      "execution_count": null,
      "outputs": []
    },
    {
      "cell_type": "code",
      "source": [
        "encoder.summary()"
      ],
      "metadata": {
        "colab": {
          "base_uri": "https://localhost:8080/"
        },
        "id": "2fW74gIVS_-f",
        "outputId": "6f423b5e-8f56-4ea0-cff3-a782cdee4523"
      },
      "execution_count": null,
      "outputs": [
        {
          "output_type": "stream",
          "name": "stdout",
          "text": [
            "Model: \"model\"\n",
            "_________________________________________________________________\n",
            " Layer (type)                Output Shape              Param #   \n",
            "=================================================================\n",
            " dense_input (InputLayer)    [(None, 784)]             0         \n",
            "                                                                 \n",
            " dense (Dense)               (None, 128)               100480    \n",
            "                                                                 \n",
            " dense_1 (Dense)             (None, 64)                8256      \n",
            "                                                                 \n",
            " dense_2 (Dense)             (None, 32)                2080      \n",
            "                                                                 \n",
            "=================================================================\n",
            "Total params: 110816 (432.88 KB)\n",
            "Trainable params: 110816 (432.88 KB)\n",
            "Non-trainable params: 0 (0.00 Byte)\n",
            "_________________________________________________________________\n"
          ]
        }
      ]
    },
    {
      "cell_type": "code",
      "source": [
        "# 압축할 image\n",
        "plt.imshow(X_test[0].reshape(28,28), cmap = 'gray')"
      ],
      "metadata": {
        "colab": {
          "base_uri": "https://localhost:8080/",
          "height": 448
        },
        "id": "BwCl8d3vTEIp",
        "outputId": "86d6ef04-f3a0-4085-fcc0-933cdb1c8d0a"
      },
      "execution_count": null,
      "outputs": [
        {
          "output_type": "execute_result",
          "data": {
            "text/plain": [
              "<matplotlib.image.AxesImage at 0x7a2d203f7af0>"
            ]
          },
          "metadata": {},
          "execution_count": 33
        },
        {
          "output_type": "display_data",
          "data": {
            "text/plain": [
              "<Figure size 640x480 with 1 Axes>"
            ],
            "image/png": "[encoded data removed]"
          },
          "metadata": {}
        }
      ]
    },
    {
      "cell_type": "code",
      "source": [
        "encoded_image = encoder.predict(X_test[0].reshape(1,-1))"
      ],
      "metadata": {
        "colab": {
          "base_uri": "https://localhost:8080/"
        },
        "id": "znt0u2OcTSCx",
        "outputId": "466ece77-ca14-411a-b736-4818ad96fc03"
      },
      "execution_count": null,
      "outputs": [
        {
          "output_type": "stream",
          "name": "stdout",
          "text": [
            "1/1 [==============================] - 0s 88ms/step\n"
          ]
        }
      ]
    },
    {
      "cell_type": "code",
      "source": [
        "plt.imshow(encoded_image.reshape(8,4), cmap = 'gray')"
      ],
      "metadata": {
        "colab": {
          "base_uri": "https://localhost:8080/",
          "height": 448
        },
        "id": "l_rIcY0pTilW",
        "outputId": "914f3031-6ca2-45ab-dee7-5b5156957e4e"
      },
      "execution_count": null,
      "outputs": [
        {
          "output_type": "execute_result",
          "data": {
            "text/plain": [
              "<matplotlib.image.AxesImage at 0x7a2d20473400>"
            ]
          },
          "metadata": {},
          "execution_count": 36
        },
        {
          "output_type": "display_data",
          "data": {
            "text/plain": [
              "<Figure size 640x480 with 1 Axes>"
            ],
            "image/png": "[encoded data removed]"
          },
          "metadata": {}
        }
      ]
    },
    {
      "cell_type": "markdown",
      "metadata": {
        "id": "mSOCL0-t16Nq"
      },
      "source": [
        "### Decoding the images"
      ]
    },
    {
      "cell_type": "code",
      "source": [
        "autoencoder.summary()"
      ],
      "metadata": {
        "colab": {
          "base_uri": "https://localhost:8080/"
        },
        "id": "tJFNSk36T18U",
        "outputId": "fd1cef85-207b-4bf0-b477-993906093c50"
      },
      "execution_count": null,
      "outputs": [
        {
          "output_type": "stream",
          "name": "stdout",
          "text": [
            "Model: \"sequential\"\n",
            "_________________________________________________________________\n",
            " Layer (type)                Output Shape              Param #   \n",
            "=================================================================\n",
            " dense (Dense)               (None, 128)               100480    \n",
            "                                                                 \n",
            " dense_1 (Dense)             (None, 64)                8256      \n",
            "                                                                 \n",
            " dense_2 (Dense)             (None, 32)                2080      \n",
            "                                                                 \n",
            " dense_3 (Dense)             (None, 64)                2112      \n",
            "                                                                 \n",
            " dense_4 (Dense)             (None, 128)               8320      \n",
            "                                                                 \n",
            " dense_5 (Dense)             (None, 784)               101136    \n",
            "                                                                 \n",
            "=================================================================\n",
            "Total params: 222384 (868.69 KB)\n",
            "Trainable params: 222384 (868.69 KB)\n",
            "Non-trainable params: 0 (0.00 Byte)\n",
            "_________________________________________________________________\n"
          ]
        }
      ]
    },
    {
      "cell_type": "code",
      "source": [
        "# 디코딩을 할 때 input layer는 다시 설정해 줘야해.\n",
        "# Dense_3 의 경우 Input_layer가 아닌 그냥 전연결층이야.\n",
        "input_layer_decoder = Input(shape = 32,)\n",
        "decoder_layer1 = autoencoder.layers[3]\n",
        "decoder_layer2 = autoencoder.layers[4]\n",
        "decoder_layer3 = autoencoder.layers[5]\n",
        "\n",
        "# 연결\n",
        "decoder = Model(inputs = input_layer_decoder, outputs = decoder_layer3(decoder_layer2(decoder_layer1(input_layer_decoder))))\n",
        "decoder.summary()\n"
      ],
      "metadata": {
        "colab": {
          "base_uri": "https://localhost:8080/"
        },
        "id": "wz3V6bplT-vK",
        "outputId": "5b1fd6e7-c84d-4504-de33-05d08b2db565"
      },
      "execution_count": null,
      "outputs": [
        {
          "output_type": "stream",
          "name": "stdout",
          "text": [
            "Model: \"model_1\"\n",
            "_________________________________________________________________\n",
            " Layer (type)                Output Shape              Param #   \n",
            "=================================================================\n",
            " input_1 (InputLayer)        [(None, 32)]              0         \n",
            "                                                                 \n",
            " dense_3 (Dense)             (None, 64)                2112      \n",
            "                                                                 \n",
            " dense_4 (Dense)             (None, 128)               8320      \n",
            "                                                                 \n",
            " dense_5 (Dense)             (None, 784)               101136    \n",
            "                                                                 \n",
            "=================================================================\n",
            "Total params: 111568 (435.81 KB)\n",
            "Trainable params: 111568 (435.81 KB)\n",
            "Non-trainable params: 0 (0.00 Byte)\n",
            "_________________________________________________________________\n"
          ]
        }
      ]
    },
    {
      "cell_type": "code",
      "source": [
        "decoded_image = decoder.predict(encoded_image)"
      ],
      "metadata": {
        "colab": {
          "base_uri": "https://localhost:8080/"
        },
        "id": "toqMuNWsVIrp",
        "outputId": "edfb77d0-650f-4ba6-9e03-e466b97169bd"
      },
      "execution_count": null,
      "outputs": [
        {
          "output_type": "stream",
          "name": "stdout",
          "text": [
            "1/1 [==============================] - 0s 58ms/step\n"
          ]
        }
      ]
    },
    {
      "cell_type": "code",
      "source": [
        "decoded_image.shape"
      ],
      "metadata": {
        "colab": {
          "base_uri": "https://localhost:8080/"
        },
        "id": "VF2_689SVRoy",
        "outputId": "2e5e65f0-390f-426f-d4a8-e03ae4a46d1b"
      },
      "execution_count": null,
      "outputs": [
        {
          "output_type": "execute_result",
          "data": {
            "text/plain": [
              "(1, 784)"
            ]
          },
          "metadata": {},
          "execution_count": 40
        }
      ]
    },
    {
      "cell_type": "code",
      "source": [
        "plt.imshow(decoded_image.reshape(28,28), cmap = 'gray')"
      ],
      "metadata": {
        "colab": {
          "base_uri": "https://localhost:8080/",
          "height": 448
        },
        "id": "bIIYVzMNVUBv",
        "outputId": "2de5a492-afbc-42ae-cf6f-23c9699b476b"
      },
      "execution_count": null,
      "outputs": [
        {
          "output_type": "execute_result",
          "data": {
            "text/plain": [
              "<matplotlib.image.AxesImage at 0x7a2d1e06d5a0>"
            ]
          },
          "metadata": {},
          "execution_count": 41
        },
        {
          "output_type": "display_data",
          "data": {
            "text/plain": [
              "<Figure size 640x480 with 1 Axes>"
            ],
            "image/png": "[encoded data removed]"
          },
          "metadata": {}
        }
      ]
    },
    {
      "cell_type": "code",
      "source": [
        "plt.imshow(X_test[0].reshape(28,28), cmap = 'gray')"
      ],
      "metadata": {
        "colab": {
          "base_uri": "https://localhost:8080/",
          "height": 448
        },
        "id": "m7Zd8ZFmVf_g",
        "outputId": "d4203fd3-acb8-4fa2-b367-c057478fa23c"
      },
      "execution_count": null,
      "outputs": [
        {
          "output_type": "execute_result",
          "data": {
            "text/plain": [
              "<matplotlib.image.AxesImage at 0x7a2d203e85b0>"
            ]
          },
          "metadata": {},
          "execution_count": 43
        },
        {
          "output_type": "display_data",
          "data": {
            "text/plain": [
              "<Figure size 640x480 with 1 Axes>"
            ],
            "image/png": "[encoded data removed]"
          },
          "metadata": {}
        }
      ]
    },
    {
      "cell_type": "markdown",
      "metadata": {
        "id": "knNmJYXd31KE"
      },
      "source": [
        "### Encoding and decoding the test images"
      ]
    },
    {
      "cell_type": "code",
      "source": [
        "n_images = 10\n",
        "test_images = np.random.randint(0, X_test.shape[0]-1, size = n_images)\n",
        "# print(test_images)\n",
        "\n",
        "plt.figure(figsize = (18,18))\n",
        "\n",
        "for i , image_index in enumerate(test_images):\n",
        "    # print(i, image_index)\n",
        "\n",
        "    ax = plt.subplot(10,10, i + 1)\n",
        "    plt.imshow(X_test[image_index].reshape(28,28), cmap = 'gray')\n",
        "    plt.xticks(())\n",
        "    plt.yticks(())\n",
        "\n",
        "    # Coded images\n",
        "    ax = plt.subplot(10,10, i + 1 + n_images)\n",
        "    encoded_image = encoder.predict(X_test[image_index].reshape(1,-1))\n",
        "    plt.imshow(encoded_image.reshape(8,4), cmap = 'gray')\n",
        "    plt.xticks(())\n",
        "    plt.yticks(())\n",
        "\n",
        "    ax = plt.subplot(10,10, i + 1 + 2 * n_images)\n",
        "    decoded_image = decoder.predict(encoded_image)\n",
        "    plt.imshow(decoded_image.reshape(28,28), cmap = 'gray')\n",
        "    plt.xticks(())\n",
        "    plt.yticks(())"
      ],
      "metadata": {
        "colab": {
          "base_uri": "https://localhost:8080/",
          "height": 801
        },
        "id": "SZmtC1RdV5Y8",
        "outputId": "88119d10-bb4b-4057-b25d-aa150ec0c51c"
      },
      "execution_count": null,
      "outputs": [
        {
          "output_type": "stream",
          "name": "stdout",
          "text": [
            "1/1 [==============================] - 0s 21ms/step\n",
            "1/1 [==============================] - 0s 20ms/step\n",
            "1/1 [==============================] - 0s 27ms/step\n",
            "1/1 [==============================] - 0s 21ms/step\n",
            "1/1 [==============================] - 0s 20ms/step\n",
            "1/1 [==============================] - 0s 20ms/step\n",
            "1/1 [==============================] - 0s 20ms/step\n",
            "1/1 [==============================] - 0s 22ms/step\n",
            "1/1 [==============================] - 0s 19ms/step\n",
            "1/1 [==============================] - 0s 20ms/step\n",
            "1/1 [==============================] - 0s 20ms/step\n",
            "1/1 [==============================] - 0s 20ms/step\n",
            "1/1 [==============================] - 0s 34ms/step\n",
            "1/1 [==============================] - 0s 21ms/step\n",
            "1/1 [==============================] - 0s 21ms/step\n",
            "1/1 [==============================] - 0s 20ms/step\n",
            "1/1 [==============================] - 0s 21ms/step\n",
            "1/1 [==============================] - 0s 19ms/step\n",
            "1/1 [==============================] - 0s 21ms/step\n",
            "1/1 [==============================] - 0s 24ms/step\n"
          ]
        },
        {
          "output_type": "display_data",
          "data": {
            "text/plain": [
              "<Figure size 1800x1800 with 30 Axes>"
            ],
            "image/png": "[encoded data removed]"
          },
          "metadata": {}
        }
      ]
    },
    {
      "cell_type": "markdown",
      "metadata": {
        "id": "1RTomwzP88WO"
      },
      "source": [
        "## Convolutional autoencoders"
      ]
    },
    {
      "cell_type": "markdown",
      "metadata": {
        "id": "y_G6Xxwi9Cl4"
      },
      "source": [
        "### Importing the libraries"
      ]
    },
    {
      "cell_type": "code",
      "source": [
        "from tensorflow.keras.layers import Conv2D, MaxPooling2D, UpSampling2D, Reshape, Flatten"
      ],
      "metadata": {
        "id": "0G7pfdMvnwd0"
      },
      "execution_count": 56,
      "outputs": []
    },
    {
      "cell_type": "markdown",
      "metadata": {
        "id": "ymP7fNPt9G2h"
      },
      "source": [
        "### Loading the dataset\n",
        "\n",
        "- Dataset: https://keras.io/api/datasets/fashion_mnist/"
      ]
    },
    {
      "cell_type": "code",
      "source": [
        "from tensorflow.keras.datasets import fashion_mnist"
      ],
      "metadata": {
        "id": "BTSybAfLn-Dk"
      },
      "execution_count": 57,
      "outputs": []
    },
    {
      "cell_type": "code",
      "source": [
        "(X_train, y_train), (X_test, y_test) = fashion_mnist.load_data()"
      ],
      "metadata": {
        "colab": {
          "base_uri": "https://localhost:8080/"
        },
        "id": "v2pWNKW8oQ8g",
        "outputId": "9c2acb58-585e-48fb-990c-3607484d98ea"
      },
      "execution_count": 58,
      "outputs": [
        {
          "output_type": "stream",
          "name": "stdout",
          "text": [
            "Downloading data from https://storage.googleapis.com/tensorflow/tf-keras-datasets/train-labels-idx1-ubyte.gz\n",
            "29515/29515 [==============================] - 0s 0us/step\n",
            "Downloading data from https://storage.googleapis.com/tensorflow/tf-keras-datasets/train-images-idx3-ubyte.gz\n",
            "26421880/26421880 [==============================] - 0s 0us/step\n",
            "Downloading data from https://storage.googleapis.com/tensorflow/tf-keras-datasets/t10k-labels-idx1-ubyte.gz\n",
            "5148/5148 [==============================] - 0s 0us/step\n",
            "Downloading data from https://storage.googleapis.com/tensorflow/tf-keras-datasets/t10k-images-idx3-ubyte.gz\n",
            "4422102/4422102 [==============================] - 0s 0us/step\n"
          ]
        }
      ]
    },
    {
      "cell_type": "code",
      "source": [
        "X_train.shape, y_train.shape"
      ],
      "metadata": {
        "colab": {
          "base_uri": "https://localhost:8080/"
        },
        "id": "mqc2UaAPpKZV",
        "outputId": "ee50612e-76fd-43cb-b97c-d8023cff495e"
      },
      "execution_count": 59,
      "outputs": [
        {
          "output_type": "execute_result",
          "data": {
            "text/plain": [
              "((60000, 28, 28), (60000,))"
            ]
          },
          "metadata": {},
          "execution_count": 59
        }
      ]
    },
    {
      "cell_type": "code",
      "source": [
        "# resize\n",
        "X_train = X_train.reshape((len(X_train), 28, 28, 1))\n",
        "X_test = X_test.reshape((len(X_test), 28, 28, 1))\n"
      ],
      "metadata": {
        "id": "0AhkBGSspTY4"
      },
      "execution_count": 60,
      "outputs": []
    },
    {
      "cell_type": "code",
      "source": [
        "X_train.shape, X_test.shape"
      ],
      "metadata": {
        "colab": {
          "base_uri": "https://localhost:8080/"
        },
        "id": "kPBkNw9spvmq",
        "outputId": "c8bab049-5c47-402b-f886-11da00bc9005"
      },
      "execution_count": 62,
      "outputs": [
        {
          "output_type": "execute_result",
          "data": {
            "text/plain": [
              "((60000, 28, 28, 1), (10000, 28, 28, 1))"
            ]
          },
          "metadata": {},
          "execution_count": 62
        }
      ]
    },
    {
      "cell_type": "markdown",
      "metadata": {
        "id": "qGwg1wzz9IzD"
      },
      "source": [
        "### Visualizing the images"
      ]
    },
    {
      "cell_type": "markdown",
      "metadata": {
        "id": "Y70cHkb-9LV3"
      },
      "source": [
        "### Pre-processing the images"
      ]
    },
    {
      "cell_type": "markdown",
      "metadata": {
        "id": "udL7sOyX9ORJ"
      },
      "source": [
        "### Building and training the convolutional autoencoder"
      ]
    },
    {
      "cell_type": "code",
      "source": [
        "autoencoder = Sequential()\n",
        "\n",
        "# Encoder\n",
        "autoencoder.add(Conv2D(filters = 16, kernel_size = (3,3), activation = 'relu', padding = 'valid' , input_shape = (28,28,1)))\n",
        "autoencoder.add(MaxPooling2D(pool_size = (2,2)))\n",
        "\n",
        "autoencoder.add(Conv2D(filters = 8, kernel_size = (3,3) , activation = 'relu', padding = 'same'))\n",
        "autoencoder.add(MaxPooling2D(pool_size = (2,2), padding = 'same'))\n",
        "\n",
        "# autoencoder.summary()\n",
        "\n",
        "autoencoder.add(Conv2D(filters = 8, kernel_size = (3,3), activation = 'relu', padding = 'same' , strides = (2,2))) # strides가 커지면 이미지는 작아져.\n",
        "\n",
        "autoencoder.add(Flatten())\n",
        "\n",
        "# autoencoder.summary()\n",
        "\n",
        "# decoder\n",
        "\n",
        "autoencoder.add(Reshape((4,4,8)))\n",
        "\n",
        "autoencoder.add(Conv2D(filters = 8 , kernel_size = (3,3), activation = 'relu', padding = 'same'))\n",
        "\n",
        "# autoencoder.summary()\n",
        "\n",
        "autoencoder.add(UpSampling2D(size = (2,2)))\n",
        "\n",
        "autoencoder.add(Conv2D(filters = 8 , kernel_size = (3,3), activation = 'relu', padding = 'same'))\n",
        "autoencoder.add(UpSampling2D(size = (2,2)))\n",
        "autoencoder.add(Conv2D(filters = 16 , kernel_size = (3,3), activation = 'relu'))\n",
        "autoencoder.add(UpSampling2D(size = (2,2)))\n",
        "\n",
        "autoencoder.add(Conv2D(filters = 1 , kernel_size = (3,3), activation = 'sigmoid', padding = 'same')) # 이미지를 normalize해서\n",
        "\n",
        "autoencoder.summary()"
      ],
      "metadata": {
        "colab": {
          "base_uri": "https://localhost:8080/"
        },
        "id": "BUvksviEp4UA",
        "outputId": "d62db052-d995-400e-ba4a-81b5006352ca"
      },
      "execution_count": 71,
      "outputs": [
        {
          "output_type": "stream",
          "name": "stdout",
          "text": [
            "Model: \"sequential_9\"\n",
            "_________________________________________________________________\n",
            " Layer (type)                Output Shape              Param #   \n",
            "=================================================================\n",
            " conv2d_30 (Conv2D)          (None, 26, 26, 16)        160       \n",
            "                                                                 \n",
            " max_pooling2d_16 (MaxPooli  (None, 13, 13, 16)        0         \n",
            " ng2D)                                                           \n",
            "                                                                 \n",
            " conv2d_31 (Conv2D)          (None, 13, 13, 8)         1160      \n",
            "                                                                 \n",
            " max_pooling2d_17 (MaxPooli  (None, 7, 7, 8)           0         \n",
            " ng2D)                                                           \n",
            "                                                                 \n",
            " conv2d_32 (Conv2D)          (None, 4, 4, 8)           584       \n",
            "                                                                 \n",
            " flatten_6 (Flatten)         (None, 128)               0         \n",
            "                                                                 \n",
            " reshape_3 (Reshape)         (None, 4, 4, 8)           0         \n",
            "                                                                 \n",
            " conv2d_33 (Conv2D)          (None, 4, 4, 8)           584       \n",
            "                                                                 \n",
            " up_sampling2d_6 (UpSamplin  (None, 8, 8, 8)           0         \n",
            " g2D)                                                            \n",
            "                                                                 \n",
            " conv2d_34 (Conv2D)          (None, 8, 8, 8)           584       \n",
            "                                                                 \n",
            " up_sampling2d_7 (UpSamplin  (None, 16, 16, 8)         0         \n",
            " g2D)                                                            \n",
            "                                                                 \n",
            " conv2d_35 (Conv2D)          (None, 14, 14, 16)        1168      \n",
            "                                                                 \n",
            " up_sampling2d_8 (UpSamplin  (None, 28, 28, 16)        0         \n",
            " g2D)                                                            \n",
            "                                                                 \n",
            " conv2d_36 (Conv2D)          (None, 28, 28, 1)         145       \n",
            "                                                                 \n",
            "=================================================================\n",
            "Total params: 4385 (17.13 KB)\n",
            "Trainable params: 4385 (17.13 KB)\n",
            "Non-trainable params: 0 (0.00 Byte)\n",
            "_________________________________________________________________\n"
          ]
        }
      ]
    },
    {
      "cell_type": "code",
      "source": [
        "'''\n",
        "위 숫자의 이해.\n",
        "\n",
        "output = (input - filter + 1) / Stride\n",
        "\n",
        "Input : (28,28,1)\n",
        "Filter size : 3\n",
        "output : (28 - 3 + 1) / 1 = 26 -> (26,26 , # of filters )\n",
        "\n",
        "\n",
        "UpSampling2D : (16,16,8)\n",
        "Filter size : 3\n",
        "output : (16-3+1)/1 = 14 -> (14,14,16)\n",
        "'''"
      ],
      "metadata": {
        "id": "vUaOGt4PvnBd"
      },
      "execution_count": null,
      "outputs": []
    },
    {
      "cell_type": "code",
      "source": [
        "autoencoder.compile(optimizer = 'adam', loss = 'binary_crossentropy', metrics = ['accuracy'])"
      ],
      "metadata": {
        "id": "j_UBMoC5vUVI"
      },
      "execution_count": 72,
      "outputs": []
    },
    {
      "cell_type": "code",
      "source": [
        "# train"
      ],
      "metadata": {
        "id": "UhECQFVcvdra"
      },
      "execution_count": null,
      "outputs": []
    },
    {
      "cell_type": "markdown",
      "metadata": {
        "id": "9-AwzJJnKz-3"
      },
      "source": [
        "### Encoding and decoding the test images"
      ]
    },
    {
      "cell_type": "code",
      "source": [
        "autoencoder.summary()"
      ],
      "metadata": {
        "colab": {
          "base_uri": "https://localhost:8080/"
        },
        "id": "49kgQKSZxWAi",
        "outputId": "6b8fe045-3cf7-49de-b57f-176c3f1be478"
      },
      "execution_count": 73,
      "outputs": [
        {
          "output_type": "stream",
          "name": "stdout",
          "text": [
            "Model: \"sequential_9\"\n",
            "_________________________________________________________________\n",
            " Layer (type)                Output Shape              Param #   \n",
            "=================================================================\n",
            " conv2d_30 (Conv2D)          (None, 26, 26, 16)        160       \n",
            "                                                                 \n",
            " max_pooling2d_16 (MaxPooli  (None, 13, 13, 16)        0         \n",
            " ng2D)                                                           \n",
            "                                                                 \n",
            " conv2d_31 (Conv2D)          (None, 13, 13, 8)         1160      \n",
            "                                                                 \n",
            " max_pooling2d_17 (MaxPooli  (None, 7, 7, 8)           0         \n",
            " ng2D)                                                           \n",
            "                                                                 \n",
            " conv2d_32 (Conv2D)          (None, 4, 4, 8)           584       \n",
            "                                                                 \n",
            " flatten_6 (Flatten)         (None, 128)               0         \n",
            "                                                                 \n",
            " reshape_3 (Reshape)         (None, 4, 4, 8)           0         \n",
            "                                                                 \n",
            " conv2d_33 (Conv2D)          (None, 4, 4, 8)           584       \n",
            "                                                                 \n",
            " up_sampling2d_6 (UpSamplin  (None, 8, 8, 8)           0         \n",
            " g2D)                                                            \n",
            "                                                                 \n",
            " conv2d_34 (Conv2D)          (None, 8, 8, 8)           584       \n",
            "                                                                 \n",
            " up_sampling2d_7 (UpSamplin  (None, 16, 16, 8)         0         \n",
            " g2D)                                                            \n",
            "                                                                 \n",
            " conv2d_35 (Conv2D)          (None, 14, 14, 16)        1168      \n",
            "                                                                 \n",
            " up_sampling2d_8 (UpSamplin  (None, 28, 28, 16)        0         \n",
            " g2D)                                                            \n",
            "                                                                 \n",
            " conv2d_36 (Conv2D)          (None, 28, 28, 1)         145       \n",
            "                                                                 \n",
            "=================================================================\n",
            "Total params: 4385 (17.13 KB)\n",
            "Trainable params: 4385 (17.13 KB)\n",
            "Non-trainable params: 0 (0.00 Byte)\n",
            "_________________________________________________________________\n"
          ]
        }
      ]
    },
    {
      "cell_type": "code",
      "source": [
        "encoder = Model(inputs = autoencoder.input, outputs = autoencoder.get_layer('flatten_6').output)\n",
        "encoder.summary()"
      ],
      "metadata": {
        "colab": {
          "base_uri": "https://localhost:8080/"
        },
        "id": "2JxxG-eJxdo0",
        "outputId": "9bb98974-43de-4270-9db0-f0c18ec6c8f6"
      },
      "execution_count": 75,
      "outputs": [
        {
          "output_type": "stream",
          "name": "stdout",
          "text": [
            "Model: \"model_2\"\n",
            "_________________________________________________________________\n",
            " Layer (type)                Output Shape              Param #   \n",
            "=================================================================\n",
            " conv2d_30_input (InputLaye  [(None, 28, 28, 1)]       0         \n",
            " r)                                                              \n",
            "                                                                 \n",
            " conv2d_30 (Conv2D)          (None, 26, 26, 16)        160       \n",
            "                                                                 \n",
            " max_pooling2d_16 (MaxPooli  (None, 13, 13, 16)        0         \n",
            " ng2D)                                                           \n",
            "                                                                 \n",
            " conv2d_31 (Conv2D)          (None, 13, 13, 8)         1160      \n",
            "                                                                 \n",
            " max_pooling2d_17 (MaxPooli  (None, 7, 7, 8)           0         \n",
            " ng2D)                                                           \n",
            "                                                                 \n",
            " conv2d_32 (Conv2D)          (None, 4, 4, 8)           584       \n",
            "                                                                 \n",
            " flatten_6 (Flatten)         (None, 128)               0         \n",
            "                                                                 \n",
            "=================================================================\n",
            "Total params: 1904 (7.44 KB)\n",
            "Trainable params: 1904 (7.44 KB)\n",
            "Non-trainable params: 0 (0.00 Byte)\n",
            "_________________________________________________________________\n"
          ]
        }
      ]
    },
    {
      "cell_type": "code",
      "source": [
        "coded_test_images = encoder.predict(X_test)"
      ],
      "metadata": {
        "colab": {
          "base_uri": "https://localhost:8080/"
        },
        "id": "SOs3HxwcyJT2",
        "outputId": "b794cced-562d-4014-948d-c7836b3996de"
      },
      "execution_count": 76,
      "outputs": [
        {
          "output_type": "stream",
          "name": "stdout",
          "text": [
            "313/313 [==============================] - 2s 5ms/step\n"
          ]
        }
      ]
    },
    {
      "cell_type": "code",
      "source": [
        "coded_test_images.shape"
      ],
      "metadata": {
        "colab": {
          "base_uri": "https://localhost:8080/"
        },
        "id": "oBE2qXjeyP8I",
        "outputId": "b9901f37-4ed4-45c6-b7e4-130cabf012c9"
      },
      "execution_count": 77,
      "outputs": [
        {
          "output_type": "execute_result",
          "data": {
            "text/plain": [
              "(10000, 128)"
            ]
          },
          "metadata": {},
          "execution_count": 77
        }
      ]
    }
  ]
}
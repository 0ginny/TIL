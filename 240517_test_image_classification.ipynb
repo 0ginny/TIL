{
  "nbformat": 4,
  "nbformat_minor": 0,
  "metadata": {
    "colab": {
      "provenance": [],
      "authorship_tag": "ABX9TyNvpjS/RqP+ER9Ke6WabI/k",
      "include_colab_link": true
    },
    "kernelspec": {
      "name": "python3",
      "display_name": "Python 3"
    },
    "language_info": {
      "name": "python"
    }
  },
  "cells": [
    {
      "cell_type": "markdown",
      "metadata": {
        "id": "view-in-github",
        "colab_type": "text"
      },
      "source": [
        "<a href=\"https://colab.research.google.com/github/0ginny/TIL/blob/main/240517_test_image_classification.ipynb\" target=\"_parent\"><img src=\"https://colab.research.google.com/assets/colab-badge.svg\" alt=\"Open In Colab\"/></a>"
      ]
    },
    {
      "cell_type": "code",
      "source": [
        "from google.colab import drive\n",
        "drive.mount(\"/content/gdrive\")"
      ],
      "metadata": {
        "colab": {
          "base_uri": "https://localhost:8080/"
        },
        "id": "SWHdwEFTk1PS",
        "outputId": "92b8d3be-9a8f-4042-9ca9-bc25230ab4c6"
      },
      "execution_count": 1,
      "outputs": [
        {
          "output_type": "stream",
          "name": "stdout",
          "text": [
            "Mounted at /content/gdrive\n"
          ]
        }
      ]
    },
    {
      "cell_type": "code",
      "source": [
        "%cd /content/gdrive/MyDrive/Colab Notebooks/code2024/Session09 - 시각인지"
      ],
      "metadata": {
        "colab": {
          "base_uri": "https://localhost:8080/"
        },
        "id": "j68xBXaWlMAt",
        "outputId": "06322b38-b046-44d7-cbdd-9c4a2c517a5f"
      },
      "execution_count": 2,
      "outputs": [
        {
          "output_type": "stream",
          "name": "stdout",
          "text": [
            "/content/gdrive/MyDrive/Colab Notebooks/code2024/Session09 - 시각인지\n"
          ]
        }
      ]
    },
    {
      "cell_type": "code",
      "execution_count": 3,
      "metadata": {
        "id": "EjmcX5L6j6NO"
      },
      "outputs": [],
      "source": [
        "import pandas as pd\n",
        "import numpy as np\n",
        "import matplotlib.pyplot as plt\n",
        "\n",
        "from tensorflow import keras\n",
        "import tensorflow as tf\n",
        "from tensorflow.keras.layers import Dense, Conv2D, MaxPooling2D, Flatten, Dropout\n",
        "from tensorflow.keras import Sequential\n",
        "\n",
        "from sklearn.preprocessing import OneHotEncoder\n",
        "from sklearn.model_selection import train_test_split\n",
        "\n",
        "import os\n",
        "\n",
        "from tensorflow.keras.preprocessing.image import ImageDataGenerator"
      ]
    },
    {
      "cell_type": "code",
      "source": [
        "import cv2"
      ],
      "metadata": {
        "id": "VlUqMQVYoIXG"
      },
      "execution_count": 10,
      "outputs": []
    },
    {
      "cell_type": "code",
      "source": [
        "base_path ='./images/gender2'\n",
        "categories = os.listdir(base_path)\n",
        "categories"
      ],
      "metadata": {
        "colab": {
          "base_uri": "https://localhost:8080/"
        },
        "id": "mdU-5JAqlhhI",
        "outputId": "f27e7f41-fb90-4fd2-9ed8-f16b7cf259ab"
      },
      "execution_count": 8,
      "outputs": [
        {
          "output_type": "execute_result",
          "data": {
            "text/plain": [
              "['male', 'female']"
            ]
          },
          "metadata": {},
          "execution_count": 8
        }
      ]
    },
    {
      "cell_type": "code",
      "source": [
        "img = cv2.imread('./images/gender2/male/15_0_1_20170113180633029.jpg.chip.jpg',cv2.IMREAD_GRAYSCALE)\n",
        "img.shape"
      ],
      "metadata": {
        "colab": {
          "base_uri": "https://localhost:8080/"
        },
        "id": "zsR6X0G2pFKK",
        "outputId": "773c4160-8f01-43e5-ed7a-3815d7625c0f"
      },
      "execution_count": 13,
      "outputs": [
        {
          "output_type": "execute_result",
          "data": {
            "text/plain": [
              "(200, 200)"
            ]
          },
          "metadata": {},
          "execution_count": 13
        }
      ]
    },
    {
      "cell_type": "code",
      "source": [
        "os.listdir('./images/gender2/male')"
      ],
      "metadata": {
        "colab": {
          "base_uri": "https://localhost:8080/"
        },
        "id": "Ia6vAkshpyWH",
        "outputId": "0d01bfb0-bdb6-4446-ad8c-baf1101c8d10"
      },
      "execution_count": 16,
      "outputs": [
        {
          "output_type": "execute_result",
          "data": {
            "text/plain": [
              "['15_0_2_20170102235056163.jpg.chip.jpg',\n",
              " '15_0_3_20170104225537649.jpg.chip.jpg',\n",
              " '16_0_0_20170110231219975.jpg.chip.jpg',\n",
              " '16_0_0_20170110231814139.jpg.chip.jpg',\n",
              " '16_0_0_20170110231221050.jpg.chip.jpg',\n",
              " '16_0_0_20170110231215944.jpg.chip.jpg',\n",
              " '16_0_0_20170104012305505.jpg.chip.jpg',\n",
              " '15_0_1_20170120134502877.jpg.chip.jpg',\n",
              " '16_0_0_20170110232218902.jpg.chip.jpg',\n",
              " '16_0_0_20170110231648820.jpg.chip.jpg',\n",
              " '15_0_3_20170105183235993.jpg.chip.jpg',\n",
              " '16_0_0_20170110232307970.jpg.chip.jpg',\n",
              " '16_0_0_20170110231218369.jpg.chip.jpg',\n",
              " '16_0_0_20170110232429214.jpg.chip.jpg',\n",
              " '16_0_0_20170110231647962.jpg.chip.jpg',\n",
              " '15_0_1_20170117135556256.jpg.chip.jpg',\n",
              " '16_0_0_20170110232315216.jpg.chip.jpg',\n",
              " '16_0_0_20170110231517869.jpg.chip.jpg',\n",
              " '16_0_0_20170110231726179.jpg.chip.jpg',\n",
              " '16_0_0_20170110231916206.jpg.chip.jpg',\n",
              " '16_0_0_20170110232313053.jpg.chip.jpg',\n",
              " '16_0_0_20170110232217844.jpg.chip.jpg',\n",
              " '15_0_1_20170117135108912.jpg.chip.jpg',\n",
              " '16_0_0_20170110231529568.jpg.chip.jpg',\n",
              " '16_0_0_20170110232012908.jpg.chip.jpg',\n",
              " '16_0_0_20170110231617005.jpg.chip.jpg',\n",
              " '16_0_0_20170104003740977.jpg.chip.jpg',\n",
              " '15_0_3_20170104225906465.jpg.chip.jpg',\n",
              " '16_0_0_20170110232142982.jpg.chip.jpg',\n",
              " '15_0_4_20170103201013615.jpg.chip.jpg',\n",
              " '16_0_0_20170110232038257.jpg.chip.jpg',\n",
              " '16_0_0_20170104012325066.jpg.chip.jpg',\n",
              " '16_0_0_20170110232200900.jpg.chip.jpg',\n",
              " '16_0_0_20170110231811882.jpg.chip.jpg',\n",
              " '16_0_0_20170110231810810.jpg.chip.jpg',\n",
              " '16_0_0_20170110231627902.jpg.chip.jpg',\n",
              " '16_0_0_20170110231533988.jpg.chip.jpg',\n",
              " '16_0_0_20170110231720674.jpg.chip.jpg',\n",
              " '16_0_0_20170110231759619.jpg.chip.jpg',\n",
              " '16_0_0_20170103201044224.jpg.chip.jpg',\n",
              " '16_0_0_20170110231532894.jpg.chip.jpg',\n",
              " '16_0_0_20170110231919941.jpg.chip.jpg',\n",
              " '16_0_0_20170110231230149.jpg.chip.jpg',\n",
              " '16_0_0_20170110231725022.jpg.chip.jpg',\n",
              " '15_0_3_20170110225627090.jpg.chip.jpg',\n",
              " '16_0_0_20170110232208589.jpg.chip.jpg',\n",
              " '16_0_0_20170110231815815.jpg.chip.jpg',\n",
              " '16_0_0_20170110232332618.jpg.chip.jpg',\n",
              " '16_0_0_20170110232141846.jpg.chip.jpg',\n",
              " '16_0_0_20170110231917206.jpg.chip.jpg',\n",
              " '15_0_2_20170104011938218.jpg.chip.jpg',\n",
              " '15_0_4_20170103201002253.jpg.chip.jpg',\n",
              " '16_0_0_20170110231707270.jpg.chip.jpg',\n",
              " '16_0_0_20170110231700274.jpg.chip.jpg',\n",
              " '16_0_0_20170104003750790.jpg.chip.jpg',\n",
              " '16_0_0_20170110231841292.jpg.chip.jpg',\n",
              " '16_0_0_20170110232432328.jpg.chip.jpg',\n",
              " '16_0_0_20170110231633585.jpg.chip.jpg',\n",
              " '15_0_2_20161219193832243.jpg.chip.jpg',\n",
              " '16_0_0_20170110231553413.jpg.chip.jpg',\n",
              " '16_0_0_20170110231944071.jpg.chip.jpg',\n",
              " '16_0_0_20170110232316211.jpg.chip.jpg',\n",
              " '16_0_0_20170104012330536.jpg.chip.jpg',\n",
              " '15_0_1_20170113180633029.jpg.chip.jpg',\n",
              " '15_0_3_20170104230418059.jpg.chip.jpg',\n",
              " '16_0_0_20170110232113589.jpg.chip.jpg',\n",
              " '16_0_0_20170104012457770.jpg.chip.jpg',\n",
              " '16_0_0_20170110231801615.jpg.chip.jpg',\n",
              " '16_0_0_20170110225715009.jpg.chip.jpg',\n",
              " '16_0_0_20170110231918993.jpg.chip.jpg']"
            ]
          },
          "metadata": {},
          "execution_count": 16
        }
      ]
    },
    {
      "cell_type": "code",
      "source": [
        "train_images = []\n",
        "train_labels = []\n",
        "W, H = 64, 64\n",
        "for idx,category in enumerate(categories):\n",
        "    dir_path = os.path.join(base_path,category)\n",
        "    for img_name in os.listdir(dir_path):\n",
        "        try:\n",
        "            img_path = os.path.join(dir_path,img_name)\n",
        "            img = cv2.imread(img_path,cv2.IMREAD_GRAYSCALE) # 회색으로 저장\n",
        "            img = cv2.resize(img,dsize = (W,H)) # image size unify\n",
        "            img = img / 255 # rescaling\n",
        "            train_images.append(img)\n",
        "            train_labels.append(idx)\n",
        "        except Exception as e:\n",
        "            pass\n"
      ],
      "metadata": {
        "id": "vN0GSMxzl8Ge"
      },
      "execution_count": 17,
      "outputs": []
    },
    {
      "cell_type": "code",
      "source": [
        "generator = ImageDataGenerator(rescale= 1/255)\n",
        "\n",
        "train_dataset = generator.flow_from_directory(base_path,target_size = (W,H))\n"
      ],
      "metadata": {
        "colab": {
          "base_uri": "https://localhost:8080/"
        },
        "id": "wgXzaW-kwoCL",
        "outputId": "7eaebcad-24fa-4b4c-870b-f3dc8daf2ce9"
      },
      "execution_count": 44,
      "outputs": [
        {
          "output_type": "stream",
          "name": "stdout",
          "text": [
            "Found 134 images belonging to 2 classes.\n"
          ]
        }
      ]
    },
    {
      "cell_type": "code",
      "source": [
        "next(train_dataset)[0].shape"
      ],
      "metadata": {
        "colab": {
          "base_uri": "https://localhost:8080/"
        },
        "id": "mbc1IRgbxXsK",
        "outputId": "4460bcdb-7e2e-47ca-8648-9b3c87263543"
      },
      "execution_count": 51,
      "outputs": [
        {
          "output_type": "execute_result",
          "data": {
            "text/plain": [
              "(32, 64, 64, 3)"
            ]
          },
          "metadata": {},
          "execution_count": 51
        }
      ]
    },
    {
      "cell_type": "code",
      "source": [
        "from google.colab.patches import cv2_imshow\n",
        "cv2_imshow(train_images[0]* 255)"
      ],
      "metadata": {
        "colab": {
          "base_uri": "https://localhost:8080/",
          "height": 81
        },
        "id": "o7XuL6vwn2fn",
        "outputId": "15e0e241-b8c7-4f92-86f8-15d87e32e7a0"
      },
      "execution_count": 24,
      "outputs": [
        {
          "output_type": "display_data",
          "data": {
            "text/plain": [
              "<PIL.Image.Image image mode=L size=64x64>"
            ],
            "image/png": "[encoded data removed]"
          },
          "metadata": {}
        }
      ]
    },
    {
      "cell_type": "code",
      "source": [
        "cv2_imshow(next(train_dataset)[0][0] * 255)"
      ],
      "metadata": {
        "colab": {
          "base_uri": "https://localhost:8080/",
          "height": 81
        },
        "id": "xqb8aaJmyfmT",
        "outputId": "e64be6ce-1c4d-4ac3-d58d-f72304e776d2"
      },
      "execution_count": 53,
      "outputs": [
        {
          "output_type": "display_data",
          "data": {
            "text/plain": [
              "<PIL.Image.Image image mode=RGB size=64x64>"
            ],
            "image/png": "[encoded data removed]"
          },
          "metadata": {}
        }
      ]
    },
    {
      "cell_type": "code",
      "source": [
        "x_train, x_test, y_train,y_test = train_test_split(train_images, train_labels, test_size = .1, stratify= train_labels, random_state = 42, shuffle = True)"
      ],
      "metadata": {
        "id": "BZmyBAWsrY8F"
      },
      "execution_count": 35,
      "outputs": []
    },
    {
      "cell_type": "code",
      "source": [
        "len(x_train), len(y_train)"
      ],
      "metadata": {
        "colab": {
          "base_uri": "https://localhost:8080/"
        },
        "id": "SWVSF3Tzstlb",
        "outputId": "a3624870-72d1-4243-9cd9-a57b945123ca"
      },
      "execution_count": 36,
      "outputs": [
        {
          "output_type": "execute_result",
          "data": {
            "text/plain": [
              "(120, 120)"
            ]
          },
          "metadata": {},
          "execution_count": 36
        }
      ]
    },
    {
      "cell_type": "code",
      "source": [
        "x_train_np = np.reshape(np.array(x_train),(len(x_train),W,H,1))\n",
        "x_train_np.shape"
      ],
      "metadata": {
        "colab": {
          "base_uri": "https://localhost:8080/"
        },
        "id": "TLLdJ_Fnt9F0",
        "outputId": "d3ba2830-dbb9-428f-9fbc-e5f3b7a42122"
      },
      "execution_count": 39,
      "outputs": [
        {
          "output_type": "execute_result",
          "data": {
            "text/plain": [
              "(120, 64, 64, 1)"
            ]
          },
          "metadata": {},
          "execution_count": 39
        }
      ]
    },
    {
      "cell_type": "code",
      "source": [
        "x_test_np = np.reshape(np.array(x_test),(len(x_test),W,H,1))"
      ],
      "metadata": {
        "id": "gbwVHKYAufLL"
      },
      "execution_count": 40,
      "outputs": []
    },
    {
      "cell_type": "code",
      "source": [
        "inputshape = x_train_np[0].shape\n",
        "inputshape"
      ],
      "metadata": {
        "colab": {
          "base_uri": "https://localhost:8080/"
        },
        "id": "HNmDhL6HtPjy",
        "outputId": "9f6188e3-da7b-42c0-d1bd-0c4df7686b4c"
      },
      "execution_count": 42,
      "outputs": [
        {
          "output_type": "execute_result",
          "data": {
            "text/plain": [
              "(64, 64, 1)"
            ]
          },
          "metadata": {},
          "execution_count": 42
        }
      ]
    },
    {
      "cell_type": "code",
      "source": [
        "\n",
        "# model 생성\n",
        "cnn = Sequential()\n",
        "\n",
        "cnn.add(Conv2D(filters = 32, kernel_size = 3, input_shape = inputshape, padding = 'same', activation = 'relu'))\n",
        "cnn.add(Conv2D(filters = 32, kernel_size = 3,  padding = 'same', activation = 'relu'))\n",
        "cnn.add(MaxPooling2D(pool_size = (2,2)))\n",
        "\n",
        "cnn.add(Conv2D(filters = 32, kernel_size = 3,  padding = 'same', activation = 'relu'))\n",
        "cnn.add(Conv2D(filters = 32, kernel_size = 3,  padding = 'same', activation = 'relu'))\n",
        "cnn.add(MaxPooling2D(pool_size = (2,2)))\n",
        "\n",
        "cnn.add(Flatten())\n",
        "cnn.add(Dropout(0.5))\n",
        "\n",
        "cnn.add(Dense(units = 4097, activation = 'relu'))\n",
        "cnn.add(Dropout(0.8))\n",
        "\n",
        "cnn.add(Dense(units = 1 , activation = 'sigmoid'))\n",
        "\n",
        "cnn.summary()"
      ],
      "metadata": {
        "colab": {
          "base_uri": "https://localhost:8080/"
        },
        "id": "lpsh879luvs3",
        "outputId": "b85f9ad2-86b5-410f-f668-305cde509f01"
      },
      "execution_count": 57,
      "outputs": [
        {
          "output_type": "stream",
          "name": "stdout",
          "text": [
            "Model: \"sequential_3\"\n",
            "_________________________________________________________________\n",
            " Layer (type)                Output Shape              Param #   \n",
            "=================================================================\n",
            " conv2d_8 (Conv2D)           (None, 64, 64, 32)        320       \n",
            "                                                                 \n",
            " conv2d_9 (Conv2D)           (None, 64, 64, 32)        9248      \n",
            "                                                                 \n",
            " max_pooling2d_4 (MaxPoolin  (None, 32, 32, 32)        0         \n",
            " g2D)                                                            \n",
            "                                                                 \n",
            " conv2d_10 (Conv2D)          (None, 32, 32, 32)        9248      \n",
            "                                                                 \n",
            " conv2d_11 (Conv2D)          (None, 32, 32, 32)        9248      \n",
            "                                                                 \n",
            " max_pooling2d_5 (MaxPoolin  (None, 16, 16, 32)        0         \n",
            " g2D)                                                            \n",
            "                                                                 \n",
            " flatten_2 (Flatten)         (None, 8192)              0         \n",
            "                                                                 \n",
            " dropout_1 (Dropout)         (None, 8192)              0         \n",
            "                                                                 \n",
            " dense_1 (Dense)             (None, 4097)              33566721  \n",
            "                                                                 \n",
            " dropout_2 (Dropout)         (None, 4097)              0         \n",
            "                                                                 \n",
            " dense_2 (Dense)             (None, 1)                 4098      \n",
            "                                                                 \n",
            "=================================================================\n",
            "Total params: 33598883 (128.17 MB)\n",
            "Trainable params: 33598883 (128.17 MB)\n",
            "Non-trainable params: 0 (0.00 Byte)\n",
            "_________________________________________________________________\n"
          ]
        }
      ]
    },
    {
      "cell_type": "code",
      "source": [
        "cnn.compile(optimizer = 'Adam', loss = 'binary_crossentropy', metrics= ['accuracy'])"
      ],
      "metadata": {
        "id": "SD6p_jKU3n1f"
      },
      "execution_count": 58,
      "outputs": []
    },
    {
      "cell_type": "code",
      "source": [
        "y_train_np = np.array(y_train)"
      ],
      "metadata": {
        "id": "Dyr5GvzY5HlU"
      },
      "execution_count": 66,
      "outputs": []
    },
    {
      "cell_type": "code",
      "source": [
        "y_train_np.shape"
      ],
      "metadata": {
        "colab": {
          "base_uri": "https://localhost:8080/"
        },
        "id": "4Ply851N5Rxj",
        "outputId": "d3de0f80-7b9a-4805-fe27-45e527a338f5"
      },
      "execution_count": 69,
      "outputs": [
        {
          "output_type": "execute_result",
          "data": {
            "text/plain": [
              "(120,)"
            ]
          },
          "metadata": {},
          "execution_count": 69
        }
      ]
    },
    {
      "cell_type": "code",
      "source": [
        "history = cnn.fit(x_train_np, y_train_np, batch_size = 32, epochs = 20)"
      ],
      "metadata": {
        "colab": {
          "base_uri": "https://localhost:8080/"
        },
        "id": "VTXVmV8h3z2S",
        "outputId": "51e1a2a7-d10f-4851-c7fa-43051fb0863e"
      },
      "execution_count": 71,
      "outputs": [
        {
          "output_type": "stream",
          "name": "stdout",
          "text": [
            "Epoch 1/20\n",
            "4/4 [==============================] - 3s 720ms/step - loss: 0.2149 - accuracy: 0.9333\n",
            "Epoch 2/20\n",
            "4/4 [==============================] - 3s 724ms/step - loss: 0.1778 - accuracy: 0.9250\n",
            "Epoch 3/20\n",
            "4/4 [==============================] - 4s 979ms/step - loss: 0.1660 - accuracy: 0.9167\n",
            "Epoch 4/20\n",
            "4/4 [==============================] - 3s 728ms/step - loss: 0.1307 - accuracy: 0.9500\n",
            "Epoch 5/20\n",
            "4/4 [==============================] - 3s 718ms/step - loss: 0.1072 - accuracy: 0.9417\n",
            "Epoch 6/20\n",
            "4/4 [==============================] - 3s 689ms/step - loss: 0.1824 - accuracy: 0.9250\n",
            "Epoch 7/20\n",
            "4/4 [==============================] - 4s 1s/step - loss: 0.0786 - accuracy: 0.9833\n",
            "Epoch 8/20\n",
            "4/4 [==============================] - 3s 734ms/step - loss: 0.0796 - accuracy: 0.9833\n",
            "Epoch 9/20\n",
            "4/4 [==============================] - 3s 699ms/step - loss: 0.0792 - accuracy: 0.9667\n",
            "Epoch 10/20\n",
            "4/4 [==============================] - 3s 766ms/step - loss: 0.0504 - accuracy: 0.9917\n",
            "Epoch 11/20\n",
            "4/4 [==============================] - 4s 965ms/step - loss: 0.0248 - accuracy: 1.0000\n",
            "Epoch 12/20\n",
            "4/4 [==============================] - 3s 745ms/step - loss: 0.0333 - accuracy: 0.9833\n",
            "Epoch 13/20\n",
            "4/4 [==============================] - 3s 696ms/step - loss: 0.0226 - accuracy: 0.9917\n",
            "Epoch 14/20\n",
            "4/4 [==============================] - 3s 705ms/step - loss: 0.0280 - accuracy: 0.9917\n",
            "Epoch 15/20\n",
            "4/4 [==============================] - 3s 795ms/step - loss: 0.0321 - accuracy: 0.9917\n",
            "Epoch 16/20\n",
            "4/4 [==============================] - 4s 923ms/step - loss: 0.0150 - accuracy: 1.0000\n",
            "Epoch 17/20\n",
            "4/4 [==============================] - 3s 713ms/step - loss: 0.0511 - accuracy: 0.9750\n",
            "Epoch 18/20\n",
            "4/4 [==============================] - 3s 724ms/step - loss: 0.0161 - accuracy: 1.0000\n",
            "Epoch 19/20\n",
            "4/4 [==============================] - 3s 747ms/step - loss: 0.0320 - accuracy: 0.9917\n",
            "Epoch 20/20\n",
            "4/4 [==============================] - 4s 1s/step - loss: 0.0150 - accuracy: 1.0000\n"
          ]
        }
      ]
    },
    {
      "cell_type": "code",
      "source": [
        "predict = cnn.predict(x_test_np)"
      ],
      "metadata": {
        "colab": {
          "base_uri": "https://localhost:8080/"
        },
        "id": "neAViR6g5vTH",
        "outputId": "b1ef3600-8cf5-4bfe-d420-f3d71bb9219b"
      },
      "execution_count": 73,
      "outputs": [
        {
          "output_type": "stream",
          "name": "stdout",
          "text": [
            "1/1 [==============================] - 0s 162ms/step\n"
          ]
        }
      ]
    },
    {
      "cell_type": "code",
      "source": [
        "y_test_np = np.array(y_test)"
      ],
      "metadata": {
        "id": "r13W50Fy58rY"
      },
      "execution_count": 74,
      "outputs": []
    },
    {
      "cell_type": "code",
      "source": [
        "from sklearn.preprocessing import accuracy\n"
      ],
      "metadata": {
        "id": "6GoKDWbA6ujm"
      },
      "execution_count": null,
      "outputs": []
    },
    {
      "cell_type": "markdown",
      "source": [
        "궁금한 것\n",
        "1. imagedatagenerator는 실무에서 안쓰이나? 그러면 왜 안쓰이나?\n",
        "2. os 형식으로 데이터를 수집했을 때, shuffle은 어떻게 하나? list shuffle 하면 라벨링이 안되지 않나?\n",
        "3. cnn 정확도가 너무 안나올 때 뭘 해야하나? 이미지 전처리 문제인가?"
      ],
      "metadata": {
        "id": "lmEIy5l1x36G"
      }
    }
  ]
}
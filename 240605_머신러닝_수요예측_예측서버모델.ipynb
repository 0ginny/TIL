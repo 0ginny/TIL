{
  "nbformat": 4,
  "nbformat_minor": 0,
  "metadata": {
    "colab": {
      "provenance": [],
      "authorship_tag": "ABX9TyOtBhrT4s91dlDe3ABYpEkA",
      "include_colab_link": true
    },
    "kernelspec": {
      "name": "python3",
      "display_name": "Python 3"
    },
    "language_info": {
      "name": "python"
    }
  },
  "cells": [
    {
      "cell_type": "markdown",
      "metadata": {
        "id": "view-in-github",
        "colab_type": "text"
      },
      "source": [
        "<a href=\"https://colab.research.google.com/github/0ginny/TIL/blob/main/240605_%EB%A8%B8%EC%8B%A0%EB%9F%AC%EB%8B%9D_%EC%88%98%EC%9A%94%EC%98%88%EC%B8%A1_%EC%98%88%EC%B8%A1%EC%84%9C%EB%B2%84%EB%AA%A8%EB%8D%B8.ipynb\" target=\"_parent\"><img src=\"https://colab.research.google.com/assets/colab-badge.svg\" alt=\"Open In Colab\"/></a>"
      ]
    },
    {
      "cell_type": "code",
      "execution_count": 31,
      "metadata": {
        "id": "t5KVazvQj5DT"
      },
      "outputs": [],
      "source": [
        "# pickle 형태 model 불러오기\n",
        "import pickle\n",
        "# 행과 열을 다루기\n",
        "import pandas as pd\n",
        "import numpy as np"
      ]
    },
    {
      "cell_type": "code",
      "source": [
        "# 서버 관리용 fastapi 의존 라이브러리\n",
        "# !pip install uvicorn\n",
        "import uvicorn"
      ],
      "metadata": {
        "collapsed": true,
        "id": "L4byDcxApt3z"
      },
      "execution_count": 32,
      "outputs": []
    },
    {
      "cell_type": "code",
      "source": [
        "# !pip install fastapi\n",
        "from fastapi import FastAPI"
      ],
      "metadata": {
        "collapsed": true,
        "id": "ZefZHKdjqE6V"
      },
      "execution_count": 33,
      "outputs": []
    },
    {
      "cell_type": "code",
      "source": [
        "# 인터페이스 데이터 관리\n",
        "from pydantic import BaseModel"
      ],
      "metadata": {
        "id": "3IMmGQBtqSpW"
      },
      "execution_count": 34,
      "outputs": []
    },
    {
      "cell_type": "code",
      "source": [
        "# crossover(보안문제) 해결 라이브러리\n",
        "from fastapi.middleware.cors import CORSMiddleware"
      ],
      "metadata": {
        "id": "TQ0j9st4qsIM"
      },
      "execution_count": 35,
      "outputs": []
    },
    {
      "cell_type": "code",
      "source": [
        "origins = [\"*\"]\n",
        "app = FastAPI(title=\"GINNY ML API\")\n",
        "# CORS 미들웨어 추가\n",
        "app.add_middleware(\n",
        "CORSMiddleware,\n",
        "allow_origins=[\"*\"], # 모든 origin 허용\n",
        "allow_credentials=True,\n",
        "allow_methods=[\"GET\", \"POST\", \"PUT\", \"DELETE\"], # 모든 방식 다 사용\n",
        "allow_headers=[\"*\"],\n",
        ")"
      ],
      "metadata": {
        "id": "fBnHj0rwrLoy"
      },
      "execution_count": 52,
      "outputs": []
    },
    {
      "cell_type": "code",
      "source": [
        "# !pip install nest-asyncio pyngrok\n",
        "import nest_asyncio\n",
        "from pyngrok import ngrok\n",
        "import uvicorn"
      ],
      "metadata": {
        "id": "45j8owqW1shC"
      },
      "execution_count": 61,
      "outputs": []
    },
    {
      "cell_type": "markdown",
      "source": [
        "## 0. 입력 클래스 선언"
      ],
      "metadata": {
        "id": "IFdvKCn8sOdd"
      }
    },
    {
      "cell_type": "code",
      "source": [
        "# 변경포인트\n",
        "class InDataset(BaseModel):\n",
        "    inHclus : int\n",
        "    inPropercent : float\n",
        "    inPromotion : str\n",
        "    inHoliday : str"
      ],
      "metadata": {
        "id": "28H2qD2FsRz-"
      },
      "execution_count": 54,
      "outputs": []
    },
    {
      "cell_type": "markdown",
      "source": [
        "## 1. 학습모델 불러오기"
      ],
      "metadata": {
        "id": "oqWnaKhHkrMc"
      }
    },
    {
      "cell_type": "code",
      "source": [
        "with open(\"240605_first_QTY_regretion.dump\",'rb') as fr:\n",
        "    loadedDump = pickle.load(fr)"
      ],
      "metadata": {
        "id": "j8v39Zquk0gS"
      },
      "execution_count": 55,
      "outputs": []
    },
    {
      "cell_type": "code",
      "source": [
        "features = loadedDump[\"features\"]\n",
        "label = loadedDump[\"label\"]\n",
        "preprocessing = loadedDump[\"preprocessing\"]\n",
        "loadedModel = loadedDump[\"model\"]"
      ],
      "metadata": {
        "id": "iI9AZPbblRu9"
      },
      "execution_count": 56,
      "outputs": []
    },
    {
      "cell_type": "markdown",
      "source": [
        "## 2. 예측 시뮬레이션"
      ],
      "metadata": {
        "id": "2pzArniekvhc"
      }
    },
    {
      "cell_type": "code",
      "source": [
        "@app.post(\"/predict\",status_code=200) # 신호가 정상일때만 작동. ip:port/predict 될때 작동.\n",
        "async def predictSellout(x:InDataset) -> dict: # inDataset 형식인지 적합성 평가\n",
        "    inHclus = x.inHclus\n",
        "    inPropercent = x.inPropercent\n",
        "    inHoliday = x.inHoliday\n",
        "    inPromotion = x.inPromotion\n",
        "\n",
        "    # 전처리\n",
        "    inHolidayConv = preprocessing[2].transform([inHoliday])[0]\n",
        "    inPromotionConv = preprocessing[3].transform([inPromotion])[0]\n",
        "    inDf = pd.DataFrame([[inHclus,inPropercent,inHolidayConv,inPromotionConv]])\n",
        "    predictValue = loadedModel.predict(inDf)[0]\n",
        "    result = {'prediction' : predictValue}\n",
        "    return result"
      ],
      "metadata": {
        "id": "kTPdydShtWLf"
      },
      "execution_count": 63,
      "outputs": []
    },
    {
      "cell_type": "code",
      "source": [
        "# 작동 확인용 코드\n",
        "@app.get(\"/\")\n",
        "async def root():\n",
        "    return {\"message\":\"server is running\"}"
      ],
      "metadata": {
        "id": "TcyWK96w2aNT"
      },
      "execution_count": 64,
      "outputs": []
    },
    {
      "cell_type": "code",
      "source": [
        "# 서버 작동\n",
        "auth_token = \"MY_TOKEN\"\n",
        "ngrok.set_auth_token(auth_token)\n",
        "ngrokTunnel = ngrok.connect(8000)\n",
        "print(\"공용 URL\", ngrokTunnel.public_url)\n",
        "nest_asyncio.apply()\n",
        "uvicorn.run(app, port=8000)"
      ],
      "metadata": {
        "id": "x1upYmvw2WBL"
      },
      "execution_count": null,
      "outputs": []
    }
  ]
}
{
  "nbformat": 4,
  "nbformat_minor": 0,
  "metadata": {
    "colab": {
      "provenance": [],
      "authorship_tag": "ABX9TyMxZoC37Jns21BXrWD28gyY",
      "include_colab_link": true
    },
    "kernelspec": {
      "name": "python3",
      "display_name": "Python 3"
    },
    "language_info": {
      "name": "python"
    }
  },
  "cells": [
    {
      "cell_type": "markdown",
      "metadata": {
        "id": "view-in-github",
        "colab_type": "text"
      },
      "source": [
        "<a href=\"https://colab.research.google.com/github/0ginny/TIL/blob/main/240605_%EB%A8%B8%EC%8B%A0%EB%9F%AC%EB%8B%9D_%EC%88%98%EC%9A%94%EC%98%88%EC%B8%A1_%ED%9B%88%EB%A0%A8%EB%AA%A8%EB%8D%B8.ipynb\" target=\"_parent\"><img src=\"https://colab.research.google.com/assets/colab-badge.svg\" alt=\"Open In Colab\"/></a>"
      ]
    },
    {
      "cell_type": "markdown",
      "source": [
        "# 주제 : 머신러닝 수요 예측"
      ],
      "metadata": {
        "id": "-7ZDcyhjy6PN"
      }
    },
    {
      "cell_type": "markdown",
      "source": [
        "## 0. 라이브러리 불러오기"
      ],
      "metadata": {
        "id": "hXbBZLlczYy-"
      }
    },
    {
      "cell_type": "code",
      "source": [
        "### 데이터 다루는 라이브러리\n",
        "import pandas as pd\n",
        "import numpy as np\n",
        "### 머신러닝 라이브러리\n",
        "from sklearn import tree\n",
        "### 시각화 라이브러리\n",
        "import matplotlib.pyplot as plt"
      ],
      "metadata": {
        "id": "dFmvuM5xzcUg"
      },
      "execution_count": 1,
      "outputs": []
    },
    {
      "cell_type": "code",
      "source": [
        "from sklearn.preprocessing import LabelEncoder"
      ],
      "metadata": {
        "id": "CC7bauUr8fdo"
      },
      "execution_count": 11,
      "outputs": []
    },
    {
      "cell_type": "code",
      "source": [
        "from sklearn.model_selection import train_test_split"
      ],
      "metadata": {
        "id": "7eNNQw9uBvZ5"
      },
      "execution_count": 52,
      "outputs": []
    },
    {
      "cell_type": "code",
      "source": [
        "from sklearn.tree import plot_tree"
      ],
      "metadata": {
        "id": "DLPMLVpKEvZO"
      },
      "execution_count": 61,
      "outputs": []
    },
    {
      "cell_type": "code",
      "source": [
        "import pickle"
      ],
      "metadata": {
        "id": "V4ZFOsiFNHFM"
      },
      "execution_count": 79,
      "outputs": []
    },
    {
      "cell_type": "markdown",
      "source": [
        "### 데이터 불러오"
      ],
      "metadata": {
        "id": "YVzNYz3wz32P"
      }
    },
    {
      "cell_type": "code",
      "source": [
        "# https://github.com/hyokwan -> python-lect -> dataset\n",
        "data_url = \"https://raw.githubusercontent.com/hyokwan/python-lecture/master/dataset/feature_regression_example.csv\"\n",
        "featuresData = pd.read_csv(data_url)"
      ],
      "metadata": {
        "id": "AQ3hIlRjz6Z4"
      },
      "execution_count": 3,
      "outputs": []
    },
    {
      "cell_type": "code",
      "source": [
        "featuresData.head()"
      ],
      "metadata": {
        "colab": {
          "base_uri": "https://localhost:8080/",
          "height": 206
        },
        "id": "D45oHO940tCP",
        "outputId": "4e947148-9895-4ded-feb5-dc54d5db22af"
      },
      "execution_count": 5,
      "outputs": [
        {
          "output_type": "execute_result",
          "data": {
            "text/plain": [
              "         REGIONID PRODUCTGROUP      PRODUCT      ITEM  YEARWEEK  YEAR  WEEK  \\\n",
              "0  SEOUL_BANK_001         PG02  PRODUCT0010  ITEM0115    201501  2015     1   \n",
              "1  SEOUL_BANK_001         PG02  PRODUCT0010  ITEM0115    201502  2015     2   \n",
              "2  SEOUL_BANK_001         PG02  PRODUCT0010  ITEM0115    201503  2015     3   \n",
              "3  SEOUL_BANK_001         PG02  PRODUCT0010  ITEM0115    201504  2015     4   \n",
              "4  SEOUL_BANK_001         PG02  PRODUCT0010  ITEM0115    201505  2015     5   \n",
              "\n",
              "    QTY HOLIDAY  HCLUS PROMOTION  PRO_PERCENT  \n",
              "0  1225       Y      1         Y     0.209442  \n",
              "1   968       N      4         Y     0.209442  \n",
              "2  1209       N      4         Y     0.208155  \n",
              "3  1810       Y      2         Y     0.208155  \n",
              "4  1773       N      4         Y     0.208155  "
            ],
            "text/html": [
              "\n",
              "  <div id=\"df-31a7f3da-5b45-4714-b096-f33594aa63c9\" class=\"colab-df-container\">\n",
              "    <div>\n",
              "<style scoped>\n",
              "    .dataframe tbody tr th:only-of-type {\n",
              "        vertical-align: middle;\n",
              "    }\n",
              "\n",
              "    .dataframe tbody tr th {\n",
              "        vertical-align: top;\n",
              "    }\n",
              "\n",
              "    .dataframe thead th {\n",
              "        text-align: right;\n",
              "    }\n",
              "</style>\n",
              "<table border=\"1\" class=\"dataframe\">\n",
              "  <thead>\n",
              "    <tr style=\"text-align: right;\">\n",
              "      <th></th>\n",
              "      <th>REGIONID</th>\n",
              "      <th>PRODUCTGROUP</th>\n",
              "      <th>PRODUCT</th>\n",
              "      <th>ITEM</th>\n",
              "      <th>YEARWEEK</th>\n",
              "      <th>YEAR</th>\n",
              "      <th>WEEK</th>\n",
              "      <th>QTY</th>\n",
              "      <th>HOLIDAY</th>\n",
              "      <th>HCLUS</th>\n",
              "      <th>PROMOTION</th>\n",
              "      <th>PRO_PERCENT</th>\n",
              "    </tr>\n",
              "  </thead>\n",
              "  <tbody>\n",
              "    <tr>\n",
              "      <th>0</th>\n",
              "      <td>SEOUL_BANK_001</td>\n",
              "      <td>PG02</td>\n",
              "      <td>PRODUCT0010</td>\n",
              "      <td>ITEM0115</td>\n",
              "      <td>201501</td>\n",
              "      <td>2015</td>\n",
              "      <td>1</td>\n",
              "      <td>1225</td>\n",
              "      <td>Y</td>\n",
              "      <td>1</td>\n",
              "      <td>Y</td>\n",
              "      <td>0.209442</td>\n",
              "    </tr>\n",
              "    <tr>\n",
              "      <th>1</th>\n",
              "      <td>SEOUL_BANK_001</td>\n",
              "      <td>PG02</td>\n",
              "      <td>PRODUCT0010</td>\n",
              "      <td>ITEM0115</td>\n",
              "      <td>201502</td>\n",
              "      <td>2015</td>\n",
              "      <td>2</td>\n",
              "      <td>968</td>\n",
              "      <td>N</td>\n",
              "      <td>4</td>\n",
              "      <td>Y</td>\n",
              "      <td>0.209442</td>\n",
              "    </tr>\n",
              "    <tr>\n",
              "      <th>2</th>\n",
              "      <td>SEOUL_BANK_001</td>\n",
              "      <td>PG02</td>\n",
              "      <td>PRODUCT0010</td>\n",
              "      <td>ITEM0115</td>\n",
              "      <td>201503</td>\n",
              "      <td>2015</td>\n",
              "      <td>3</td>\n",
              "      <td>1209</td>\n",
              "      <td>N</td>\n",
              "      <td>4</td>\n",
              "      <td>Y</td>\n",
              "      <td>0.208155</td>\n",
              "    </tr>\n",
              "    <tr>\n",
              "      <th>3</th>\n",
              "      <td>SEOUL_BANK_001</td>\n",
              "      <td>PG02</td>\n",
              "      <td>PRODUCT0010</td>\n",
              "      <td>ITEM0115</td>\n",
              "      <td>201504</td>\n",
              "      <td>2015</td>\n",
              "      <td>4</td>\n",
              "      <td>1810</td>\n",
              "      <td>Y</td>\n",
              "      <td>2</td>\n",
              "      <td>Y</td>\n",
              "      <td>0.208155</td>\n",
              "    </tr>\n",
              "    <tr>\n",
              "      <th>4</th>\n",
              "      <td>SEOUL_BANK_001</td>\n",
              "      <td>PG02</td>\n",
              "      <td>PRODUCT0010</td>\n",
              "      <td>ITEM0115</td>\n",
              "      <td>201505</td>\n",
              "      <td>2015</td>\n",
              "      <td>5</td>\n",
              "      <td>1773</td>\n",
              "      <td>N</td>\n",
              "      <td>4</td>\n",
              "      <td>Y</td>\n",
              "      <td>0.208155</td>\n",
              "    </tr>\n",
              "  </tbody>\n",
              "</table>\n",
              "</div>\n",
              "    <div class=\"colab-df-buttons\">\n",
              "\n",
              "  <div class=\"colab-df-container\">\n",
              "    <button class=\"colab-df-convert\" onclick=\"convertToInteractive('df-31a7f3da-5b45-4714-b096-f33594aa63c9')\"\n",
              "            title=\"Convert this dataframe to an interactive table.\"\n",
              "            style=\"display:none;\">\n",
              "\n",
              "  <svg xmlns=\"http://www.w3.org/2000/svg\" height=\"24px\" viewBox=\"0 -960 960 960\">\n",
              "    <path d=\"M120-120v-720h720v720H120Zm60-500h600v-160H180v160Zm220 220h160v-160H400v160Zm0 220h160v-160H400v160ZM180-400h160v-160H180v160Zm440 0h160v-160H620v160ZM180-180h160v-160H180v160Zm440 0h160v-160H620v160Z\"/>\n",
              "  </svg>\n",
              "    </button>\n",
              "\n",
              "  <style>\n",
              "    .colab-df-container {\n",
              "      display:flex;\n",
              "      gap: 12px;\n",
              "    }\n",
              "\n",
              "    .colab-df-convert {\n",
              "      background-color: #E8F0FE;\n",
              "      border: none;\n",
              "      border-radius: 50%;\n",
              "      cursor: pointer;\n",
              "      display: none;\n",
              "      fill: #1967D2;\n",
              "      height: 32px;\n",
              "      padding: 0 0 0 0;\n",
              "      width: 32px;\n",
              "    }\n",
              "\n",
              "    .colab-df-convert:hover {\n",
              "      background-color: #E2EBFA;\n",
              "      box-shadow: 0px 1px 2px rgba(60, 64, 67, 0.3), 0px 1px 3px 1px rgba(60, 64, 67, 0.15);\n",
              "      fill: #174EA6;\n",
              "    }\n",
              "\n",
              "    .colab-df-buttons div {\n",
              "      margin-bottom: 4px;\n",
              "    }\n",
              "\n",
              "    [theme=dark] .colab-df-convert {\n",
              "      background-color: #3B4455;\n",
              "      fill: #D2E3FC;\n",
              "    }\n",
              "\n",
              "    [theme=dark] .colab-df-convert:hover {\n",
              "      background-color: #434B5C;\n",
              "      box-shadow: 0px 1px 3px 1px rgba(0, 0, 0, 0.15);\n",
              "      filter: drop-shadow(0px 1px 2px rgba(0, 0, 0, 0.3));\n",
              "      fill: #FFFFFF;\n",
              "    }\n",
              "  </style>\n",
              "\n",
              "    <script>\n",
              "      const buttonEl =\n",
              "        document.querySelector('#df-31a7f3da-5b45-4714-b096-f33594aa63c9 button.colab-df-convert');\n",
              "      buttonEl.style.display =\n",
              "        google.colab.kernel.accessAllowed ? 'block' : 'none';\n",
              "\n",
              "      async function convertToInteractive(key) {\n",
              "        const element = document.querySelector('#df-31a7f3da-5b45-4714-b096-f33594aa63c9');\n",
              "        const dataTable =\n",
              "          await google.colab.kernel.invokeFunction('convertToInteractive',\n",
              "                                                    [key], {});\n",
              "        if (!dataTable) return;\n",
              "\n",
              "        const docLinkHtml = 'Like what you see? Visit the ' +\n",
              "          '<a target=\"_blank\" href=https://colab.research.google.com/notebooks/data_table.ipynb>data table notebook</a>'\n",
              "          + ' to learn more about interactive tables.';\n",
              "        element.innerHTML = '';\n",
              "        dataTable['output_type'] = 'display_data';\n",
              "        await google.colab.output.renderOutput(dataTable, element);\n",
              "        const docLink = document.createElement('div');\n",
              "        docLink.innerHTML = docLinkHtml;\n",
              "        element.appendChild(docLink);\n",
              "      }\n",
              "    </script>\n",
              "  </div>\n",
              "\n",
              "\n",
              "<div id=\"df-922652a7-99ac-4fb3-bb70-1833bbab3326\">\n",
              "  <button class=\"colab-df-quickchart\" onclick=\"quickchart('df-922652a7-99ac-4fb3-bb70-1833bbab3326')\"\n",
              "            title=\"Suggest charts\"\n",
              "            style=\"display:none;\">\n",
              "\n",
              "<svg xmlns=\"http://www.w3.org/2000/svg\" height=\"24px\"viewBox=\"0 0 24 24\"\n",
              "     width=\"24px\">\n",
              "    <g>\n",
              "        <path d=\"M19 3H5c-1.1 0-2 .9-2 2v14c0 1.1.9 2 2 2h14c1.1 0 2-.9 2-2V5c0-1.1-.9-2-2-2zM9 17H7v-7h2v7zm4 0h-2V7h2v10zm4 0h-2v-4h2v4z\"/>\n",
              "    </g>\n",
              "</svg>\n",
              "  </button>\n",
              "\n",
              "<style>\n",
              "  .colab-df-quickchart {\n",
              "      --bg-color: #E8F0FE;\n",
              "      --fill-color: #1967D2;\n",
              "      --hover-bg-color: #E2EBFA;\n",
              "      --hover-fill-color: #174EA6;\n",
              "      --disabled-fill-color: #AAA;\n",
              "      --disabled-bg-color: #DDD;\n",
              "  }\n",
              "\n",
              "  [theme=dark] .colab-df-quickchart {\n",
              "      --bg-color: #3B4455;\n",
              "      --fill-color: #D2E3FC;\n",
              "      --hover-bg-color: #434B5C;\n",
              "      --hover-fill-color: #FFFFFF;\n",
              "      --disabled-bg-color: #3B4455;\n",
              "      --disabled-fill-color: #666;\n",
              "  }\n",
              "\n",
              "  .colab-df-quickchart {\n",
              "    background-color: var(--bg-color);\n",
              "    border: none;\n",
              "    border-radius: 50%;\n",
              "    cursor: pointer;\n",
              "    display: none;\n",
              "    fill: var(--fill-color);\n",
              "    height: 32px;\n",
              "    padding: 0;\n",
              "    width: 32px;\n",
              "  }\n",
              "\n",
              "  .colab-df-quickchart:hover {\n",
              "    background-color: var(--hover-bg-color);\n",
              "    box-shadow: 0 1px 2px rgba(60, 64, 67, 0.3), 0 1px 3px 1px rgba(60, 64, 67, 0.15);\n",
              "    fill: var(--button-hover-fill-color);\n",
              "  }\n",
              "\n",
              "  .colab-df-quickchart-complete:disabled,\n",
              "  .colab-df-quickchart-complete:disabled:hover {\n",
              "    background-color: var(--disabled-bg-color);\n",
              "    fill: var(--disabled-fill-color);\n",
              "    box-shadow: none;\n",
              "  }\n",
              "\n",
              "  .colab-df-spinner {\n",
              "    border: 2px solid var(--fill-color);\n",
              "    border-color: transparent;\n",
              "    border-bottom-color: var(--fill-color);\n",
              "    animation:\n",
              "      spin 1s steps(1) infinite;\n",
              "  }\n",
              "\n",
              "  @keyframes spin {\n",
              "    0% {\n",
              "      border-color: transparent;\n",
              "      border-bottom-color: var(--fill-color);\n",
              "      border-left-color: var(--fill-color);\n",
              "    }\n",
              "    20% {\n",
              "      border-color: transparent;\n",
              "      border-left-color: var(--fill-color);\n",
              "      border-top-color: var(--fill-color);\n",
              "    }\n",
              "    30% {\n",
              "      border-color: transparent;\n",
              "      border-left-color: var(--fill-color);\n",
              "      border-top-color: var(--fill-color);\n",
              "      border-right-color: var(--fill-color);\n",
              "    }\n",
              "    40% {\n",
              "      border-color: transparent;\n",
              "      border-right-color: var(--fill-color);\n",
              "      border-top-color: var(--fill-color);\n",
              "    }\n",
              "    60% {\n",
              "      border-color: transparent;\n",
              "      border-right-color: var(--fill-color);\n",
              "    }\n",
              "    80% {\n",
              "      border-color: transparent;\n",
              "      border-right-color: var(--fill-color);\n",
              "      border-bottom-color: var(--fill-color);\n",
              "    }\n",
              "    90% {\n",
              "      border-color: transparent;\n",
              "      border-bottom-color: var(--fill-color);\n",
              "    }\n",
              "  }\n",
              "</style>\n",
              "\n",
              "  <script>\n",
              "    async function quickchart(key) {\n",
              "      const quickchartButtonEl =\n",
              "        document.querySelector('#' + key + ' button');\n",
              "      quickchartButtonEl.disabled = true;  // To prevent multiple clicks.\n",
              "      quickchartButtonEl.classList.add('colab-df-spinner');\n",
              "      try {\n",
              "        const charts = await google.colab.kernel.invokeFunction(\n",
              "            'suggestCharts', [key], {});\n",
              "      } catch (error) {\n",
              "        console.error('Error during call to suggestCharts:', error);\n",
              "      }\n",
              "      quickchartButtonEl.classList.remove('colab-df-spinner');\n",
              "      quickchartButtonEl.classList.add('colab-df-quickchart-complete');\n",
              "    }\n",
              "    (() => {\n",
              "      let quickchartButtonEl =\n",
              "        document.querySelector('#df-922652a7-99ac-4fb3-bb70-1833bbab3326 button');\n",
              "      quickchartButtonEl.style.display =\n",
              "        google.colab.kernel.accessAllowed ? 'block' : 'none';\n",
              "    })();\n",
              "  </script>\n",
              "</div>\n",
              "\n",
              "    </div>\n",
              "  </div>\n"
            ],
            "application/vnd.google.colaboratory.intrinsic+json": {
              "type": "dataframe",
              "variable_name": "featuresData",
              "summary": "{\n  \"name\": \"featuresData\",\n  \"rows\": 105,\n  \"fields\": [\n    {\n      \"column\": \"REGIONID\",\n      \"properties\": {\n        \"dtype\": \"category\",\n        \"num_unique_values\": 1,\n        \"samples\": [\n          \"SEOUL_BANK_001\"\n        ],\n        \"semantic_type\": \"\",\n        \"description\": \"\"\n      }\n    },\n    {\n      \"column\": \"PRODUCTGROUP\",\n      \"properties\": {\n        \"dtype\": \"category\",\n        \"num_unique_values\": 1,\n        \"samples\": [\n          \"PG02\"\n        ],\n        \"semantic_type\": \"\",\n        \"description\": \"\"\n      }\n    },\n    {\n      \"column\": \"PRODUCT\",\n      \"properties\": {\n        \"dtype\": \"category\",\n        \"num_unique_values\": 1,\n        \"samples\": [\n          \"PRODUCT0010\"\n        ],\n        \"semantic_type\": \"\",\n        \"description\": \"\"\n      }\n    },\n    {\n      \"column\": \"ITEM\",\n      \"properties\": {\n        \"dtype\": \"category\",\n        \"num_unique_values\": 1,\n        \"samples\": [\n          \"ITEM0115\"\n        ],\n        \"semantic_type\": \"\",\n        \"description\": \"\"\n      }\n    },\n    {\n      \"column\": \"YEARWEEK\",\n      \"properties\": {\n        \"dtype\": \"number\",\n        \"std\": 52,\n        \"min\": 201501,\n        \"max\": 201652,\n        \"num_unique_values\": 105,\n        \"samples\": [\n          201531\n        ],\n        \"semantic_type\": \"\",\n        \"description\": \"\"\n      }\n    },\n    {\n      \"column\": \"YEAR\",\n      \"properties\": {\n        \"dtype\": \"number\",\n        \"std\": 0,\n        \"min\": 2015,\n        \"max\": 2016,\n        \"num_unique_values\": 2,\n        \"samples\": [\n          2016\n        ],\n        \"semantic_type\": \"\",\n        \"description\": \"\"\n      }\n    },\n    {\n      \"column\": \"WEEK\",\n      \"properties\": {\n        \"dtype\": \"number\",\n        \"std\": 15,\n        \"min\": 1,\n        \"max\": 53,\n        \"num_unique_values\": 53,\n        \"samples\": [\n          20\n        ],\n        \"semantic_type\": \"\",\n        \"description\": \"\"\n      }\n    },\n    {\n      \"column\": \"QTY\",\n      \"properties\": {\n        \"dtype\": \"number\",\n        \"std\": 820,\n        \"min\": 15,\n        \"max\": 4035,\n        \"num_unique_values\": 100,\n        \"samples\": [\n          1514\n        ],\n        \"semantic_type\": \"\",\n        \"description\": \"\"\n      }\n    },\n    {\n      \"column\": \"HOLIDAY\",\n      \"properties\": {\n        \"dtype\": \"category\",\n        \"num_unique_values\": 2,\n        \"samples\": [\n          \"N\"\n        ],\n        \"semantic_type\": \"\",\n        \"description\": \"\"\n      }\n    },\n    {\n      \"column\": \"HCLUS\",\n      \"properties\": {\n        \"dtype\": \"number\",\n        \"std\": 1,\n        \"min\": 0,\n        \"max\": 4,\n        \"num_unique_values\": 4,\n        \"samples\": [\n          4\n        ],\n        \"semantic_type\": \"\",\n        \"description\": \"\"\n      }\n    },\n    {\n      \"column\": \"PROMOTION\",\n      \"properties\": {\n        \"dtype\": \"category\",\n        \"num_unique_values\": 2,\n        \"samples\": [\n          \"N\"\n        ],\n        \"semantic_type\": \"\",\n        \"description\": \"\"\n      }\n    },\n    {\n      \"column\": \"PRO_PERCENT\",\n      \"properties\": {\n        \"dtype\": \"number\",\n        \"std\": 0.12863568869931824,\n        \"min\": 0.0,\n        \"max\": 0.421888412,\n        \"num_unique_values\": 9,\n        \"samples\": [\n          0.421888412\n        ],\n        \"semantic_type\": \"\",\n        \"description\": \"\"\n      }\n    }\n  ]\n}"
            }
          },
          "metadata": {},
          "execution_count": 5
        }
      ]
    },
    {
      "cell_type": "markdown",
      "source": [
        "## 1. 데이터 타입 통합 및 특성 숫자 칼럼 추가"
      ],
      "metadata": {
        "id": "Af-Cuk5FzFhs"
      }
    },
    {
      "cell_type": "code",
      "source": [
        "featuresData.dtypes"
      ],
      "metadata": {
        "colab": {
          "base_uri": "https://localhost:8080/"
        },
        "id": "oc-uxorgzXap",
        "outputId": "e2d7cfad-6a8e-4399-e10f-ea48bedb2d25"
      },
      "execution_count": 6,
      "outputs": [
        {
          "output_type": "execute_result",
          "data": {
            "text/plain": [
              "REGIONID         object\n",
              "PRODUCTGROUP     object\n",
              "PRODUCT          object\n",
              "ITEM             object\n",
              "YEARWEEK          int64\n",
              "YEAR              int64\n",
              "WEEK              int64\n",
              "QTY               int64\n",
              "HOLIDAY          object\n",
              "HCLUS             int64\n",
              "PROMOTION        object\n",
              "PRO_PERCENT     float64\n",
              "dtype: object"
            ]
          },
          "metadata": {},
          "execution_count": 6
        }
      ]
    },
    {
      "cell_type": "code",
      "source": [
        "# table 정의서에 맞춰서\n",
        "featuresData['YEARWEEK'] = featuresData.YEARWEEK.astype(int)\n",
        "featuresData['YEAR'] = featuresData.YEAR.astype(int)\n",
        "featuresData['WEEK'] = featuresData.WEEK.astype(int)\n",
        "featuresData['QTY'] = featuresData.QTY.astype(int)\n",
        "featuresData['HCLUS'] = featuresData.HCLUS.astype(int)\n",
        "featuresData['PRO_PERCENT'] = featuresData.PRO_PERCENT.astype(float)"
      ],
      "metadata": {
        "id": "8jjnadW54zCI"
      },
      "execution_count": null,
      "outputs": []
    },
    {
      "cell_type": "code",
      "source": [
        "featuresData.columns = featuresData.columns.str.upper()"
      ],
      "metadata": {
        "collapsed": true,
        "id": "DArjGFnW7n8b"
      },
      "execution_count": null,
      "outputs": []
    },
    {
      "cell_type": "markdown",
      "source": [
        "#### HOLYDAY PROMOTION 숫자화\n"
      ],
      "metadata": {
        "id": "aLWUvRyh8Xii"
      }
    },
    {
      "cell_type": "code",
      "source": [
        "# 라벨링할 데이터의 종류값들을 확인\n",
        "# 단순 abc 순서대로 라벨을 만드는 것이 아니라, 값마다 중요도가 다른 라벨이 있을 수 있어.\n",
        "# ex ) vip, diamond, common\n",
        "featuresData.HOLIDAY.drop_duplicates(),featuresData.PROMOTION.drop_duplicates()"
      ],
      "metadata": {
        "colab": {
          "base_uri": "https://localhost:8080/"
        },
        "id": "F3EgImJM81dY",
        "outputId": "6e1ea154-dc18-493f-c07d-79d25bc51296"
      },
      "execution_count": 17,
      "outputs": [
        {
          "output_type": "execute_result",
          "data": {
            "text/plain": [
              "(0    Y\n",
              " 1    N\n",
              " Name: HOLIDAY, dtype: object,\n",
              " 0    Y\n",
              " 9    N\n",
              " Name: PROMOTION, dtype: object)"
            ]
          },
          "metadata": {},
          "execution_count": 17
        }
      ]
    },
    {
      "cell_type": "code",
      "source": [
        "ynEncoder = LabelEncoder()"
      ],
      "metadata": {
        "id": "p1Ma7aDw80RD"
      },
      "execution_count": 13,
      "outputs": []
    },
    {
      "cell_type": "code",
      "source": [
        "featuresData[\"LE_HOLIDAY\"] = ynEncoder.fit_transform(featuresData.HOLIDAY)\n",
        "featuresData[\"LE_PROMOTION\"] =ynEncoder.transform(featuresData.PROMOTION)"
      ],
      "metadata": {
        "id": "bJDJ9sVy9sBe"
      },
      "execution_count": 18,
      "outputs": []
    },
    {
      "cell_type": "code",
      "source": [
        "ynEncoder.classes_"
      ],
      "metadata": {
        "colab": {
          "base_uri": "https://localhost:8080/"
        },
        "id": "pWYS1XxK92hw",
        "outputId": "416ec4f0-d8e2-4543-dc02-e0bf29b739a3"
      },
      "execution_count": 19,
      "outputs": [
        {
          "output_type": "execute_result",
          "data": {
            "text/plain": [
              "array(['N', 'Y'], dtype=object)"
            ]
          },
          "metadata": {},
          "execution_count": 19
        }
      ]
    },
    {
      "cell_type": "code",
      "source": [
        "featuresData.head()"
      ],
      "metadata": {
        "colab": {
          "base_uri": "https://localhost:8080/",
          "height": 226
        },
        "id": "HXWF4FWk-fXL",
        "outputId": "063a4fb6-7cda-49ed-c97f-02bb0cfac071"
      },
      "execution_count": 20,
      "outputs": [
        {
          "output_type": "execute_result",
          "data": {
            "text/plain": [
              "         REGIONID PRODUCTGROUP      PRODUCT      ITEM  YEARWEEK  YEAR  WEEK  \\\n",
              "0  SEOUL_BANK_001         PG02  PRODUCT0010  ITEM0115    201501  2015     1   \n",
              "1  SEOUL_BANK_001         PG02  PRODUCT0010  ITEM0115    201502  2015     2   \n",
              "2  SEOUL_BANK_001         PG02  PRODUCT0010  ITEM0115    201503  2015     3   \n",
              "3  SEOUL_BANK_001         PG02  PRODUCT0010  ITEM0115    201504  2015     4   \n",
              "4  SEOUL_BANK_001         PG02  PRODUCT0010  ITEM0115    201505  2015     5   \n",
              "\n",
              "    QTY HOLIDAY  HCLUS PROMOTION  PRO_PERCENT  LE_HOLIDAY  LE_PROMOTION  \n",
              "0  1225       Y      1         Y     0.209442           1             1  \n",
              "1   968       N      4         Y     0.209442           0             1  \n",
              "2  1209       N      4         Y     0.208155           0             1  \n",
              "3  1810       Y      2         Y     0.208155           1             1  \n",
              "4  1773       N      4         Y     0.208155           0             1  "
            ],
            "text/html": [
              "\n",
              "  <div id=\"df-aa846d10-ba75-4fa0-8ac2-305663b090bd\" class=\"colab-df-container\">\n",
              "    <div>\n",
              "<style scoped>\n",
              "    .dataframe tbody tr th:only-of-type {\n",
              "        vertical-align: middle;\n",
              "    }\n",
              "\n",
              "    .dataframe tbody tr th {\n",
              "        vertical-align: top;\n",
              "    }\n",
              "\n",
              "    .dataframe thead th {\n",
              "        text-align: right;\n",
              "    }\n",
              "</style>\n",
              "<table border=\"1\" class=\"dataframe\">\n",
              "  <thead>\n",
              "    <tr style=\"text-align: right;\">\n",
              "      <th></th>\n",
              "      <th>REGIONID</th>\n",
              "      <th>PRODUCTGROUP</th>\n",
              "      <th>PRODUCT</th>\n",
              "      <th>ITEM</th>\n",
              "      <th>YEARWEEK</th>\n",
              "      <th>YEAR</th>\n",
              "      <th>WEEK</th>\n",
              "      <th>QTY</th>\n",
              "      <th>HOLIDAY</th>\n",
              "      <th>HCLUS</th>\n",
              "      <th>PROMOTION</th>\n",
              "      <th>PRO_PERCENT</th>\n",
              "      <th>LE_HOLIDAY</th>\n",
              "      <th>LE_PROMOTION</th>\n",
              "    </tr>\n",
              "  </thead>\n",
              "  <tbody>\n",
              "    <tr>\n",
              "      <th>0</th>\n",
              "      <td>SEOUL_BANK_001</td>\n",
              "      <td>PG02</td>\n",
              "      <td>PRODUCT0010</td>\n",
              "      <td>ITEM0115</td>\n",
              "      <td>201501</td>\n",
              "      <td>2015</td>\n",
              "      <td>1</td>\n",
              "      <td>1225</td>\n",
              "      <td>Y</td>\n",
              "      <td>1</td>\n",
              "      <td>Y</td>\n",
              "      <td>0.209442</td>\n",
              "      <td>1</td>\n",
              "      <td>1</td>\n",
              "    </tr>\n",
              "    <tr>\n",
              "      <th>1</th>\n",
              "      <td>SEOUL_BANK_001</td>\n",
              "      <td>PG02</td>\n",
              "      <td>PRODUCT0010</td>\n",
              "      <td>ITEM0115</td>\n",
              "      <td>201502</td>\n",
              "      <td>2015</td>\n",
              "      <td>2</td>\n",
              "      <td>968</td>\n",
              "      <td>N</td>\n",
              "      <td>4</td>\n",
              "      <td>Y</td>\n",
              "      <td>0.209442</td>\n",
              "      <td>0</td>\n",
              "      <td>1</td>\n",
              "    </tr>\n",
              "    <tr>\n",
              "      <th>2</th>\n",
              "      <td>SEOUL_BANK_001</td>\n",
              "      <td>PG02</td>\n",
              "      <td>PRODUCT0010</td>\n",
              "      <td>ITEM0115</td>\n",
              "      <td>201503</td>\n",
              "      <td>2015</td>\n",
              "      <td>3</td>\n",
              "      <td>1209</td>\n",
              "      <td>N</td>\n",
              "      <td>4</td>\n",
              "      <td>Y</td>\n",
              "      <td>0.208155</td>\n",
              "      <td>0</td>\n",
              "      <td>1</td>\n",
              "    </tr>\n",
              "    <tr>\n",
              "      <th>3</th>\n",
              "      <td>SEOUL_BANK_001</td>\n",
              "      <td>PG02</td>\n",
              "      <td>PRODUCT0010</td>\n",
              "      <td>ITEM0115</td>\n",
              "      <td>201504</td>\n",
              "      <td>2015</td>\n",
              "      <td>4</td>\n",
              "      <td>1810</td>\n",
              "      <td>Y</td>\n",
              "      <td>2</td>\n",
              "      <td>Y</td>\n",
              "      <td>0.208155</td>\n",
              "      <td>1</td>\n",
              "      <td>1</td>\n",
              "    </tr>\n",
              "    <tr>\n",
              "      <th>4</th>\n",
              "      <td>SEOUL_BANK_001</td>\n",
              "      <td>PG02</td>\n",
              "      <td>PRODUCT0010</td>\n",
              "      <td>ITEM0115</td>\n",
              "      <td>201505</td>\n",
              "      <td>2015</td>\n",
              "      <td>5</td>\n",
              "      <td>1773</td>\n",
              "      <td>N</td>\n",
              "      <td>4</td>\n",
              "      <td>Y</td>\n",
              "      <td>0.208155</td>\n",
              "      <td>0</td>\n",
              "      <td>1</td>\n",
              "    </tr>\n",
              "  </tbody>\n",
              "</table>\n",
              "</div>\n",
              "    <div class=\"colab-df-buttons\">\n",
              "\n",
              "  <div class=\"colab-df-container\">\n",
              "    <button class=\"colab-df-convert\" onclick=\"convertToInteractive('df-aa846d10-ba75-4fa0-8ac2-305663b090bd')\"\n",
              "            title=\"Convert this dataframe to an interactive table.\"\n",
              "            style=\"display:none;\">\n",
              "\n",
              "  <svg xmlns=\"http://www.w3.org/2000/svg\" height=\"24px\" viewBox=\"0 -960 960 960\">\n",
              "    <path d=\"M120-120v-720h720v720H120Zm60-500h600v-160H180v160Zm220 220h160v-160H400v160Zm0 220h160v-160H400v160ZM180-400h160v-160H180v160Zm440 0h160v-160H620v160ZM180-180h160v-160H180v160Zm440 0h160v-160H620v160Z\"/>\n",
              "  </svg>\n",
              "    </button>\n",
              "\n",
              "  <style>\n",
              "    .colab-df-container {\n",
              "      display:flex;\n",
              "      gap: 12px;\n",
              "    }\n",
              "\n",
              "    .colab-df-convert {\n",
              "      background-color: #E8F0FE;\n",
              "      border: none;\n",
              "      border-radius: 50%;\n",
              "      cursor: pointer;\n",
              "      display: none;\n",
              "      fill: #1967D2;\n",
              "      height: 32px;\n",
              "      padding: 0 0 0 0;\n",
              "      width: 32px;\n",
              "    }\n",
              "\n",
              "    .colab-df-convert:hover {\n",
              "      background-color: #E2EBFA;\n",
              "      box-shadow: 0px 1px 2px rgba(60, 64, 67, 0.3), 0px 1px 3px 1px rgba(60, 64, 67, 0.15);\n",
              "      fill: #174EA6;\n",
              "    }\n",
              "\n",
              "    .colab-df-buttons div {\n",
              "      margin-bottom: 4px;\n",
              "    }\n",
              "\n",
              "    [theme=dark] .colab-df-convert {\n",
              "      background-color: #3B4455;\n",
              "      fill: #D2E3FC;\n",
              "    }\n",
              "\n",
              "    [theme=dark] .colab-df-convert:hover {\n",
              "      background-color: #434B5C;\n",
              "      box-shadow: 0px 1px 3px 1px rgba(0, 0, 0, 0.15);\n",
              "      filter: drop-shadow(0px 1px 2px rgba(0, 0, 0, 0.3));\n",
              "      fill: #FFFFFF;\n",
              "    }\n",
              "  </style>\n",
              "\n",
              "    <script>\n",
              "      const buttonEl =\n",
              "        document.querySelector('#df-aa846d10-ba75-4fa0-8ac2-305663b090bd button.colab-df-convert');\n",
              "      buttonEl.style.display =\n",
              "        google.colab.kernel.accessAllowed ? 'block' : 'none';\n",
              "\n",
              "      async function convertToInteractive(key) {\n",
              "        const element = document.querySelector('#df-aa846d10-ba75-4fa0-8ac2-305663b090bd');\n",
              "        const dataTable =\n",
              "          await google.colab.kernel.invokeFunction('convertToInteractive',\n",
              "                                                    [key], {});\n",
              "        if (!dataTable) return;\n",
              "\n",
              "        const docLinkHtml = 'Like what you see? Visit the ' +\n",
              "          '<a target=\"_blank\" href=https://colab.research.google.com/notebooks/data_table.ipynb>data table notebook</a>'\n",
              "          + ' to learn more about interactive tables.';\n",
              "        element.innerHTML = '';\n",
              "        dataTable['output_type'] = 'display_data';\n",
              "        await google.colab.output.renderOutput(dataTable, element);\n",
              "        const docLink = document.createElement('div');\n",
              "        docLink.innerHTML = docLinkHtml;\n",
              "        element.appendChild(docLink);\n",
              "      }\n",
              "    </script>\n",
              "  </div>\n",
              "\n",
              "\n",
              "<div id=\"df-876103fe-3df6-41d7-ad6a-49385da5249d\">\n",
              "  <button class=\"colab-df-quickchart\" onclick=\"quickchart('df-876103fe-3df6-41d7-ad6a-49385da5249d')\"\n",
              "            title=\"Suggest charts\"\n",
              "            style=\"display:none;\">\n",
              "\n",
              "<svg xmlns=\"http://www.w3.org/2000/svg\" height=\"24px\"viewBox=\"0 0 24 24\"\n",
              "     width=\"24px\">\n",
              "    <g>\n",
              "        <path d=\"M19 3H5c-1.1 0-2 .9-2 2v14c0 1.1.9 2 2 2h14c1.1 0 2-.9 2-2V5c0-1.1-.9-2-2-2zM9 17H7v-7h2v7zm4 0h-2V7h2v10zm4 0h-2v-4h2v4z\"/>\n",
              "    </g>\n",
              "</svg>\n",
              "  </button>\n",
              "\n",
              "<style>\n",
              "  .colab-df-quickchart {\n",
              "      --bg-color: #E8F0FE;\n",
              "      --fill-color: #1967D2;\n",
              "      --hover-bg-color: #E2EBFA;\n",
              "      --hover-fill-color: #174EA6;\n",
              "      --disabled-fill-color: #AAA;\n",
              "      --disabled-bg-color: #DDD;\n",
              "  }\n",
              "\n",
              "  [theme=dark] .colab-df-quickchart {\n",
              "      --bg-color: #3B4455;\n",
              "      --fill-color: #D2E3FC;\n",
              "      --hover-bg-color: #434B5C;\n",
              "      --hover-fill-color: #FFFFFF;\n",
              "      --disabled-bg-color: #3B4455;\n",
              "      --disabled-fill-color: #666;\n",
              "  }\n",
              "\n",
              "  .colab-df-quickchart {\n",
              "    background-color: var(--bg-color);\n",
              "    border: none;\n",
              "    border-radius: 50%;\n",
              "    cursor: pointer;\n",
              "    display: none;\n",
              "    fill: var(--fill-color);\n",
              "    height: 32px;\n",
              "    padding: 0;\n",
              "    width: 32px;\n",
              "  }\n",
              "\n",
              "  .colab-df-quickchart:hover {\n",
              "    background-color: var(--hover-bg-color);\n",
              "    box-shadow: 0 1px 2px rgba(60, 64, 67, 0.3), 0 1px 3px 1px rgba(60, 64, 67, 0.15);\n",
              "    fill: var(--button-hover-fill-color);\n",
              "  }\n",
              "\n",
              "  .colab-df-quickchart-complete:disabled,\n",
              "  .colab-df-quickchart-complete:disabled:hover {\n",
              "    background-color: var(--disabled-bg-color);\n",
              "    fill: var(--disabled-fill-color);\n",
              "    box-shadow: none;\n",
              "  }\n",
              "\n",
              "  .colab-df-spinner {\n",
              "    border: 2px solid var(--fill-color);\n",
              "    border-color: transparent;\n",
              "    border-bottom-color: var(--fill-color);\n",
              "    animation:\n",
              "      spin 1s steps(1) infinite;\n",
              "  }\n",
              "\n",
              "  @keyframes spin {\n",
              "    0% {\n",
              "      border-color: transparent;\n",
              "      border-bottom-color: var(--fill-color);\n",
              "      border-left-color: var(--fill-color);\n",
              "    }\n",
              "    20% {\n",
              "      border-color: transparent;\n",
              "      border-left-color: var(--fill-color);\n",
              "      border-top-color: var(--fill-color);\n",
              "    }\n",
              "    30% {\n",
              "      border-color: transparent;\n",
              "      border-left-color: var(--fill-color);\n",
              "      border-top-color: var(--fill-color);\n",
              "      border-right-color: var(--fill-color);\n",
              "    }\n",
              "    40% {\n",
              "      border-color: transparent;\n",
              "      border-right-color: var(--fill-color);\n",
              "      border-top-color: var(--fill-color);\n",
              "    }\n",
              "    60% {\n",
              "      border-color: transparent;\n",
              "      border-right-color: var(--fill-color);\n",
              "    }\n",
              "    80% {\n",
              "      border-color: transparent;\n",
              "      border-right-color: var(--fill-color);\n",
              "      border-bottom-color: var(--fill-color);\n",
              "    }\n",
              "    90% {\n",
              "      border-color: transparent;\n",
              "      border-bottom-color: var(--fill-color);\n",
              "    }\n",
              "  }\n",
              "</style>\n",
              "\n",
              "  <script>\n",
              "    async function quickchart(key) {\n",
              "      const quickchartButtonEl =\n",
              "        document.querySelector('#' + key + ' button');\n",
              "      quickchartButtonEl.disabled = true;  // To prevent multiple clicks.\n",
              "      quickchartButtonEl.classList.add('colab-df-spinner');\n",
              "      try {\n",
              "        const charts = await google.colab.kernel.invokeFunction(\n",
              "            'suggestCharts', [key], {});\n",
              "      } catch (error) {\n",
              "        console.error('Error during call to suggestCharts:', error);\n",
              "      }\n",
              "      quickchartButtonEl.classList.remove('colab-df-spinner');\n",
              "      quickchartButtonEl.classList.add('colab-df-quickchart-complete');\n",
              "    }\n",
              "    (() => {\n",
              "      let quickchartButtonEl =\n",
              "        document.querySelector('#df-876103fe-3df6-41d7-ad6a-49385da5249d button');\n",
              "      quickchartButtonEl.style.display =\n",
              "        google.colab.kernel.accessAllowed ? 'block' : 'none';\n",
              "    })();\n",
              "  </script>\n",
              "</div>\n",
              "\n",
              "    </div>\n",
              "  </div>\n"
            ],
            "application/vnd.google.colaboratory.intrinsic+json": {
              "type": "dataframe",
              "variable_name": "featuresData",
              "summary": "{\n  \"name\": \"featuresData\",\n  \"rows\": 105,\n  \"fields\": [\n    {\n      \"column\": \"REGIONID\",\n      \"properties\": {\n        \"dtype\": \"category\",\n        \"num_unique_values\": 1,\n        \"samples\": [\n          \"SEOUL_BANK_001\"\n        ],\n        \"semantic_type\": \"\",\n        \"description\": \"\"\n      }\n    },\n    {\n      \"column\": \"PRODUCTGROUP\",\n      \"properties\": {\n        \"dtype\": \"category\",\n        \"num_unique_values\": 1,\n        \"samples\": [\n          \"PG02\"\n        ],\n        \"semantic_type\": \"\",\n        \"description\": \"\"\n      }\n    },\n    {\n      \"column\": \"PRODUCT\",\n      \"properties\": {\n        \"dtype\": \"category\",\n        \"num_unique_values\": 1,\n        \"samples\": [\n          \"PRODUCT0010\"\n        ],\n        \"semantic_type\": \"\",\n        \"description\": \"\"\n      }\n    },\n    {\n      \"column\": \"ITEM\",\n      \"properties\": {\n        \"dtype\": \"category\",\n        \"num_unique_values\": 1,\n        \"samples\": [\n          \"ITEM0115\"\n        ],\n        \"semantic_type\": \"\",\n        \"description\": \"\"\n      }\n    },\n    {\n      \"column\": \"YEARWEEK\",\n      \"properties\": {\n        \"dtype\": \"number\",\n        \"std\": 52,\n        \"min\": 201501,\n        \"max\": 201652,\n        \"num_unique_values\": 105,\n        \"samples\": [\n          201531\n        ],\n        \"semantic_type\": \"\",\n        \"description\": \"\"\n      }\n    },\n    {\n      \"column\": \"YEAR\",\n      \"properties\": {\n        \"dtype\": \"number\",\n        \"std\": 0,\n        \"min\": 2015,\n        \"max\": 2016,\n        \"num_unique_values\": 2,\n        \"samples\": [\n          2016\n        ],\n        \"semantic_type\": \"\",\n        \"description\": \"\"\n      }\n    },\n    {\n      \"column\": \"WEEK\",\n      \"properties\": {\n        \"dtype\": \"number\",\n        \"std\": 15,\n        \"min\": 1,\n        \"max\": 53,\n        \"num_unique_values\": 53,\n        \"samples\": [\n          20\n        ],\n        \"semantic_type\": \"\",\n        \"description\": \"\"\n      }\n    },\n    {\n      \"column\": \"QTY\",\n      \"properties\": {\n        \"dtype\": \"number\",\n        \"std\": 820,\n        \"min\": 15,\n        \"max\": 4035,\n        \"num_unique_values\": 100,\n        \"samples\": [\n          1514\n        ],\n        \"semantic_type\": \"\",\n        \"description\": \"\"\n      }\n    },\n    {\n      \"column\": \"HOLIDAY\",\n      \"properties\": {\n        \"dtype\": \"category\",\n        \"num_unique_values\": 2,\n        \"samples\": [\n          \"N\"\n        ],\n        \"semantic_type\": \"\",\n        \"description\": \"\"\n      }\n    },\n    {\n      \"column\": \"HCLUS\",\n      \"properties\": {\n        \"dtype\": \"number\",\n        \"std\": 1,\n        \"min\": 0,\n        \"max\": 4,\n        \"num_unique_values\": 4,\n        \"samples\": [\n          4\n        ],\n        \"semantic_type\": \"\",\n        \"description\": \"\"\n      }\n    },\n    {\n      \"column\": \"PROMOTION\",\n      \"properties\": {\n        \"dtype\": \"category\",\n        \"num_unique_values\": 2,\n        \"samples\": [\n          \"N\"\n        ],\n        \"semantic_type\": \"\",\n        \"description\": \"\"\n      }\n    },\n    {\n      \"column\": \"PRO_PERCENT\",\n      \"properties\": {\n        \"dtype\": \"number\",\n        \"std\": 0.12863568869931824,\n        \"min\": 0.0,\n        \"max\": 0.421888412,\n        \"num_unique_values\": 9,\n        \"samples\": [\n          0.421888412\n        ],\n        \"semantic_type\": \"\",\n        \"description\": \"\"\n      }\n    },\n    {\n      \"column\": \"LE_HOLIDAY\",\n      \"properties\": {\n        \"dtype\": \"number\",\n        \"std\": 0,\n        \"min\": 0,\n        \"max\": 1,\n        \"num_unique_values\": 2,\n        \"samples\": [\n          0\n        ],\n        \"semantic_type\": \"\",\n        \"description\": \"\"\n      }\n    },\n    {\n      \"column\": \"LE_PROMOTION\",\n      \"properties\": {\n        \"dtype\": \"number\",\n        \"std\": 0,\n        \"min\": 0,\n        \"max\": 1,\n        \"num_unique_values\": 2,\n        \"samples\": [\n          0\n        ],\n        \"semantic_type\": \"\",\n        \"description\": \"\"\n      }\n    }\n  ]\n}"
            }
          },
          "metadata": {},
          "execution_count": 20
        }
      ]
    },
    {
      "cell_type": "markdown",
      "source": [
        "## 2. 특성 선정 및 데이터 분리"
      ],
      "metadata": {
        "id": "o_o-Az_1zLT1"
      }
    },
    {
      "cell_type": "code",
      "source": [
        "# 모든 데이터만 쓰는 것이 아니라, 목표 칼럼과 상관관계가 있는 데이터만 사용\n",
        "corrStd = 0.5 # 적어도 0.5보다는 큰 상관관계만 사용하겠다."
      ],
      "metadata": {
        "id": "7nK8AWtO-w9u"
      },
      "execution_count": 25,
      "outputs": []
    },
    {
      "cell_type": "code",
      "source": [
        "# 확인할 목표 칼럼\n",
        "label = [\"QTY\"]"
      ],
      "metadata": {
        "id": "HnWTtaDYAOT9"
      },
      "execution_count": 35,
      "outputs": []
    },
    {
      "cell_type": "code",
      "source": [
        "corrDf = featuresData.corr(numeric_only=True)"
      ],
      "metadata": {
        "id": "zX-l_SNy_bcl"
      },
      "execution_count": 31,
      "outputs": []
    },
    {
      "cell_type": "code",
      "source": [
        "corrDf.QTY"
      ],
      "metadata": {
        "colab": {
          "base_uri": "https://localhost:8080/"
        },
        "id": "U5HeC4QlBMhA",
        "outputId": "beafc4b2-065c-4604-943e-09b2c81ede95"
      },
      "execution_count": 49,
      "outputs": [
        {
          "output_type": "execute_result",
          "data": {
            "text/plain": [
              "YEARWEEK        0.112267\n",
              "YEAR            0.028931\n",
              "WEEK            0.289766\n",
              "QTY             1.000000\n",
              "HCLUS          -0.537230\n",
              "PRO_PERCENT     0.700195\n",
              "LE_HOLIDAY      0.505932\n",
              "LE_PROMOTION    0.612451\n",
              "Name: QTY, dtype: float64"
            ]
          },
          "metadata": {},
          "execution_count": 49
        }
      ]
    },
    {
      "cell_type": "code",
      "source": [
        "features = list(corrDf[(abs(corrDf[label[0]]) >= corrStd) &\n",
        "                    (corrDf[label[0]] != 1)].index)"
      ],
      "metadata": {
        "id": "sctE9DvJ_4hm"
      },
      "execution_count": 50,
      "outputs": []
    },
    {
      "cell_type": "code",
      "source": [
        "features"
      ],
      "metadata": {
        "colab": {
          "base_uri": "https://localhost:8080/"
        },
        "id": "XUGXOBoXBhIp",
        "outputId": "bc74c68d-e786-4d0e-b2c0-dc6d03043b89"
      },
      "execution_count": 51,
      "outputs": [
        {
          "output_type": "execute_result",
          "data": {
            "text/plain": [
              "['HCLUS', 'PRO_PERCENT', 'LE_HOLIDAY', 'LE_PROMOTION']"
            ]
          },
          "metadata": {},
          "execution_count": 51
        }
      ]
    },
    {
      "cell_type": "code",
      "source": [
        "# 보통 시계열 데이터는 년도 같은 기준을 잡고 과거와 최근과 가까운 과거로 나눠서 train과 test를 나눠\n",
        "featuresData.YEAR.drop_duplicates()"
      ],
      "metadata": {
        "colab": {
          "base_uri": "https://localhost:8080/"
        },
        "id": "wBkUqG5cB0ww",
        "outputId": "abad7007-028d-46e0-8f10-00299daeb6b8"
      },
      "execution_count": 59,
      "outputs": [
        {
          "output_type": "execute_result",
          "data": {
            "text/plain": [
              "0     2015\n",
              "53    2016\n",
              "Name: YEAR, dtype: int64"
            ]
          },
          "metadata": {},
          "execution_count": 59
        }
      ]
    },
    {
      "cell_type": "code",
      "source": [
        "randomValue = 30"
      ],
      "metadata": {
        "id": "j6vPqDOCDRDV"
      },
      "execution_count": null,
      "outputs": []
    },
    {
      "cell_type": "code",
      "source": [
        "trainData,testData = train_test_split(featuresData, test_size = 0.2, random_state = randomValue)"
      ],
      "metadata": {
        "id": "hvscjMkFCLGI"
      },
      "execution_count": 54,
      "outputs": []
    },
    {
      "cell_type": "code",
      "source": [
        "trainData.shape, testData.shape, featuresData.shape"
      ],
      "metadata": {
        "colab": {
          "base_uri": "https://localhost:8080/"
        },
        "id": "cyfV450aCejg",
        "outputId": "a19fcd4a-262a-49ba-d389-1b2fa56e47ca"
      },
      "execution_count": 55,
      "outputs": [
        {
          "output_type": "execute_result",
          "data": {
            "text/plain": [
              "((84, 14), (21, 14), (105, 14))"
            ]
          },
          "metadata": {},
          "execution_count": 55
        }
      ]
    },
    {
      "cell_type": "code",
      "source": [
        "trainDataFeatures = trainData.loc[:, features]\n",
        "trainDataLabel = trainData.loc[:,label]\n",
        "testDataFeatures = testData.loc[:, features]\n",
        "testDataLabel = testData.loc[:,label]"
      ],
      "metadata": {
        "id": "sR_rUZ1LCm-o"
      },
      "execution_count": 56,
      "outputs": []
    },
    {
      "cell_type": "code",
      "source": [
        "print(trainDataFeatures.shape)\n",
        "print(trainDataLabel.shape)\n",
        "print(testDataFeatures.shape)\n",
        "print(testDataLabel.shape)"
      ],
      "metadata": {
        "colab": {
          "base_uri": "https://localhost:8080/"
        },
        "id": "t5WhtRCAC7jK",
        "outputId": "63957723-bebc-48b5-d4c1-c7767023c88d"
      },
      "execution_count": 57,
      "outputs": [
        {
          "output_type": "stream",
          "name": "stdout",
          "text": [
            "(84, 4)\n",
            "(84, 1)\n",
            "(21, 4)\n",
            "(21, 1)\n"
          ]
        }
      ]
    },
    {
      "cell_type": "markdown",
      "source": [
        "## 3.데이터 모델 생성 및 훈련"
      ],
      "metadata": {
        "id": "FEGggR73zN9W"
      }
    },
    {
      "cell_type": "code",
      "source": [
        "# decision tree 사용\n",
        "dtModel = tree.DecisionTreeRegressor(random_state=randomValue)"
      ],
      "metadata": {
        "id": "n7fJcZ36DjgJ"
      },
      "execution_count": 60,
      "outputs": []
    },
    {
      "cell_type": "code",
      "source": [
        "fittedDtModel = dtModel.fit(trainDataFeatures,trainDataLabel)"
      ],
      "metadata": {
        "id": "wGmtQ1FqEk48"
      },
      "execution_count": 62,
      "outputs": []
    },
    {
      "cell_type": "code",
      "source": [
        "# 왜 그렇게 나왔는지 해석을 할 줄 알아야해.\n",
        "plt.figure(figsize=(20,12))\n",
        "plot_tree(fittedDtModel, feature_names=features)"
      ],
      "metadata": {
        "colab": {
          "base_uri": "https://localhost:8080/",
          "height": 1000
        },
        "id": "g8nG4TmPE3m7",
        "outputId": "79e31243-7be7-4cb3-dd17-2b31e76172d9"
      },
      "execution_count": 77,
      "outputs": [
        {
          "output_type": "execute_result",
          "data": {
            "text/plain": [
              "[Text(0.39903846153846156, 0.9285714285714286, 'PRO_PERCENT <= 0.259\\nsquared_error = 678824.471\\nsamples = 84\\nvalue = 1253.202'),\n",
              " Text(0.17307692307692307, 0.7857142857142857, 'PRO_PERCENT <= 0.104\\nsquared_error = 275912.341\\nsamples = 51\\nvalue = 838.824'),\n",
              " Text(0.07692307692307693, 0.6428571428571429, 'HCLUS <= 3.0\\nsquared_error = 65686.055\\nsamples = 17\\nvalue = 341.941'),\n",
              " Text(0.038461538461538464, 0.5, 'squared_error = 0.0\\nsamples = 1\\nvalue = 15.0'),\n",
              " Text(0.11538461538461539, 0.5, 'squared_error = 62693.234\\nsamples = 16\\nvalue = 362.375'),\n",
              " Text(0.2692307692307692, 0.6428571428571429, 'HCLUS <= 3.0\\nsquared_error = 195856.43\\nsamples = 34\\nvalue = 1087.265'),\n",
              " Text(0.19230769230769232, 0.5, 'PRO_PERCENT <= 0.224\\nsquared_error = 200358.691\\nsamples = 9\\nvalue = 1340.556'),\n",
              " Text(0.15384615384615385, 0.35714285714285715, 'PRO_PERCENT <= 0.209\\nsquared_error = 157896.0\\nsamples = 4\\nvalue = 1126.0'),\n",
              " Text(0.11538461538461539, 0.21428571428571427, 'HCLUS <= 1.5\\nsquared_error = 176400.0\\nsamples = 2\\nvalue = 1390.0'),\n",
              " Text(0.07692307692307693, 0.07142857142857142, 'squared_error = 0.0\\nsamples = 1\\nvalue = 970.0'),\n",
              " Text(0.15384615384615385, 0.07142857142857142, 'squared_error = 0.0\\nsamples = 1\\nvalue = 1810.0'),\n",
              " Text(0.19230769230769232, 0.21428571428571427, 'squared_error = 0.0\\nsamples = 2\\nvalue = 862.0'),\n",
              " Text(0.23076923076923078, 0.35714285714285715, 'squared_error = 168039.76\\nsamples = 5\\nvalue = 1512.2'),\n",
              " Text(0.34615384615384615, 0.5, 'PRO_PERCENT <= 0.209\\nsquared_error = 162824.714\\nsamples = 25\\nvalue = 996.08'),\n",
              " Text(0.3076923076923077, 0.35714285714285715, 'squared_error = 138464.609\\nsamples = 8\\nvalue = 1068.125'),\n",
              " Text(0.38461538461538464, 0.35714285714285715, 'PRO_PERCENT <= 0.224\\nsquared_error = 170696.263\\nsamples = 17\\nvalue = 962.176'),\n",
              " Text(0.34615384615384615, 0.21428571428571427, 'squared_error = 149292.64\\nsamples = 10\\nvalue = 926.6'),\n",
              " Text(0.4230769230769231, 0.21428571428571427, 'squared_error = 196881.714\\nsamples = 7\\nvalue = 1013.0'),\n",
              " Text(0.625, 0.7857142857142857, 'PRO_PERCENT <= 0.294\\nsquared_error = 626020.239\\nsamples = 33\\nvalue = 1893.606'),\n",
              " Text(0.46153846153846156, 0.6428571428571429, 'HCLUS <= 1.5\\nsquared_error = 768322.992\\nsamples = 11\\nvalue = 2304.091'),\n",
              " Text(0.4230769230769231, 0.5, 'squared_error = 837970.667\\nsamples = 6\\nvalue = 2700.0'),\n",
              " Text(0.5, 0.5, 'HCLUS <= 3.0\\nsquared_error = 270941.6\\nsamples = 5\\nvalue = 1829.0'),\n",
              " Text(0.46153846153846156, 0.35714285714285715, 'squared_error = 0.0\\nsamples = 1\\nvalue = 2010.0'),\n",
              " Text(0.5384615384615384, 0.35714285714285715, 'squared_error = 328439.188\\nsamples = 4\\nvalue = 1783.75'),\n",
              " Text(0.7884615384615384, 0.6428571428571429, 'PRO_PERCENT <= 0.355\\nsquared_error = 428495.504\\nsamples = 22\\nvalue = 1688.364'),\n",
              " Text(0.6923076923076923, 0.5, 'PRO_PERCENT <= 0.33\\nsquared_error = 176334.05\\nsamples = 11\\nvalue = 1292.636'),\n",
              " Text(0.6153846153846154, 0.35714285714285715, 'HCLUS <= 2.5\\nsquared_error = 88011.688\\nsamples = 8\\nvalue = 1364.25'),\n",
              " Text(0.5769230769230769, 0.21428571428571427, 'squared_error = 57558.806\\nsamples = 6\\nvalue = 1436.167'),\n",
              " Text(0.6538461538461539, 0.21428571428571427, 'squared_error = 117306.25\\nsamples = 2\\nvalue = 1148.5'),\n",
              " Text(0.7692307692307693, 0.35714285714285715, 'HCLUS <= 2.5\\nsquared_error = 361714.889\\nsamples = 3\\nvalue = 1101.667'),\n",
              " Text(0.7307692307692307, 0.21428571428571427, 'squared_error = 0.0\\nsamples = 1\\nvalue = 332.0'),\n",
              " Text(0.8076923076923077, 0.21428571428571427, 'squared_error = 98282.25\\nsamples = 2\\nvalue = 1486.5'),\n",
              " Text(0.8846153846153846, 0.5, 'PRO_PERCENT <= 0.39\\nsquared_error = 367456.81\\nsamples = 11\\nvalue = 2084.091'),\n",
              " Text(0.8461538461538461, 0.35714285714285715, 'squared_error = 606109.36\\nsamples = 5\\nvalue = 2193.8'),\n",
              " Text(0.9230769230769231, 0.35714285714285715, 'HCLUS <= 2.0\\nsquared_error = 150191.222\\nsamples = 6\\nvalue = 1992.667'),\n",
              " Text(0.8846153846153846, 0.21428571428571427, 'squared_error = 179888.96\\nsamples = 5\\nvalue = 2000.2'),\n",
              " Text(0.9615384615384616, 0.21428571428571427, 'squared_error = 0.0\\nsamples = 1\\nvalue = 1955.0')]"
            ]
          },
          "metadata": {},
          "execution_count": 77
        },
        {
          "output_type": "display_data",
          "data": {
            "text/plain": [
              "<Figure size 2000x1200 with 1 Axes>"
            ],
            "image/png": "[encoded data removed]"
          },
          "metadata": {}
        }
      ]
    },
    {
      "cell_type": "markdown",
      "source": [
        "위에서부터 의사결정 트리에 대해 설명할 수 있도록."
      ],
      "metadata": {
        "id": "lyrbirKJFRdM"
      }
    },
    {
      "cell_type": "markdown",
      "source": [
        "## 4. 예측"
      ],
      "metadata": {
        "id": "NpjAdyRCzRMD"
      }
    },
    {
      "cell_type": "code",
      "source": [
        "features"
      ],
      "metadata": {
        "colab": {
          "base_uri": "https://localhost:8080/"
        },
        "id": "Z0-oIlfFFsix",
        "outputId": "c233b0da-e699-4805-a466-2e35913aa8dc"
      },
      "execution_count": 67,
      "outputs": [
        {
          "output_type": "execute_result",
          "data": {
            "text/plain": [
              "['HCLUS', 'PRO_PERCENT', 'LE_HOLIDAY', 'LE_PROMOTION']"
            ]
          },
          "metadata": {},
          "execution_count": 67
        }
      ]
    },
    {
      "cell_type": "code",
      "source": [
        "inHclus = 1\n",
        "inPropercent = 0.4\n",
        "inHoliday = 0 #'Y'\n",
        "inPromotion = 0 #'Y'\n",
        "inDf = pd.DataFrame([[inHclus,inPropercent,inHoliday,inPromotion]])\n",
        "fittedDtModel.predict(inDf)\n"
      ],
      "metadata": {
        "colab": {
          "base_uri": "https://localhost:8080/"
        },
        "id": "bSJCeITczT4R",
        "outputId": "b9c96d99-0fb6-4da9-eead-7c0fdf25fb52"
      },
      "execution_count": 75,
      "outputs": [
        {
          "output_type": "stream",
          "name": "stderr",
          "text": [
            "/usr/local/lib/python3.10/dist-packages/sklearn/base.py:439: UserWarning: X does not have valid feature names, but DecisionTreeRegressor was fitted with feature names\n",
            "  warnings.warn(\n"
          ]
        },
        {
          "output_type": "execute_result",
          "data": {
            "text/plain": [
              "array([2000.2])"
            ]
          },
          "metadata": {},
          "execution_count": 75
        }
      ]
    },
    {
      "cell_type": "markdown",
      "source": [
        "질문\n",
        "\n",
        "1. holiday와 promotion이 영향을 주지 않는 건, 그냥 상관관계가 적어서 그런 것인가?\n",
        "2. 파이널 셈플을 확인해보면 10개인 것도 있는데, 더 세부적으로 나눌 수는 없나?\n",
        "\n"
      ],
      "metadata": {
        "id": "1rajUMZpIMUj"
      }
    },
    {
      "cell_type": "markdown",
      "source": [
        "## 5. 훈련모델 저장"
      ],
      "metadata": {
        "id": "A-qWkowVMR_4"
      }
    },
    {
      "cell_type": "markdown",
      "source": [
        "재료 : 모델(fittedDfModel), feature, label, encoder"
      ],
      "metadata": {
        "id": "bqVCAqOmMYFv"
      }
    },
    {
      "cell_type": "code",
      "source": [
        "modelDict = {\n",
        "    'features' : features,\n",
        "    'label' : label,\n",
        "    'preprocessing' : [None, None, ynEncoder, ynEncoder],\n",
        "    'model' : fittedDtModel\n",
        "}"
      ],
      "metadata": {
        "id": "bp6wD5mHMkAl"
      },
      "execution_count": 78,
      "outputs": []
    },
    {
      "cell_type": "code",
      "source": [
        "filePath = '240605_first_QTY_regretion.dump'\n",
        "with open(filePath,'wb') as fw:\n",
        "    pickle.dump(modelDict,fw)"
      ],
      "metadata": {
        "id": "drqUJoKKNDaP"
      },
      "execution_count": 80,
      "outputs": []
    }
  ]
}
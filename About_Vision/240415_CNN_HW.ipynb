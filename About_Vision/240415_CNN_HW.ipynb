{
  "nbformat": 4,
  "nbformat_minor": 0,
  "metadata": {
    "colab": {
      "provenance": [],
      "gpuType": "T4",
      "authorship_tag": "ABX9TyPlGJ0QoWAUiUaCPcf5BMzM",
      "include_colab_link": true
    },
    "kernelspec": {
      "name": "python3",
      "display_name": "Python 3"
    },
    "language_info": {
      "name": "python"
    },
    "accelerator": "GPU"
  },
  "cells": [
    {
      "cell_type": "markdown",
      "metadata": {
        "id": "view-in-github",
        "colab_type": "text"
      },
      "source": [
        "<a href=\"https://colab.research.google.com/github/0ginny/TIL/blob/main/240415_CNN_HW.ipynb\" target=\"_parent\"><img src=\"https://colab.research.google.com/assets/colab-badge.svg\" alt=\"Open In Colab\"/></a>"
      ]
    },
    {
      "cell_type": "markdown",
      "source": [
        "### google drive mount"
      ],
      "metadata": {
        "id": "zE3dIiooCdfR"
      }
    },
    {
      "cell_type": "code",
      "source": [
        "from google.colab import drive\n",
        "drive.mount('/content/gdrive')"
      ],
      "metadata": {
        "colab": {
          "base_uri": "https://localhost:8080/"
        },
        "id": "3jxfNB24Cq_E",
        "outputId": "8a3ec719-b656-4cdb-8b00-0dd25120e134"
      },
      "execution_count": 1,
      "outputs": [
        {
          "output_type": "stream",
          "name": "stdout",
          "text": [
            "Mounted at /content/gdrive\n"
          ]
        }
      ]
    },
    {
      "cell_type": "code",
      "source": [
        "%cd /content/gdrive/MyDrive/Colab Notebooks/Vision_AZ"
      ],
      "metadata": {
        "colab": {
          "base_uri": "https://localhost:8080/"
        },
        "id": "1WAaSOjZC5MZ",
        "outputId": "d071c538-ddf4-4073-f06b-af3f8734c988"
      },
      "execution_count": 2,
      "outputs": [
        {
          "output_type": "stream",
          "name": "stdout",
          "text": [
            "/content/gdrive/MyDrive/Colab Notebooks/Vision_AZ\n"
          ]
        }
      ]
    },
    {
      "cell_type": "markdown",
      "source": [
        "### library"
      ],
      "metadata": {
        "id": "tdWewY8YDhyv"
      }
    },
    {
      "cell_type": "code",
      "source": [
        "import cv2\n",
        "import numpy as np\n",
        "import pandas as pd\n",
        "import matplotlib.pyplot as plt\n",
        "import os\n",
        "import zipfile\n",
        "from google.colab.patches import cv2_imshow\n",
        "\n",
        "import tensorflow as tf\n",
        "from tensorflow.keras.models import Sequential\n",
        "from tensorflow.keras.layers import Dense, Conv2D, MaxPool2D, Flatten"
      ],
      "metadata": {
        "id": "rUmg_ZSUDkCd"
      },
      "execution_count": 3,
      "outputs": []
    },
    {
      "cell_type": "code",
      "source": [
        "from tensorflow.keras.preprocessing.image import ImageDataGenerator"
      ],
      "metadata": {
        "id": "6jJ1K0R5Euc_"
      },
      "execution_count": 5,
      "outputs": []
    },
    {
      "cell_type": "markdown",
      "source": [
        "# HW"
      ],
      "metadata": {
        "id": "JtbDNwjcC_mg"
      }
    },
    {
      "cell_type": "markdown",
      "source": [
        "## load data"
      ],
      "metadata": {
        "id": "boYAZktxDDH1"
      }
    },
    {
      "cell_type": "code",
      "source": [
        "path = './Datasets/cat_dog_2.zip'\n",
        "zip_obj = zipfile.ZipFile(file = path, mode = 'r')\n",
        "zip_obj.extractall('./')\n",
        "zip_obj.close()"
      ],
      "metadata": {
        "id": "jWErxcurEPEl"
      },
      "execution_count": 4,
      "outputs": []
    },
    {
      "cell_type": "code",
      "source": [],
      "metadata": {
        "id": "3i4LAAG0Ep4d"
      },
      "execution_count": null,
      "outputs": []
    },
    {
      "cell_type": "markdown",
      "source": [
        "## generate dataset (+ nomarlizing)"
      ],
      "metadata": {
        "id": "AZd-YsjCDGqd"
      }
    },
    {
      "cell_type": "code",
      "source": [
        "train_generator = ImageDataGenerator(rescale = 1./255, rotation_range = 7, horizontal_flip= True, zoom_range= 0.2, vertical_flip= True)\n",
        "test_generator = ImageDataGenerator(rescale = 1./255)"
      ],
      "metadata": {
        "id": "wyINOsusEryt"
      },
      "execution_count": 7,
      "outputs": []
    },
    {
      "cell_type": "code",
      "source": [
        "training_set = train_generator.flow_from_directory(directory = './cat_dog_2/training_set/', target_size = (64,64),\n",
        "                                                    class_mode = 'categorical', batch_size = 32,\n",
        "                                                    shuffle = True)"
      ],
      "metadata": {
        "colab": {
          "base_uri": "https://localhost:8080/"
        },
        "id": "x8YXBLUCG80f",
        "outputId": "86e895ea-a97c-4f08-fbcb-a80c4478c819"
      },
      "execution_count": 9,
      "outputs": [
        {
          "output_type": "stream",
          "name": "stdout",
          "text": [
            "Found 4000 images belonging to 2 classes.\n"
          ]
        }
      ]
    },
    {
      "cell_type": "code",
      "source": [
        "test_set = test_generator.flow_from_directory(directory = './cat_dog_2/test_set/', target_size = (64,64), batch_size = 1, class_mode = 'categorical', shuffle = False)"
      ],
      "metadata": {
        "colab": {
          "base_uri": "https://localhost:8080/"
        },
        "id": "gsZGCQKXJIbO",
        "outputId": "e43153bb-399c-41aa-d82b-7acdb2554902"
      },
      "execution_count": 10,
      "outputs": [
        {
          "output_type": "stream",
          "name": "stdout",
          "text": [
            "Found 1000 images belonging to 2 classes.\n"
          ]
        }
      ]
    },
    {
      "cell_type": "markdown",
      "source": [
        "## split train, test dataset"
      ],
      "metadata": {
        "id": "sJFRzrxvDMEz"
      }
    },
    {
      "cell_type": "markdown",
      "source": [
        "## train Cnn"
      ],
      "metadata": {
        "id": "ffwp5FNtDREi"
      }
    },
    {
      "cell_type": "markdown",
      "source": [
        "### generate CNN"
      ],
      "metadata": {
        "id": "l5Z1nBnWDVPi"
      }
    },
    {
      "cell_type": "code",
      "source": [
        "(6272 +2) /2"
      ],
      "metadata": {
        "colab": {
          "base_uri": "https://localhost:8080/"
        },
        "id": "EzJWzACwK-HI",
        "outputId": "537d4d3a-4282-40a4-e2c1-4c8cd7548916"
      },
      "execution_count": 12,
      "outputs": [
        {
          "output_type": "execute_result",
          "data": {
            "text/plain": [
              "3137.0"
            ]
          },
          "metadata": {},
          "execution_count": 12
        }
      ]
    },
    {
      "cell_type": "code",
      "source": [
        "cnn = Sequential()\n",
        "cnn.add(Conv2D(filters = 32, kernel_size = (3,3), strides = (1,1), activation = 'relu', input_shape = (64,64,3)))\n",
        "cnn.add(MaxPool2D(pool_size = (2,2)))\n",
        "cnn.add(Conv2D(filters = 32, kernel_size = (3,3), strides = (1,1), activation = 'relu'))\n",
        "cnn.add(MaxPool2D(pool_size = (2,2)))\n",
        "\n",
        "cnn.add(Flatten())\n",
        "\n",
        "cnn.add(Dense(units = 3137, activation = 'relu'))\n",
        "cnn.add(Dense(units = 2, activation = 'softmax'))\n",
        "\n",
        "cnn.summary()"
      ],
      "metadata": {
        "colab": {
          "base_uri": "https://localhost:8080/"
        },
        "id": "rmMSQiVHJkyw",
        "outputId": "46c70d27-5fb6-4204-8782-32ac6ab1e797"
      },
      "execution_count": 13,
      "outputs": [
        {
          "output_type": "stream",
          "name": "stdout",
          "text": [
            "Model: \"sequential_1\"\n",
            "_________________________________________________________________\n",
            " Layer (type)                Output Shape              Param #   \n",
            "=================================================================\n",
            " conv2d_2 (Conv2D)           (None, 62, 62, 32)        896       \n",
            "                                                                 \n",
            " max_pooling2d_2 (MaxPoolin  (None, 31, 31, 32)        0         \n",
            " g2D)                                                            \n",
            "                                                                 \n",
            " conv2d_3 (Conv2D)           (None, 29, 29, 32)        9248      \n",
            "                                                                 \n",
            " max_pooling2d_3 (MaxPoolin  (None, 14, 14, 32)        0         \n",
            " g2D)                                                            \n",
            "                                                                 \n",
            " flatten_1 (Flatten)         (None, 6272)              0         \n",
            "                                                                 \n",
            " dense_2 (Dense)             (None, 3137)              19678401  \n",
            "                                                                 \n",
            " dense_3 (Dense)             (None, 2)                 6276      \n",
            "                                                                 \n",
            "=================================================================\n",
            "Total params: 19694821 (75.13 MB)\n",
            "Trainable params: 19694821 (75.13 MB)\n",
            "Non-trainable params: 0 (0.00 Byte)\n",
            "_________________________________________________________________\n"
          ]
        }
      ]
    },
    {
      "cell_type": "markdown",
      "source": [
        "### compile model"
      ],
      "metadata": {
        "id": "oUrEIfb8DYuM"
      }
    },
    {
      "cell_type": "code",
      "source": [
        "cnn.compile(optimizer = 'adam', loss = 'categorical_crossentropy', metrics = ['accuracy'])"
      ],
      "metadata": {
        "id": "RKwEOhgcLN4E"
      },
      "execution_count": 15,
      "outputs": []
    },
    {
      "cell_type": "markdown",
      "source": [
        "### training"
      ],
      "metadata": {
        "id": "P226c9x0Dbc8"
      }
    },
    {
      "cell_type": "code",
      "source": [
        "history = cnn.fit_generator(training_set, epochs = 50)"
      ],
      "metadata": {
        "colab": {
          "base_uri": "https://localhost:8080/"
        },
        "id": "WtDdVzcxLkT-",
        "outputId": "5f055438-189d-4e45-fdb1-6324d01ac654"
      },
      "execution_count": 16,
      "outputs": [
        {
          "output_type": "stream",
          "name": "stderr",
          "text": [
            "<ipython-input-16-38385fb58c02>:1: UserWarning: `Model.fit_generator` is deprecated and will be removed in a future version. Please use `Model.fit`, which supports generators.\n",
            "  history = cnn.fit_generator(training_set, epochs = 50)\n"
          ]
        },
        {
          "output_type": "stream",
          "name": "stdout",
          "text": [
            "Epoch 1/50\n",
            "125/125 [==============================] - 26s 173ms/step - loss: 0.7333 - accuracy: 0.4990\n",
            "Epoch 2/50\n",
            "125/125 [==============================] - 21s 171ms/step - loss: 0.6874 - accuracy: 0.5530\n",
            "Epoch 3/50\n",
            "125/125 [==============================] - 22s 178ms/step - loss: 0.6556 - accuracy: 0.6162\n",
            "Epoch 4/50\n",
            "125/125 [==============================] - 22s 174ms/step - loss: 0.6444 - accuracy: 0.6317\n",
            "Epoch 5/50\n",
            "125/125 [==============================] - 22s 177ms/step - loss: 0.6164 - accuracy: 0.6610\n",
            "Epoch 6/50\n",
            "125/125 [==============================] - 22s 173ms/step - loss: 0.6074 - accuracy: 0.6600\n",
            "Epoch 7/50\n",
            "125/125 [==============================] - 22s 176ms/step - loss: 0.5906 - accuracy: 0.6852\n",
            "Epoch 8/50\n",
            "125/125 [==============================] - 21s 171ms/step - loss: 0.5832 - accuracy: 0.6873\n",
            "Epoch 9/50\n",
            "125/125 [==============================] - 22s 178ms/step - loss: 0.5780 - accuracy: 0.6890\n",
            "Epoch 10/50\n",
            "125/125 [==============================] - 22s 174ms/step - loss: 0.5640 - accuracy: 0.6963\n",
            "Epoch 11/50\n",
            "125/125 [==============================] - 23s 181ms/step - loss: 0.5620 - accuracy: 0.7088\n",
            "Epoch 12/50\n",
            "125/125 [==============================] - 22s 179ms/step - loss: 0.5450 - accuracy: 0.7220\n",
            "Epoch 13/50\n",
            "125/125 [==============================] - 21s 169ms/step - loss: 0.5439 - accuracy: 0.7250\n",
            "Epoch 14/50\n",
            "125/125 [==============================] - 22s 176ms/step - loss: 0.5244 - accuracy: 0.7398\n",
            "Epoch 15/50\n",
            "125/125 [==============================] - 21s 171ms/step - loss: 0.5191 - accuracy: 0.7343\n",
            "Epoch 16/50\n",
            "125/125 [==============================] - 22s 176ms/step - loss: 0.5114 - accuracy: 0.7485\n",
            "Epoch 17/50\n",
            "125/125 [==============================] - 23s 184ms/step - loss: 0.5112 - accuracy: 0.7427\n",
            "Epoch 18/50\n",
            "125/125 [==============================] - 24s 193ms/step - loss: 0.4913 - accuracy: 0.7533\n",
            "Epoch 19/50\n",
            "125/125 [==============================] - 22s 176ms/step - loss: 0.4698 - accuracy: 0.7713\n",
            "Epoch 20/50\n",
            "125/125 [==============================] - 22s 178ms/step - loss: 0.4704 - accuracy: 0.7755\n",
            "Epoch 21/50\n",
            "125/125 [==============================] - 22s 175ms/step - loss: 0.4616 - accuracy: 0.7825\n",
            "Epoch 22/50\n",
            "125/125 [==============================] - 21s 168ms/step - loss: 0.4406 - accuracy: 0.7885\n",
            "Epoch 23/50\n",
            "125/125 [==============================] - 22s 177ms/step - loss: 0.4415 - accuracy: 0.7935\n",
            "Epoch 24/50\n",
            "125/125 [==============================] - 22s 177ms/step - loss: 0.4323 - accuracy: 0.7950\n",
            "Epoch 25/50\n",
            "125/125 [==============================] - 21s 169ms/step - loss: 0.4164 - accuracy: 0.8158\n",
            "Epoch 26/50\n",
            "125/125 [==============================] - 22s 176ms/step - loss: 0.4002 - accuracy: 0.8207\n",
            "Epoch 27/50\n",
            "125/125 [==============================] - 22s 175ms/step - loss: 0.4036 - accuracy: 0.8120\n",
            "Epoch 28/50\n",
            "125/125 [==============================] - 22s 173ms/step - loss: 0.3874 - accuracy: 0.8238\n",
            "Epoch 29/50\n",
            "125/125 [==============================] - 21s 169ms/step - loss: 0.3843 - accuracy: 0.8275\n",
            "Epoch 30/50\n",
            "125/125 [==============================] - 22s 177ms/step - loss: 0.3649 - accuracy: 0.8380\n",
            "Epoch 31/50\n",
            "125/125 [==============================] - 21s 169ms/step - loss: 0.3488 - accuracy: 0.8465\n",
            "Epoch 32/50\n",
            "125/125 [==============================] - 21s 171ms/step - loss: 0.3352 - accuracy: 0.8553\n",
            "Epoch 33/50\n",
            "125/125 [==============================] - 21s 170ms/step - loss: 0.3253 - accuracy: 0.8575\n",
            "Epoch 34/50\n",
            "125/125 [==============================] - 21s 171ms/step - loss: 0.3162 - accuracy: 0.8618\n",
            "Epoch 35/50\n",
            "125/125 [==============================] - 21s 168ms/step - loss: 0.2987 - accuracy: 0.8717\n",
            "Epoch 36/50\n",
            "125/125 [==============================] - 22s 176ms/step - loss: 0.2867 - accuracy: 0.8755\n",
            "Epoch 37/50\n",
            "125/125 [==============================] - 22s 175ms/step - loss: 0.2736 - accuracy: 0.8882\n",
            "Epoch 38/50\n",
            "125/125 [==============================] - 22s 174ms/step - loss: 0.2854 - accuracy: 0.8802\n",
            "Epoch 39/50\n",
            "125/125 [==============================] - 22s 176ms/step - loss: 0.2483 - accuracy: 0.9005\n",
            "Epoch 40/50\n",
            "125/125 [==============================] - 21s 169ms/step - loss: 0.2500 - accuracy: 0.8970\n",
            "Epoch 41/50\n",
            "125/125 [==============================] - 22s 176ms/step - loss: 0.2264 - accuracy: 0.9082\n",
            "Epoch 42/50\n",
            "125/125 [==============================] - 21s 172ms/step - loss: 0.2222 - accuracy: 0.9072\n",
            "Epoch 43/50\n",
            "125/125 [==============================] - 22s 174ms/step - loss: 0.2206 - accuracy: 0.9128\n",
            "Epoch 44/50\n",
            "125/125 [==============================] - 21s 167ms/step - loss: 0.1935 - accuracy: 0.9243\n",
            "Epoch 45/50\n",
            "125/125 [==============================] - 22s 174ms/step - loss: 0.2055 - accuracy: 0.9153\n",
            "Epoch 46/50\n",
            "125/125 [==============================] - 21s 167ms/step - loss: 0.1894 - accuracy: 0.9260\n",
            "Epoch 47/50\n",
            "125/125 [==============================] - 22s 176ms/step - loss: 0.1909 - accuracy: 0.9237\n",
            "Epoch 48/50\n",
            "125/125 [==============================] - 22s 175ms/step - loss: 0.1752 - accuracy: 0.9335\n",
            "Epoch 49/50\n",
            "125/125 [==============================] - 22s 175ms/step - loss: 0.1711 - accuracy: 0.9358\n",
            "Epoch 50/50\n",
            "125/125 [==============================] - 21s 167ms/step - loss: 0.1577 - accuracy: 0.9370\n"
          ]
        }
      ]
    },
    {
      "cell_type": "markdown",
      "source": [
        "## Varidation"
      ],
      "metadata": {
        "id": "t4VqUow_DdP7"
      }
    },
    {
      "cell_type": "code",
      "source": [
        "pred = cnn.predict(test_set)"
      ],
      "metadata": {
        "colab": {
          "base_uri": "https://localhost:8080/"
        },
        "id": "4PfH720XRGnW",
        "outputId": "0fca0d6c-06cd-4818-9dc8-5aba028be305"
      },
      "execution_count": 17,
      "outputs": [
        {
          "output_type": "stream",
          "name": "stdout",
          "text": [
            "1000/1000 [==============================] - 5s 5ms/step\n"
          ]
        }
      ]
    },
    {
      "cell_type": "code",
      "source": [
        "pred = np.argmax(pred,axis = 1) # 열끼리 비교했을 때 최대값에 1\n",
        "pred"
      ],
      "metadata": {
        "colab": {
          "base_uri": "https://localhost:8080/"
        },
        "id": "lq22_4ypRw9o",
        "outputId": "b2f77592-b561-4a49-fc21-8296fcb4feb8"
      },
      "execution_count": 21,
      "outputs": [
        {
          "output_type": "execute_result",
          "data": {
            "text/plain": [
              "array([1, 1, 0, 0, 0, 1, 0, 0, 1, 0, 0, 0, 1, 0, 1, 0, 1, 0, 1, 0, 0, 1,\n",
              "       0, 0, 1, 0, 0, 0, 0, 1, 0, 0, 0, 0, 0, 1, 1, 1, 0, 0, 0, 0, 0, 0,\n",
              "       0, 0, 0, 0, 0, 0, 1, 1, 0, 0, 1, 0, 0, 0, 0, 0, 1, 1, 0, 0, 0, 0,\n",
              "       0, 1, 0, 0, 1, 1, 0, 0, 1, 0, 0, 0, 0, 0, 1, 0, 0, 0, 0, 1, 1, 0,\n",
              "       0, 0, 0, 0, 0, 0, 0, 0, 0, 0, 0, 1, 1, 0, 0, 0, 1, 1, 1, 0, 1, 1,\n",
              "       0, 0, 0, 0, 0, 0, 0, 1, 1, 1, 1, 0, 0, 0, 0, 0, 0, 0, 0, 1, 1, 1,\n",
              "       0, 1, 1, 0, 1, 1, 0, 0, 0, 1, 0, 1, 0, 0, 0, 0, 1, 1, 1, 0, 0, 1,\n",
              "       0, 0, 0, 1, 1, 0, 1, 0, 0, 1, 0, 0, 0, 1, 1, 0, 0, 0, 1, 0, 0, 1,\n",
              "       0, 0, 0, 0, 0, 0, 1, 0, 1, 1, 1, 0, 0, 0, 0, 1, 0, 1, 1, 0, 1, 1,\n",
              "       1, 0, 1, 1, 0, 0, 0, 0, 1, 0, 1, 1, 0, 0, 0, 1, 1, 1, 0, 0, 0, 0,\n",
              "       0, 0, 1, 0, 1, 1, 0, 0, 0, 0, 0, 1, 0, 0, 1, 0, 0, 0, 0, 0, 0, 0,\n",
              "       0, 0, 1, 0, 0, 0, 1, 0, 1, 0, 0, 0, 0, 0, 1, 0, 0, 1, 0, 1, 0, 1,\n",
              "       0, 0, 1, 1, 0, 0, 0, 0, 1, 1, 0, 1, 0, 0, 0, 0, 1, 1, 1, 0, 0, 0,\n",
              "       1, 0, 0, 1, 0, 1, 0, 0, 0, 1, 0, 0, 0, 0, 1, 1, 0, 0, 0, 0, 1, 0,\n",
              "       0, 1, 0, 0, 0, 1, 0, 1, 1, 0, 1, 1, 0, 0, 1, 1, 0, 0, 0, 0, 1, 0,\n",
              "       1, 0, 1, 0, 1, 1, 0, 0, 0, 1, 0, 0, 0, 0, 0, 1, 0, 1, 1, 1, 0, 0,\n",
              "       0, 1, 0, 1, 0, 0, 1, 1, 0, 0, 0, 1, 0, 1, 0, 0, 1, 0, 1, 0, 0, 0,\n",
              "       0, 0, 0, 0, 0, 0, 1, 1, 0, 0, 1, 1, 0, 0, 0, 0, 1, 1, 0, 0, 1, 0,\n",
              "       1, 0, 1, 1, 0, 1, 0, 0, 0, 0, 1, 0, 1, 0, 1, 0, 0, 0, 0, 1, 0, 0,\n",
              "       1, 1, 0, 0, 0, 1, 0, 0, 0, 0, 0, 0, 0, 0, 1, 0, 0, 0, 0, 0, 1, 1,\n",
              "       0, 0, 0, 0, 1, 1, 1, 0, 0, 0, 0, 0, 1, 0, 0, 0, 0, 1, 0, 0, 1, 0,\n",
              "       1, 1, 1, 1, 0, 0, 0, 0, 0, 0, 0, 1, 1, 0, 1, 1, 1, 0, 0, 0, 0, 0,\n",
              "       0, 0, 0, 0, 0, 0, 1, 1, 1, 0, 1, 1, 1, 0, 1, 0, 1, 0, 1, 1, 0, 0,\n",
              "       0, 1, 1, 1, 1, 1, 1, 1, 0, 0, 1, 1, 1, 0, 1, 1, 1, 1, 1, 0, 1, 1,\n",
              "       1, 1, 1, 0, 1, 1, 1, 1, 1, 1, 1, 1, 1, 1, 1, 1, 0, 0, 1, 1, 1, 1,\n",
              "       1, 1, 1, 1, 0, 1, 1, 1, 0, 0, 1, 1, 1, 1, 1, 0, 1, 1, 1, 0, 1, 1,\n",
              "       0, 1, 1, 1, 1, 1, 0, 1, 1, 1, 1, 1, 1, 1, 1, 1, 1, 1, 1, 1, 0, 1,\n",
              "       1, 0, 1, 0, 1, 1, 1, 1, 1, 1, 1, 1, 1, 1, 1, 0, 1, 1, 1, 1, 0, 1,\n",
              "       1, 1, 0, 0, 1, 0, 1, 1, 1, 1, 1, 1, 0, 1, 0, 1, 1, 1, 1, 1, 1, 1,\n",
              "       0, 1, 1, 1, 1, 1, 0, 1, 1, 1, 1, 1, 1, 0, 1, 1, 1, 0, 1, 1, 1, 1,\n",
              "       1, 1, 1, 1, 0, 1, 1, 1, 1, 1, 1, 1, 0, 1, 0, 1, 1, 1, 1, 1, 1, 1,\n",
              "       1, 1, 1, 1, 1, 0, 1, 1, 1, 0, 1, 0, 1, 1, 1, 1, 1, 1, 1, 0, 1, 0,\n",
              "       1, 1, 0, 1, 1, 1, 1, 1, 1, 1, 1, 1, 1, 0, 1, 0, 1, 1, 1, 1, 1, 0,\n",
              "       1, 1, 0, 0, 1, 1, 1, 0, 1, 1, 1, 1, 1, 1, 1, 1, 1, 1, 1, 1, 1, 1,\n",
              "       1, 0, 1, 1, 1, 1, 1, 0, 0, 1, 1, 1, 1, 0, 1, 1, 1, 1, 0, 0, 1, 0,\n",
              "       1, 1, 1, 1, 1, 1, 1, 1, 0, 1, 1, 0, 1, 1, 1, 1, 0, 1, 1, 1, 1, 1,\n",
              "       1, 1, 1, 0, 1, 1, 0, 1, 1, 1, 1, 1, 1, 1, 1, 1, 0, 1, 1, 1, 0, 0,\n",
              "       1, 1, 0, 1, 1, 1, 1, 0, 0, 1, 1, 1, 0, 1, 1, 1, 1, 0, 1, 1, 0, 1,\n",
              "       1, 1, 0, 1, 1, 1, 1, 1, 1, 0, 0, 1, 1, 1, 1, 1, 1, 1, 1, 1, 1, 1,\n",
              "       0, 1, 1, 0, 1, 1, 1, 1, 1, 1, 1, 1, 0, 1, 1, 1, 0, 1, 1, 1, 1, 1,\n",
              "       1, 1, 1, 0, 1, 1, 1, 0, 1, 1, 1, 1, 1, 0, 1, 1, 1, 1, 1, 1, 1, 1,\n",
              "       1, 1, 1, 0, 1, 1, 1, 1, 1, 1, 1, 1, 1, 0, 1, 1, 0, 0, 1, 1, 1, 0,\n",
              "       1, 1, 1, 0, 1, 0, 1, 1, 1, 1, 1, 0, 1, 1, 1, 1, 1, 1, 1, 0, 1, 1,\n",
              "       0, 1, 1, 1, 1, 1, 1, 1, 1, 1, 1, 1, 1, 1, 1, 1, 1, 0, 1, 0, 0, 1,\n",
              "       1, 1, 1, 1, 1, 1, 1, 1, 1, 1, 1, 1, 1, 1, 1, 1, 1, 1, 1, 1, 1, 0,\n",
              "       1, 1, 1, 1, 0, 1, 0, 1, 1, 1])"
            ]
          },
          "metadata": {},
          "execution_count": 21
        }
      ]
    },
    {
      "cell_type": "code",
      "source": [
        "test_set.classes"
      ],
      "metadata": {
        "colab": {
          "base_uri": "https://localhost:8080/"
        },
        "id": "tZa5D4kmRP9f",
        "outputId": "fb91e5f9-1bfc-499a-c199-04b97fb3f7ef"
      },
      "execution_count": 18,
      "outputs": [
        {
          "output_type": "execute_result",
          "data": {
            "text/plain": [
              "array([0, 0, 0, 0, 0, 0, 0, 0, 0, 0, 0, 0, 0, 0, 0, 0, 0, 0, 0, 0, 0, 0,\n",
              "       0, 0, 0, 0, 0, 0, 0, 0, 0, 0, 0, 0, 0, 0, 0, 0, 0, 0, 0, 0, 0, 0,\n",
              "       0, 0, 0, 0, 0, 0, 0, 0, 0, 0, 0, 0, 0, 0, 0, 0, 0, 0, 0, 0, 0, 0,\n",
              "       0, 0, 0, 0, 0, 0, 0, 0, 0, 0, 0, 0, 0, 0, 0, 0, 0, 0, 0, 0, 0, 0,\n",
              "       0, 0, 0, 0, 0, 0, 0, 0, 0, 0, 0, 0, 0, 0, 0, 0, 0, 0, 0, 0, 0, 0,\n",
              "       0, 0, 0, 0, 0, 0, 0, 0, 0, 0, 0, 0, 0, 0, 0, 0, 0, 0, 0, 0, 0, 0,\n",
              "       0, 0, 0, 0, 0, 0, 0, 0, 0, 0, 0, 0, 0, 0, 0, 0, 0, 0, 0, 0, 0, 0,\n",
              "       0, 0, 0, 0, 0, 0, 0, 0, 0, 0, 0, 0, 0, 0, 0, 0, 0, 0, 0, 0, 0, 0,\n",
              "       0, 0, 0, 0, 0, 0, 0, 0, 0, 0, 0, 0, 0, 0, 0, 0, 0, 0, 0, 0, 0, 0,\n",
              "       0, 0, 0, 0, 0, 0, 0, 0, 0, 0, 0, 0, 0, 0, 0, 0, 0, 0, 0, 0, 0, 0,\n",
              "       0, 0, 0, 0, 0, 0, 0, 0, 0, 0, 0, 0, 0, 0, 0, 0, 0, 0, 0, 0, 0, 0,\n",
              "       0, 0, 0, 0, 0, 0, 0, 0, 0, 0, 0, 0, 0, 0, 0, 0, 0, 0, 0, 0, 0, 0,\n",
              "       0, 0, 0, 0, 0, 0, 0, 0, 0, 0, 0, 0, 0, 0, 0, 0, 0, 0, 0, 0, 0, 0,\n",
              "       0, 0, 0, 0, 0, 0, 0, 0, 0, 0, 0, 0, 0, 0, 0, 0, 0, 0, 0, 0, 0, 0,\n",
              "       0, 0, 0, 0, 0, 0, 0, 0, 0, 0, 0, 0, 0, 0, 0, 0, 0, 0, 0, 0, 0, 0,\n",
              "       0, 0, 0, 0, 0, 0, 0, 0, 0, 0, 0, 0, 0, 0, 0, 0, 0, 0, 0, 0, 0, 0,\n",
              "       0, 0, 0, 0, 0, 0, 0, 0, 0, 0, 0, 0, 0, 0, 0, 0, 0, 0, 0, 0, 0, 0,\n",
              "       0, 0, 0, 0, 0, 0, 0, 0, 0, 0, 0, 0, 0, 0, 0, 0, 0, 0, 0, 0, 0, 0,\n",
              "       0, 0, 0, 0, 0, 0, 0, 0, 0, 0, 0, 0, 0, 0, 0, 0, 0, 0, 0, 0, 0, 0,\n",
              "       0, 0, 0, 0, 0, 0, 0, 0, 0, 0, 0, 0, 0, 0, 0, 0, 0, 0, 0, 0, 0, 0,\n",
              "       0, 0, 0, 0, 0, 0, 0, 0, 0, 0, 0, 0, 0, 0, 0, 0, 0, 0, 0, 0, 0, 0,\n",
              "       0, 0, 0, 0, 0, 0, 0, 0, 0, 0, 0, 0, 0, 0, 0, 0, 0, 0, 0, 0, 0, 0,\n",
              "       0, 0, 0, 0, 0, 0, 0, 0, 0, 0, 0, 0, 0, 0, 0, 0, 1, 1, 1, 1, 1, 1,\n",
              "       1, 1, 1, 1, 1, 1, 1, 1, 1, 1, 1, 1, 1, 1, 1, 1, 1, 1, 1, 1, 1, 1,\n",
              "       1, 1, 1, 1, 1, 1, 1, 1, 1, 1, 1, 1, 1, 1, 1, 1, 1, 1, 1, 1, 1, 1,\n",
              "       1, 1, 1, 1, 1, 1, 1, 1, 1, 1, 1, 1, 1, 1, 1, 1, 1, 1, 1, 1, 1, 1,\n",
              "       1, 1, 1, 1, 1, 1, 1, 1, 1, 1, 1, 1, 1, 1, 1, 1, 1, 1, 1, 1, 1, 1,\n",
              "       1, 1, 1, 1, 1, 1, 1, 1, 1, 1, 1, 1, 1, 1, 1, 1, 1, 1, 1, 1, 1, 1,\n",
              "       1, 1, 1, 1, 1, 1, 1, 1, 1, 1, 1, 1, 1, 1, 1, 1, 1, 1, 1, 1, 1, 1,\n",
              "       1, 1, 1, 1, 1, 1, 1, 1, 1, 1, 1, 1, 1, 1, 1, 1, 1, 1, 1, 1, 1, 1,\n",
              "       1, 1, 1, 1, 1, 1, 1, 1, 1, 1, 1, 1, 1, 1, 1, 1, 1, 1, 1, 1, 1, 1,\n",
              "       1, 1, 1, 1, 1, 1, 1, 1, 1, 1, 1, 1, 1, 1, 1, 1, 1, 1, 1, 1, 1, 1,\n",
              "       1, 1, 1, 1, 1, 1, 1, 1, 1, 1, 1, 1, 1, 1, 1, 1, 1, 1, 1, 1, 1, 1,\n",
              "       1, 1, 1, 1, 1, 1, 1, 1, 1, 1, 1, 1, 1, 1, 1, 1, 1, 1, 1, 1, 1, 1,\n",
              "       1, 1, 1, 1, 1, 1, 1, 1, 1, 1, 1, 1, 1, 1, 1, 1, 1, 1, 1, 1, 1, 1,\n",
              "       1, 1, 1, 1, 1, 1, 1, 1, 1, 1, 1, 1, 1, 1, 1, 1, 1, 1, 1, 1, 1, 1,\n",
              "       1, 1, 1, 1, 1, 1, 1, 1, 1, 1, 1, 1, 1, 1, 1, 1, 1, 1, 1, 1, 1, 1,\n",
              "       1, 1, 1, 1, 1, 1, 1, 1, 1, 1, 1, 1, 1, 1, 1, 1, 1, 1, 1, 1, 1, 1,\n",
              "       1, 1, 1, 1, 1, 1, 1, 1, 1, 1, 1, 1, 1, 1, 1, 1, 1, 1, 1, 1, 1, 1,\n",
              "       1, 1, 1, 1, 1, 1, 1, 1, 1, 1, 1, 1, 1, 1, 1, 1, 1, 1, 1, 1, 1, 1,\n",
              "       1, 1, 1, 1, 1, 1, 1, 1, 1, 1, 1, 1, 1, 1, 1, 1, 1, 1, 1, 1, 1, 1,\n",
              "       1, 1, 1, 1, 1, 1, 1, 1, 1, 1, 1, 1, 1, 1, 1, 1, 1, 1, 1, 1, 1, 1,\n",
              "       1, 1, 1, 1, 1, 1, 1, 1, 1, 1, 1, 1, 1, 1, 1, 1, 1, 1, 1, 1, 1, 1,\n",
              "       1, 1, 1, 1, 1, 1, 1, 1, 1, 1, 1, 1, 1, 1, 1, 1, 1, 1, 1, 1, 1, 1,\n",
              "       1, 1, 1, 1, 1, 1, 1, 1, 1, 1, 1, 1, 1, 1, 1, 1, 1, 1, 1, 1, 1, 1,\n",
              "       1, 1, 1, 1, 1, 1, 1, 1, 1, 1], dtype=int32)"
            ]
          },
          "metadata": {},
          "execution_count": 18
        }
      ]
    },
    {
      "cell_type": "code",
      "source": [
        "from sklearn.metrics import accuracy_score\n",
        "accuracy_score(test_set.classes, pred)"
      ],
      "metadata": {
        "colab": {
          "base_uri": "https://localhost:8080/"
        },
        "id": "F8WgTlzmRUUX",
        "outputId": "264fa1fd-0ba5-40b9-a6ac-005a9081b059"
      },
      "execution_count": 22,
      "outputs": [
        {
          "output_type": "execute_result",
          "data": {
            "text/plain": [
              "0.734"
            ]
          },
          "metadata": {},
          "execution_count": 22
        }
      ]
    },
    {
      "cell_type": "code",
      "source": [
        "from sklearn.metrics import confusion_matrix\n",
        "import seaborn as sns\n",
        "cm = confusion_matrix(test_set.classes, pred)\n",
        "sns.heatmap(cm, annot=True)"
      ],
      "metadata": {
        "colab": {
          "base_uri": "https://localhost:8080/",
          "height": 448
        },
        "id": "W0xRYLzMSHe9",
        "outputId": "0cc82cf4-be9f-4f6b-a828-93404faadf1e"
      },
      "execution_count": 24,
      "outputs": [
        {
          "output_type": "execute_result",
          "data": {
            "text/plain": [
              "<Axes: >"
            ]
          },
          "metadata": {},
          "execution_count": 24
        },
        {
          "output_type": "display_data",
          "data": {
            "text/plain": [
              "<Figure size 640x480 with 2 Axes>"
            ],
            "image/png": "[encoded data removed]"
          },
          "metadata": {}
        }
      ]
    },
    {
      "cell_type": "code",
      "source": [
        "from sklearn.metrics import classification_report\n",
        "print(classification_report(test_set.classes, pred))"
      ],
      "metadata": {
        "colab": {
          "base_uri": "https://localhost:8080/"
        },
        "id": "ZowgqjoNS3Pd",
        "outputId": "4441d79b-2973-4015-e284-9032bc6d1fc1"
      },
      "execution_count": 25,
      "outputs": [
        {
          "output_type": "stream",
          "name": "stdout",
          "text": [
            "              precision    recall  f1-score   support\n",
            "\n",
            "           0       0.78      0.66      0.71       500\n",
            "           1       0.70      0.81      0.75       500\n",
            "\n",
            "    accuracy                           0.73      1000\n",
            "   macro avg       0.74      0.73      0.73      1000\n",
            "weighted avg       0.74      0.73      0.73      1000\n",
            "\n"
          ]
        }
      ]
    }
  ]
}
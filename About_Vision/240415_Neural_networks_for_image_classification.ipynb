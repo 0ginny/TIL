{
  "nbformat": 4,
  "nbformat_minor": 0,
  "metadata": {
    "colab": {
      "provenance": [],
      "include_colab_link": true
    },
    "kernelspec": {
      "name": "python3",
      "display_name": "Python 3"
    }
  },
  "cells": [
    {
      "cell_type": "markdown",
      "metadata": {
        "id": "view-in-github",
        "colab_type": "text"
      },
      "source": [
        "<a href=\"https://colab.research.google.com/github/0ginny/TIL/blob/main/240415_Neural_networks_for_image_classification.ipynb\" target=\"_parent\"><img src=\"https://colab.research.google.com/assets/colab-badge.svg\" alt=\"Open In Colab\"/></a>"
      ]
    },
    {
      "cell_type": "markdown",
      "metadata": {
        "id": "Sd_h453YseEx"
      },
      "source": [
        "# Neural network for image classification"
      ]
    },
    {
      "cell_type": "markdown",
      "metadata": {
        "id": "NMc-ovSUNUnI"
      },
      "source": [
        "## Approach 1 - extract all the pixels"
      ]
    },
    {
      "cell_type": "markdown",
      "metadata": {
        "id": "nA9a2AFmsiFJ"
      },
      "source": [
        "### Importing the libraries"
      ]
    },
    {
      "cell_type": "code",
      "metadata": {
        "colab": {
          "base_uri": "https://localhost:8080/",
          "height": 36
        },
        "id": "GFTBW79STIEY",
        "outputId": "7db4a8c5-5d13-4f8f-f980-397a602f672f"
      },
      "source": [
        "import cv2\n",
        "import numpy as np\n",
        "import os\n",
        "import zipfile\n",
        "from google.colab.patches import cv2_imshow\n",
        "import tensorflow as tf\n",
        "import pandas as pd\n",
        "import seaborn as sns\n",
        "import matplotlib.pyplot as plt\n",
        "tf.__version__"
      ],
      "execution_count": 1,
      "outputs": [
        {
          "output_type": "execute_result",
          "data": {
            "text/plain": [
              "'2.15.0'"
            ],
            "application/vnd.google.colaboratory.intrinsic+json": {
              "type": "string"
            }
          },
          "metadata": {},
          "execution_count": 1
        }
      ]
    },
    {
      "cell_type": "markdown",
      "metadata": {
        "id": "lW1ZuebL-Vm8"
      },
      "source": [
        "### Extracting pixels from images"
      ]
    },
    {
      "cell_type": "code",
      "metadata": {
        "colab": {
          "base_uri": "https://localhost:8080/"
        },
        "id": "fkK5nGhKUdlI",
        "outputId": "8422c4bc-db21-4223-8daa-ff9b9f35039d"
      },
      "source": [
        "from google.colab import drive\n",
        "drive.mount('/content/drive')"
      ],
      "execution_count": 2,
      "outputs": [
        {
          "output_type": "stream",
          "name": "stdout",
          "text": [
            "Mounted at /content/drive\n"
          ]
        }
      ]
    },
    {
      "cell_type": "code",
      "source": [
        "%cd /content/drive/MyDrive/Colab Notebooks/Vision_AZ"
      ],
      "metadata": {
        "colab": {
          "base_uri": "https://localhost:8080/"
        },
        "id": "XJbQo1WtERCA",
        "outputId": "8ed25074-fff5-4aa0-ba17-e199ce024c16"
      },
      "execution_count": 3,
      "outputs": [
        {
          "output_type": "stream",
          "name": "stdout",
          "text": [
            "/content/drive/MyDrive/Colab Notebooks/Vision_AZ\n"
          ]
        }
      ]
    },
    {
      "cell_type": "code",
      "source": [
        "path = './Datasets/homer_bart_1.zip'\n",
        "zip_object = zipfile.ZipFile(file = path, mode = 'r') # read mode\n",
        "zip_object.extractall('./') # 추출, 위치 : 기본 위치.\n",
        "zip_object.close"
      ],
      "metadata": {
        "colab": {
          "base_uri": "https://localhost:8080/",
          "height": 138
        },
        "id": "YAXwvTRGET03",
        "outputId": "602f6183-ffe8-4875-d748-5eeeff2b775e"
      },
      "execution_count": 4,
      "outputs": [
        {
          "output_type": "execute_result",
          "data": {
            "text/plain": [
              "<bound method ZipFile.close of <zipfile.ZipFile filename='./Datasets/homer_bart_1.zip' mode='r'>>"
            ],
            "text/html": [
              "<div style=\"max-width:800px; border: 1px solid var(--colab-border-color);\"><style>\n",
              "      pre.function-repr-contents {\n",
              "        overflow-x: auto;\n",
              "        padding: 8px 12px;\n",
              "        max-height: 500px;\n",
              "      }\n",
              "\n",
              "      pre.function-repr-contents.function-repr-contents-collapsed {\n",
              "        cursor: pointer;\n",
              "        max-height: 100px;\n",
              "      }\n",
              "    </style>\n",
              "    <pre style=\"white-space: initial; background:\n",
              "         var(--colab-secondary-surface-color); padding: 8px 12px;\n",
              "         border-bottom: 1px solid var(--colab-border-color);\"><b>zipfile.ZipFile.close</b><br/>def close()</pre><pre class=\"function-repr-contents function-repr-contents-collapsed\" style=\"\"><a class=\"filepath\" style=\"display:none\" href=\"#\">/usr/lib/python3.10/zipfile.py</a>Close the file, and for mode &#x27;w&#x27;, &#x27;x&#x27; and &#x27;a&#x27; write the ending\n",
              "records.</pre>\n",
              "      <script>\n",
              "      if (google.colab.kernel.accessAllowed && google.colab.files && google.colab.files.view) {\n",
              "        for (const element of document.querySelectorAll('.filepath')) {\n",
              "          element.style.display = 'block'\n",
              "          element.onclick = (event) => {\n",
              "            event.preventDefault();\n",
              "            event.stopPropagation();\n",
              "            google.colab.files.view(element.textContent, 1823);\n",
              "          };\n",
              "        }\n",
              "      }\n",
              "      for (const element of document.querySelectorAll('.function-repr-contents')) {\n",
              "        element.onclick = (event) => {\n",
              "          event.preventDefault();\n",
              "          event.stopPropagation();\n",
              "          element.classList.toggle('function-repr-contents-collapsed');\n",
              "        };\n",
              "      }\n",
              "      </script>\n",
              "      </div>"
            ]
          },
          "metadata": {},
          "execution_count": 4
        }
      ]
    },
    {
      "cell_type": "code",
      "source": [
        "# but size 가 다름."
      ],
      "metadata": {
        "id": "wTIO9w6bGlnT"
      },
      "execution_count": null,
      "outputs": []
    },
    {
      "cell_type": "code",
      "source": [
        "directory = './homer_bart_1/'\n",
        "# os.path.join은 경로를 연결해줘.\n",
        "files = [os.path.join(directory, f) for f in os.listdir(directory)]\n",
        "files"
      ],
      "metadata": {
        "id": "kEIzBxhkGq2F"
      },
      "execution_count": null,
      "outputs": []
    },
    {
      "cell_type": "code",
      "source": [
        "height, width = 128, 128"
      ],
      "metadata": {
        "id": "0Rj2gTilI_T8"
      },
      "execution_count": 7,
      "outputs": []
    },
    {
      "cell_type": "code",
      "source": [
        "images = [] # file directory\n",
        "classes = [] # label"
      ],
      "metadata": {
        "id": "1y7nzuhjJD6o"
      },
      "execution_count": 22,
      "outputs": []
    },
    {
      "cell_type": "code",
      "source": [
        "for image_path in files :\n",
        "\n",
        "    try :\n",
        "        image = cv2.imread(image_path)\n",
        "        (H, W) = image.shape[:2] # 이미지의 가로 세로만 추출\n",
        "    except:\n",
        "        continue\n",
        "    image = cv2.resize(image, (width, height))\n",
        "    image = cv2.cvtColor(image, cv2.COLOR_BGR2GRAY)\n",
        "    cv2_imshow(image)\n",
        "    # 백터로 변환\n",
        "    image = image.ravel()\n",
        "    images.append(image)\n",
        "\n",
        "    image_name = os.path.basename(os.path.normpath(image_path))\n",
        "    print(image_name)\n",
        "    if image_name.startswith('b'):\n",
        "        class_name = 0\n",
        "    else :\n",
        "        class_name = 1\n",
        "    print(class_name)\n",
        "    classes.append(class_name)"
      ],
      "metadata": {
        "id": "kOms5ksiVFgS"
      },
      "execution_count": null,
      "outputs": []
    },
    {
      "cell_type": "code",
      "source": [
        "len(classes), len(classes)"
      ],
      "metadata": {
        "colab": {
          "base_uri": "https://localhost:8080/"
        },
        "id": "oGTygVKZZwLt",
        "outputId": "1f34e328-211c-4573-8e66-c3cafaf7066d"
      },
      "execution_count": 21,
      "outputs": [
        {
          "output_type": "execute_result",
          "data": {
            "text/plain": [
              "(269, 269)"
            ]
          },
          "metadata": {},
          "execution_count": 21
        }
      ]
    },
    {
      "cell_type": "code",
      "source": [
        "print(classes)"
      ],
      "metadata": {
        "colab": {
          "base_uri": "https://localhost:8080/"
        },
        "id": "_cfz2RRWaHzM",
        "outputId": "1fce0e63-a3f7-4790-a65a-5bb397cd2a2b"
      },
      "execution_count": 20,
      "outputs": [
        {
          "output_type": "stream",
          "name": "stdout",
          "text": [
            "[1, 0, 0, 1, 0, 1, 0, 1, 0, 0, 0, 0, 1, 0, 0, 0, 0, 0, 0, 0, 0, 0, 0, 1, 0, 1, 0, 0, 0, 0, 0, 1, 0, 1, 0, 0, 1, 0, 0, 1, 1, 0, 1, 1, 0, 1, 1, 1, 0, 0, 1, 0, 0, 1, 1, 0, 0, 0, 0, 0, 1, 1, 1, 0, 0, 1, 1, 0, 0, 0, 0, 0, 0, 1, 1, 1, 0, 1, 1, 0, 1, 0, 0, 0, 0, 0, 0, 0, 1, 0, 1, 1, 0, 1, 1, 0, 0, 0, 0, 0, 0, 1, 1, 0, 0, 1, 0, 1, 1, 1, 0, 0, 0, 0, 0, 0, 0, 0, 1, 1, 0, 1, 0, 1, 1, 0, 1, 0, 1, 1, 0, 0, 0, 0, 0, 0, 1, 1, 0, 1, 0, 1, 1, 0, 1, 0, 1, 0, 1, 1, 1, 0, 0, 0, 0, 0, 1, 1, 1, 0, 1, 0, 1, 0, 1, 0, 1, 1, 1, 0, 0, 0, 0, 0, 0, 0, 0, 1, 1, 1, 0, 0, 0, 0, 1, 0, 0, 1, 0, 1, 0, 0, 1, 1, 0, 0, 0, 1, 0, 0, 1, 0, 1, 1, 0, 1, 0, 1, 1, 0, 1, 0, 0, 0, 1, 1, 0, 0, 0, 0, 1, 0, 1, 1, 0, 1, 0, 0, 1, 0, 1, 1, 0, 1, 0, 0, 0, 1, 1, 0, 0, 0, 1, 0, 1, 1, 0, 1, 0, 1, 0, 1, 0, 0, 0, 1, 0, 1, 0, 1, 0, 0, 0, 1, 0, 0, 1, 0, 1]\n"
          ]
        }
      ]
    },
    {
      "cell_type": "code",
      "source": [
        "# 딥러닝을 하기 위해 np로 만들어야해.\n",
        "\n",
        "X = np.asarray(images)\n",
        "y = np.asarray(classes)"
      ],
      "metadata": {
        "id": "F8g1ku0tbuFs"
      },
      "execution_count": 24,
      "outputs": []
    },
    {
      "cell_type": "code",
      "source": [
        "X.shape, y.shape"
      ],
      "metadata": {
        "colab": {
          "base_uri": "https://localhost:8080/"
        },
        "id": "EDRmeGtCb4Nr",
        "outputId": "a328d910-1281-44ab-dbab-d8d5b3464a57"
      },
      "execution_count": 25,
      "outputs": [
        {
          "output_type": "execute_result",
          "data": {
            "text/plain": [
              "((269, 16384), (269,))"
            ]
          },
          "metadata": {},
          "execution_count": 25
        }
      ]
    },
    {
      "cell_type": "code",
      "source": [
        "cv2_imshow(X[0].reshape(width,height))"
      ],
      "metadata": {
        "colab": {
          "base_uri": "https://localhost:8080/",
          "height": 145
        },
        "id": "B8_IMMfOcO7k",
        "outputId": "901fc2c2-8b93-4c23-93df-ac1aaa4496b2"
      },
      "execution_count": 27,
      "outputs": [
        {
          "output_type": "display_data",
          "data": {
            "text/plain": [
              "<PIL.Image.Image image mode=L size=128x128>"
            ],
            "image/png": "[encoded data removed]"
          },
          "metadata": {}
        }
      ]
    },
    {
      "cell_type": "code",
      "source": [
        "y"
      ],
      "metadata": {
        "colab": {
          "base_uri": "https://localhost:8080/"
        },
        "id": "DPBHMu91cqcl",
        "outputId": "dfce8231-8b37-4962-ffd8-9f72e9678f5f"
      },
      "execution_count": 29,
      "outputs": [
        {
          "output_type": "execute_result",
          "data": {
            "text/plain": [
              "array([1, 0, 0, 1, 0, 1, 0, 1, 0, 0, 0, 0, 1, 0, 0, 0, 0, 0, 0, 0, 0, 0,\n",
              "       0, 1, 0, 1, 0, 0, 0, 0, 0, 1, 0, 1, 0, 0, 1, 0, 0, 1, 1, 0, 1, 1,\n",
              "       0, 1, 1, 1, 0, 0, 1, 0, 0, 1, 1, 0, 0, 0, 0, 0, 1, 1, 1, 0, 0, 1,\n",
              "       1, 0, 0, 0, 0, 0, 0, 1, 1, 1, 0, 1, 1, 0, 1, 0, 0, 0, 0, 0, 0, 0,\n",
              "       1, 0, 1, 1, 0, 1, 1, 0, 0, 0, 0, 0, 0, 1, 1, 0, 0, 1, 0, 1, 1, 1,\n",
              "       0, 0, 0, 0, 0, 0, 0, 0, 1, 1, 0, 1, 0, 1, 1, 0, 1, 0, 1, 1, 0, 0,\n",
              "       0, 0, 0, 0, 1, 1, 0, 1, 0, 1, 1, 0, 1, 0, 1, 0, 1, 1, 1, 0, 0, 0,\n",
              "       0, 0, 1, 1, 1, 0, 1, 0, 1, 0, 1, 0, 1, 1, 1, 0, 0, 0, 0, 0, 0, 0,\n",
              "       0, 1, 1, 1, 0, 0, 0, 0, 1, 0, 0, 1, 0, 1, 0, 0, 1, 1, 0, 0, 0, 1,\n",
              "       0, 0, 1, 0, 1, 1, 0, 1, 0, 1, 1, 0, 1, 0, 0, 0, 1, 1, 0, 0, 0, 0,\n",
              "       1, 0, 1, 1, 0, 1, 0, 0, 1, 0, 1, 1, 0, 1, 0, 0, 0, 1, 1, 0, 0, 0,\n",
              "       1, 0, 1, 1, 0, 1, 0, 1, 0, 1, 0, 0, 0, 1, 0, 1, 0, 1, 0, 0, 0, 1,\n",
              "       0, 0, 1, 0, 1])"
            ]
          },
          "metadata": {},
          "execution_count": 29
        }
      ]
    },
    {
      "cell_type": "code",
      "source": [
        "np.unique(y, return_counts = True)"
      ],
      "metadata": {
        "colab": {
          "base_uri": "https://localhost:8080/"
        },
        "id": "j96JN7z9cwCa",
        "outputId": "bdf25190-17cd-49d0-bcd7-cc9e0e581f38"
      },
      "execution_count": 30,
      "outputs": [
        {
          "output_type": "execute_result",
          "data": {
            "text/plain": [
              "(array([0, 1]), array([160, 109]))"
            ]
          },
          "metadata": {},
          "execution_count": 30
        }
      ]
    },
    {
      "cell_type": "code",
      "source": [
        "sns.countplot(y)"
      ],
      "metadata": {
        "id": "6Qo_3Sndchqf"
      },
      "execution_count": null,
      "outputs": []
    },
    {
      "cell_type": "markdown",
      "metadata": {
        "id": "R0L0KqcGBs_c"
      },
      "source": [
        "### Normalizing the data"
      ]
    },
    {
      "cell_type": "code",
      "source": [
        "# 큰 값이면 처리 시간도 길고, 결과도 좋지  않아.\n",
        "from sklearn.preprocessing import MinMaxScaler\n",
        "scaler = MinMaxScaler()\n",
        "X = scaler.fit_transform(X)"
      ],
      "metadata": {
        "id": "32RItZT4c6yX"
      },
      "execution_count": 31,
      "outputs": []
    },
    {
      "cell_type": "markdown",
      "metadata": {
        "id": "HU2aiuznKCpM"
      },
      "source": [
        "### Train and test set"
      ]
    },
    {
      "cell_type": "code",
      "source": [
        "from sklearn.model_selection import train_test_split"
      ],
      "metadata": {
        "id": "EojPSg0Gdgmj"
      },
      "execution_count": 32,
      "outputs": []
    },
    {
      "cell_type": "code",
      "source": [
        "X_train, X_test, y_train, y_test = train_test_split(X,y, train_size = 0.8, random_state = 1)"
      ],
      "metadata": {
        "id": "pr06l8SDduNT"
      },
      "execution_count": 35,
      "outputs": []
    },
    {
      "cell_type": "code",
      "source": [
        "X_train.shape, y_train.shape"
      ],
      "metadata": {
        "colab": {
          "base_uri": "https://localhost:8080/"
        },
        "id": "EBud8idTeC3e",
        "outputId": "0d82e30f-cdd9-43ce-818c-917cf97ec9a0"
      },
      "execution_count": 36,
      "outputs": [
        {
          "output_type": "execute_result",
          "data": {
            "text/plain": [
              "((215, 16384), (215,))"
            ]
          },
          "metadata": {},
          "execution_count": 36
        }
      ]
    },
    {
      "cell_type": "markdown",
      "metadata": {
        "id": "c_8D8Q-5NR7z"
      },
      "source": [
        "### Building and training the neural network"
      ]
    },
    {
      "cell_type": "code",
      "source": [
        "X_train.shape[1]"
      ],
      "metadata": {
        "colab": {
          "base_uri": "https://localhost:8080/"
        },
        "id": "6K1oD7PMgMGk",
        "outputId": "714c21c7-c923-493c-e7bf-656de9878973"
      },
      "execution_count": 50,
      "outputs": [
        {
          "output_type": "execute_result",
          "data": {
            "text/plain": [
              "16384"
            ]
          },
          "metadata": {},
          "execution_count": 50
        }
      ]
    },
    {
      "cell_type": "code",
      "source": [
        "# 최적 은닉 노드 수?? input_shape + 2 /2\n",
        "unit_num = (X_train.shape[1] + 2) / 2"
      ],
      "metadata": {
        "id": "_h6iH2Dwe0uz"
      },
      "execution_count": 52,
      "outputs": []
    },
    {
      "cell_type": "code",
      "source": [
        "network1 = tf.keras.models.Sequential()\n",
        "network1.add(tf.keras.layers.Dense(input_shape = (X_train.shape[1],),\n",
        "                                   units = unit_num,\n",
        "                                   activation = 'relu'))\n",
        "network1.add(tf.keras.layers.Dense(units = unit_num, activation = 'relu'))\n",
        "network1.add(tf.keras.layers.Dense(units = 1, activation = 'sigmoid'))"
      ],
      "metadata": {
        "id": "UScdKQJEeWCi"
      },
      "execution_count": 53,
      "outputs": []
    },
    {
      "cell_type": "code",
      "source": [
        "network1.summary()"
      ],
      "metadata": {
        "colab": {
          "base_uri": "https://localhost:8080/"
        },
        "id": "UMUNbV56f4Xp",
        "outputId": "c8ef88b5-3acc-4921-d70c-f095aee96592"
      },
      "execution_count": 54,
      "outputs": [
        {
          "output_type": "stream",
          "name": "stdout",
          "text": [
            "Model: \"sequential_6\"\n",
            "_________________________________________________________________\n",
            " Layer (type)                Output Shape              Param #   \n",
            "=================================================================\n",
            " dense_12 (Dense)            (None, 8193)              134242305 \n",
            "                                                                 \n",
            " dense_13 (Dense)            (None, 8193)              67133442  \n",
            "                                                                 \n",
            " dense_14 (Dense)            (None, 1)                 8194      \n",
            "                                                                 \n",
            "=================================================================\n",
            "Total params: 201383941 (768.22 MB)\n",
            "Trainable params: 201383941 (768.22 MB)\n",
            "Non-trainable params: 0 (0.00 Byte)\n",
            "_________________________________________________________________\n"
          ]
        }
      ]
    },
    {
      "cell_type": "code",
      "source": [
        "network1.compile(optimizer = 'adam',\n",
        "                 loss = 'binary_crossentropy',\n",
        "                 metrics = ['accuracy'])"
      ],
      "metadata": {
        "id": "WeE7eRjvgZAS"
      },
      "execution_count": 55,
      "outputs": []
    },
    {
      "cell_type": "code",
      "source": [
        "history = network1.fit(X_train,y_train, epochs = 50)"
      ],
      "metadata": {
        "colab": {
          "base_uri": "https://localhost:8080/"
        },
        "id": "xQn4P_iagl2d",
        "outputId": "347d3ddc-7243-43be-ebf2-89021017cd88"
      },
      "execution_count": 56,
      "outputs": [
        {
          "output_type": "stream",
          "name": "stdout",
          "text": [
            "Epoch 1/50\n",
            "7/7 [==============================] - 31s 4s/step - loss: 155.1152 - accuracy: 0.5209\n",
            "Epoch 2/50\n",
            "7/7 [==============================] - 28s 4s/step - loss: 6.9903 - accuracy: 0.5256\n",
            "Epoch 3/50\n",
            "7/7 [==============================] - 28s 4s/step - loss: 1.3928 - accuracy: 0.4884\n",
            "Epoch 4/50\n",
            "7/7 [==============================] - 28s 4s/step - loss: 0.7284 - accuracy: 0.5442\n",
            "Epoch 5/50\n",
            "7/7 [==============================] - 28s 4s/step - loss: 0.6802 - accuracy: 0.6000\n",
            "Epoch 6/50\n",
            "7/7 [==============================] - 27s 4s/step - loss: 0.6452 - accuracy: 0.6279\n",
            "Epoch 7/50\n",
            "7/7 [==============================] - 27s 4s/step - loss: 0.6123 - accuracy: 0.7023\n",
            "Epoch 8/50\n",
            "7/7 [==============================] - 28s 4s/step - loss: 0.6298 - accuracy: 0.6279\n",
            "Epoch 9/50\n",
            "7/7 [==============================] - 28s 4s/step - loss: 0.6531 - accuracy: 0.5814\n",
            "Epoch 10/50\n",
            "7/7 [==============================] - 42s 6s/step - loss: 0.6694 - accuracy: 0.6791\n",
            "Epoch 11/50\n",
            "7/7 [==============================] - 42s 6s/step - loss: 0.6454 - accuracy: 0.6837\n",
            "Epoch 12/50\n",
            "7/7 [==============================] - 33s 5s/step - loss: 0.6384 - accuracy: 0.6140\n",
            "Epoch 13/50\n",
            "7/7 [==============================] - 29s 4s/step - loss: 0.5363 - accuracy: 0.7395\n",
            "Epoch 14/50\n",
            "7/7 [==============================] - 28s 4s/step - loss: 0.4841 - accuracy: 0.7302\n",
            "Epoch 15/50\n",
            "7/7 [==============================] - 34s 5s/step - loss: 0.6689 - accuracy: 0.6930\n",
            "Epoch 16/50\n",
            "7/7 [==============================] - 29s 4s/step - loss: 0.6008 - accuracy: 0.6698\n",
            "Epoch 17/50\n",
            "7/7 [==============================] - 28s 4s/step - loss: 0.4805 - accuracy: 0.7814\n",
            "Epoch 18/50\n",
            "7/7 [==============================] - 38s 5s/step - loss: 0.5134 - accuracy: 0.7395\n",
            "Epoch 19/50\n",
            "7/7 [==============================] - 40s 6s/step - loss: 0.4317 - accuracy: 0.7860\n",
            "Epoch 20/50\n",
            "7/7 [==============================] - 45s 6s/step - loss: 0.5485 - accuracy: 0.7581\n",
            "Epoch 21/50\n",
            "7/7 [==============================] - 43s 6s/step - loss: 0.8005 - accuracy: 0.6419\n",
            "Epoch 22/50\n",
            "7/7 [==============================] - 42s 6s/step - loss: 0.6216 - accuracy: 0.6419\n",
            "Epoch 23/50\n",
            "7/7 [==============================] - 50s 7s/step - loss: 0.5477 - accuracy: 0.6558\n",
            "Epoch 24/50\n",
            "7/7 [==============================] - 47s 7s/step - loss: 0.4771 - accuracy: 0.7953\n",
            "Epoch 25/50\n",
            "7/7 [==============================] - 43s 6s/step - loss: 0.6732 - accuracy: 0.6512\n",
            "Epoch 26/50\n",
            "7/7 [==============================] - 42s 6s/step - loss: 0.5228 - accuracy: 0.6977\n",
            "Epoch 27/50\n",
            "7/7 [==============================] - 36s 5s/step - loss: 0.4680 - accuracy: 0.8047\n",
            "Epoch 28/50\n",
            "7/7 [==============================] - 47s 6s/step - loss: 0.3282 - accuracy: 0.8884\n",
            "Epoch 29/50\n",
            "7/7 [==============================] - 41s 6s/step - loss: 0.2688 - accuracy: 0.8837\n",
            "Epoch 30/50\n",
            "7/7 [==============================] - 44s 6s/step - loss: 0.2537 - accuracy: 0.8930\n",
            "Epoch 31/50\n",
            "7/7 [==============================] - 44s 6s/step - loss: 0.1476 - accuracy: 0.9860\n",
            "Epoch 32/50\n",
            "7/7 [==============================] - 44s 6s/step - loss: 0.5472 - accuracy: 0.7535\n",
            "Epoch 33/50\n",
            "7/7 [==============================] - 42s 6s/step - loss: 0.2020 - accuracy: 0.9256\n",
            "Epoch 34/50\n",
            "7/7 [==============================] - 42s 6s/step - loss: 0.1485 - accuracy: 0.9535\n",
            "Epoch 35/50\n",
            "7/7 [==============================] - 42s 6s/step - loss: 0.0934 - accuracy: 0.9814\n",
            "Epoch 36/50\n",
            "7/7 [==============================] - 42s 6s/step - loss: 0.1361 - accuracy: 0.9395\n",
            "Epoch 37/50\n",
            "7/7 [==============================] - 54s 8s/step - loss: 0.0708 - accuracy: 0.9860\n",
            "Epoch 38/50\n",
            "7/7 [==============================] - 42s 6s/step - loss: 0.0638 - accuracy: 0.9907\n",
            "Epoch 39/50\n",
            "7/7 [==============================] - 42s 6s/step - loss: 0.0364 - accuracy: 0.9953\n",
            "Epoch 40/50\n",
            "7/7 [==============================] - 42s 6s/step - loss: 0.0296 - accuracy: 1.0000\n",
            "Epoch 41/50\n",
            "7/7 [==============================] - 42s 6s/step - loss: 0.0480 - accuracy: 0.9953\n",
            "Epoch 42/50\n",
            "7/7 [==============================] - 43s 6s/step - loss: 0.1243 - accuracy: 0.9535\n",
            "Epoch 43/50\n",
            "7/7 [==============================] - 40s 6s/step - loss: 0.0616 - accuracy: 0.9814\n",
            "Epoch 44/50\n",
            "7/7 [==============================] - 43s 6s/step - loss: 0.0210 - accuracy: 1.0000\n",
            "Epoch 45/50\n",
            "7/7 [==============================] - 42s 6s/step - loss: 0.0161 - accuracy: 1.0000\n",
            "Epoch 46/50\n",
            "7/7 [==============================] - 43s 6s/step - loss: 0.0154 - accuracy: 1.0000\n",
            "Epoch 47/50\n",
            "7/7 [==============================] - 42s 6s/step - loss: 0.0077 - accuracy: 1.0000\n",
            "Epoch 48/50\n",
            "7/7 [==============================] - 43s 6s/step - loss: 0.0076 - accuracy: 1.0000\n",
            "Epoch 49/50\n",
            "7/7 [==============================] - 42s 6s/step - loss: 0.0054 - accuracy: 1.0000\n",
            "Epoch 50/50\n",
            "7/7 [==============================] - 43s 6s/step - loss: 0.0070 - accuracy: 1.0000\n"
          ]
        }
      ]
    },
    {
      "cell_type": "markdown",
      "metadata": {
        "id": "48crjefERiK8"
      },
      "source": [
        "### Evaluating the neural network"
      ]
    },
    {
      "cell_type": "code",
      "source": [
        "history.history.keys()"
      ],
      "metadata": {
        "colab": {
          "base_uri": "https://localhost:8080/"
        },
        "id": "ouBzwt-ehr0_",
        "outputId": "6e505aa9-36db-41ab-df7d-daf2e1e4744f"
      },
      "execution_count": 57,
      "outputs": [
        {
          "output_type": "execute_result",
          "data": {
            "text/plain": [
              "dict_keys(['loss', 'accuracy'])"
            ]
          },
          "metadata": {},
          "execution_count": 57
        }
      ]
    },
    {
      "cell_type": "code",
      "source": [
        "plt.plot(history.history['loss']) # 이걸로 어느정도 epoch의 수를 알 수 있어"
      ],
      "metadata": {
        "colab": {
          "base_uri": "https://localhost:8080/",
          "height": 448
        },
        "id": "FX_xhm8RhwcX",
        "outputId": "2e13dae0-713a-4171-abbf-b72ac24e7f42"
      },
      "execution_count": 58,
      "outputs": [
        {
          "output_type": "execute_result",
          "data": {
            "text/plain": [
              "[<matplotlib.lines.Line2D at 0x7d197c14c580>]"
            ]
          },
          "metadata": {},
          "execution_count": 58
        },
        {
          "output_type": "display_data",
          "data": {
            "text/plain": [
              "<Figure size 640x480 with 1 Axes>"
            ],
            "image/png": "[encoded data removed]"
          },
          "metadata": {}
        }
      ]
    },
    {
      "cell_type": "code",
      "source": [
        "plt.plot(history.history['accuracy'])\n"
      ],
      "metadata": {
        "colab": {
          "base_uri": "https://localhost:8080/",
          "height": 448
        },
        "id": "l7jIuGwNh8K5",
        "outputId": "1a9c8e99-d658-4729-dec7-1529b7c4b01f"
      },
      "execution_count": 59,
      "outputs": [
        {
          "output_type": "execute_result",
          "data": {
            "text/plain": [
              "[<matplotlib.lines.Line2D at 0x7d196ff03760>]"
            ]
          },
          "metadata": {},
          "execution_count": 59
        },
        {
          "output_type": "display_data",
          "data": {
            "text/plain": [
              "<Figure size 640x480 with 1 Axes>"
            ],
            "image/png": "[encoded data removed]"
          },
          "metadata": {}
        }
      ]
    },
    {
      "cell_type": "code",
      "source": [
        "predictions = network1.predict(X_test)"
      ],
      "metadata": {
        "colab": {
          "base_uri": "https://localhost:8080/"
        },
        "id": "9DiWKOIxh_v-",
        "outputId": "6d493af0-a646-4ce4-a64c-c5c39374c259"
      },
      "execution_count": 60,
      "outputs": [
        {
          "output_type": "stream",
          "name": "stdout",
          "text": [
            "2/2 [==============================] - 1s 318ms/step\n"
          ]
        }
      ]
    },
    {
      "cell_type": "code",
      "source": [
        "predictions = (predictions > 0.5 ) # 0.5보다 크면 호머, 작으면 바드"
      ],
      "metadata": {
        "id": "puFOWYGfiUsd"
      },
      "execution_count": 61,
      "outputs": []
    },
    {
      "cell_type": "code",
      "source": [
        "y_test.shape, predictions.shape"
      ],
      "metadata": {
        "colab": {
          "base_uri": "https://localhost:8080/"
        },
        "id": "2X4b21P2ovA5",
        "outputId": "53136f41-e033-401a-98dc-6d43196971f6"
      },
      "execution_count": 65,
      "outputs": [
        {
          "output_type": "execute_result",
          "data": {
            "text/plain": [
              "((54,), (54, 1))"
            ]
          },
          "metadata": {},
          "execution_count": 65
        }
      ]
    },
    {
      "cell_type": "code",
      "source": [
        "chk = np.concatenate([y_test.reshape(-1,1), predictions], axis =1)"
      ],
      "metadata": {
        "id": "gwM8mvPAoYWI"
      },
      "execution_count": 69,
      "outputs": []
    },
    {
      "cell_type": "code",
      "source": [
        "chk"
      ],
      "metadata": {
        "id": "-EWbkxNmo-M_"
      },
      "execution_count": null,
      "outputs": []
    },
    {
      "cell_type": "code",
      "source": [
        "from sklearn.metrics import accuracy_score\n",
        "accuracy_score(y_test, predictions)"
      ],
      "metadata": {
        "colab": {
          "base_uri": "https://localhost:8080/"
        },
        "id": "uHkp1k2aiq6O",
        "outputId": "3f495b4f-5612-41a0-8a9b-63b726ffd4c6"
      },
      "execution_count": 71,
      "outputs": [
        {
          "output_type": "execute_result",
          "data": {
            "text/plain": [
              "0.6481481481481481"
            ]
          },
          "metadata": {},
          "execution_count": 71
        }
      ]
    },
    {
      "cell_type": "code",
      "source": [
        "# 오차 행렬\n",
        "from sklearn.metrics import confusion_matrix\n",
        "cm = confusion_matrix(y_test,predictions)"
      ],
      "metadata": {
        "id": "F7HflyVQi1PT"
      },
      "execution_count": 72,
      "outputs": []
    },
    {
      "cell_type": "code",
      "source": [
        "sns.heatmap(cm, annot = True)"
      ],
      "metadata": {
        "colab": {
          "base_uri": "https://localhost:8080/",
          "height": 448
        },
        "id": "jEtN0UIWi-0T",
        "outputId": "2f7801db-aa2c-4061-f35e-7bd2bb7d26f2"
      },
      "execution_count": 73,
      "outputs": [
        {
          "output_type": "execute_result",
          "data": {
            "text/plain": [
              "<Axes: >"
            ]
          },
          "metadata": {},
          "execution_count": 73
        },
        {
          "output_type": "display_data",
          "data": {
            "text/plain": [
              "<Figure size 640x480 with 2 Axes>"
            ],
            "image/png": "[encoded data removed]"
          },
          "metadata": {}
        }
      ]
    },
    {
      "cell_type": "code",
      "source": [
        "from sklearn.metrics import classification_report\n",
        "print(classification_report(y_test, predictions))"
      ],
      "metadata": {
        "colab": {
          "base_uri": "https://localhost:8080/"
        },
        "id": "mycWC3WPjJ4r",
        "outputId": "1c2a7849-704f-4a5b-dc28-d1ef1113c52f"
      },
      "execution_count": 74,
      "outputs": [
        {
          "output_type": "stream",
          "name": "stdout",
          "text": [
            "              precision    recall  f1-score   support\n",
            "\n",
            "           0       0.72      0.70      0.71        33\n",
            "           1       0.55      0.57      0.56        21\n",
            "\n",
            "    accuracy                           0.65        54\n",
            "   macro avg       0.63      0.63      0.63        54\n",
            "weighted avg       0.65      0.65      0.65        54\n",
            "\n"
          ]
        }
      ]
    },
    {
      "cell_type": "markdown",
      "metadata": {
        "id": "CUDXG0HyXAav"
      },
      "source": [
        "### Saving and loading the network"
      ]
    },
    {
      "cell_type": "code",
      "source": [
        "model_json = network1.to_json() # json으로 모델 저장\n",
        "with open('network1.json', 'w') as json_file:\n",
        "    json_file.write(model_json)"
      ],
      "metadata": {
        "id": "E8ydyMiejcyI"
      },
      "execution_count": 76,
      "outputs": []
    },
    {
      "cell_type": "code",
      "source": [
        "from keras.models import save_model\n",
        "network1_saved = save_model(network1, 'weights1.hdf5') # 가중치 저장"
      ],
      "metadata": {
        "colab": {
          "base_uri": "https://localhost:8080/"
        },
        "id": "RpbqkXiej6kl",
        "outputId": "ee6c9321-2877-440d-ff97-c3f759e25546"
      },
      "execution_count": 77,
      "outputs": [
        {
          "output_type": "stream",
          "name": "stderr",
          "text": [
            "<ipython-input-77-e75b44872fef>:2: UserWarning: You are saving your model as an HDF5 file via `model.save()`. This file format is considered legacy. We recommend using instead the native Keras format, e.g. `model.save('my_model.keras')`.\n",
            "  network1_saved = save_model(network1, 'weights1.hdf5') # 가중치 저장\n"
          ]
        }
      ]
    },
    {
      "cell_type": "code",
      "source": [
        "# load\n",
        "with open('network1.json') as json_file:\n",
        "    json_saved_model = json_file.read()\n",
        "    json_saved_model"
      ],
      "metadata": {
        "id": "Rsl3pl-HkFKj"
      },
      "execution_count": 78,
      "outputs": []
    },
    {
      "cell_type": "code",
      "source": [
        "network1_loaded = tf.keras.models.model_from_json(json_saved_model)\n",
        "network1_loaded.load_weights('weights1.hdf5')\n",
        "network1_loaded.compile(loss = 'binary_crossentropy', optimizer = 'adam', metrics = ['accuracy'])"
      ],
      "metadata": {
        "id": "JMaYtMcykPsz"
      },
      "execution_count": 79,
      "outputs": []
    },
    {
      "cell_type": "code",
      "source": [
        "#근데 피클이 훨씬 쉽긴 하다.\n",
        "import pickle"
      ],
      "metadata": {
        "id": "L9WzLhdlk10M"
      },
      "execution_count": null,
      "outputs": []
    },
    {
      "cell_type": "markdown",
      "metadata": {
        "id": "skw6tU94aCL1"
      },
      "source": [
        "### Classifying one single image"
      ]
    },
    {
      "cell_type": "code",
      "source": [
        "test_image = X_test[20]\n",
        "cv2_imshow(test_image.reshape(width, height))"
      ],
      "metadata": {
        "colab": {
          "base_uri": "https://localhost:8080/",
          "height": 145
        },
        "id": "BweLRxJllDtQ",
        "outputId": "335a518d-63ae-49fa-9a3e-9f4183658adb"
      },
      "execution_count": 94,
      "outputs": [
        {
          "output_type": "display_data",
          "data": {
            "text/plain": [
              "<PIL.Image.Image image mode=L size=128x128>"
            ],
            "image/png": "[encoded data removed]"
          },
          "metadata": {}
        }
      ]
    },
    {
      "cell_type": "code",
      "source": [
        "test_image = scaler.inverse_transform(test_image.reshape(1,-1))\n"
      ],
      "metadata": {
        "id": "M6bHf5RSlWZL"
      },
      "execution_count": 95,
      "outputs": []
    },
    {
      "cell_type": "code",
      "source": [
        "cv2_imshow(test_image.reshape(width,height))"
      ],
      "metadata": {
        "colab": {
          "base_uri": "https://localhost:8080/",
          "height": 145
        },
        "id": "fNlovKbrlgxt",
        "outputId": "b03d5dc4-b484-4473-af9a-4b9d7c1a7395"
      },
      "execution_count": 96,
      "outputs": [
        {
          "output_type": "display_data",
          "data": {
            "text/plain": [
              "<PIL.Image.Image image mode=L size=128x128>"
            ],
            "image/png": "[encoded data removed]"
          },
          "metadata": {}
        }
      ]
    },
    {
      "cell_type": "code",
      "source": [
        "network1_loaded.predict(test_image)[0][0]"
      ],
      "metadata": {
        "colab": {
          "base_uri": "https://localhost:8080/"
        },
        "id": "H4BQ3W9hp-1X",
        "outputId": "a0d5e4cf-0b54-4f4b-ae09-2d8b4aae240a"
      },
      "execution_count": 97,
      "outputs": [
        {
          "output_type": "stream",
          "name": "stdout",
          "text": [
            "1/1 [==============================] - 0s 163ms/step\n"
          ]
        },
        {
          "output_type": "execute_result",
          "data": {
            "text/plain": [
              "0.0"
            ]
          },
          "metadata": {},
          "execution_count": 97
        }
      ]
    },
    {
      "cell_type": "code",
      "source": [
        "if network1_loaded.predict(test_image)[0][0] < 0.5:\n",
        "    print('Bart')\n",
        "else :\n",
        "    print('Homer')"
      ],
      "metadata": {
        "colab": {
          "base_uri": "https://localhost:8080/"
        },
        "id": "_jqSUUQSqKfT",
        "outputId": "fea329ed-4f52-4b12-877d-da8a3209f986"
      },
      "execution_count": 99,
      "outputs": [
        {
          "output_type": "stream",
          "name": "stdout",
          "text": [
            "1/1 [==============================] - 0s 170ms/step\n",
            "Bart\n"
          ]
        }
      ]
    },
    {
      "cell_type": "markdown",
      "metadata": {
        "id": "Z7ZL-zgsheKX"
      },
      "source": [
        "## Approach 2 - feature extraction"
      ]
    },
    {
      "cell_type": "markdown",
      "source": [
        "이 방법은 너무 비효율적이긴해. 형상이 매우 단순하면 용량의 감소를 위해서 가능할 수도 있겠다."
      ],
      "metadata": {
        "id": "KH9zMkNC3aoz"
      }
    },
    {
      "cell_type": "markdown",
      "metadata": {
        "id": "Jx42w2NJhfU_"
      },
      "source": [
        "### Feature extractor"
      ]
    },
    {
      "cell_type": "code",
      "source": [
        "files = [os.path.join(directory,f) for f in sorted(os.listdir(directory))]\n",
        "print(files)"
      ],
      "metadata": {
        "colab": {
          "base_uri": "https://localhost:8080/"
        },
        "id": "6w35yi-1z2jC",
        "outputId": "a75884c2-93ad-464b-ecbf-be025057dfe5"
      },
      "execution_count": 100,
      "outputs": [
        {
          "output_type": "stream",
          "name": "stdout",
          "text": [
            "['./homer_bart_1/.DS_Store', './homer_bart_1/bart1.bmp', './homer_bart_1/bart10.bmp', './homer_bart_1/bart100.bmp', './homer_bart_1/bart101.bmp', './homer_bart_1/bart102.bmp', './homer_bart_1/bart103.bmp', './homer_bart_1/bart104.bmp', './homer_bart_1/bart105.bmp', './homer_bart_1/bart106.bmp', './homer_bart_1/bart108.bmp', './homer_bart_1/bart109.bmp', './homer_bart_1/bart11.bmp', './homer_bart_1/bart110.bmp', './homer_bart_1/bart111.bmp', './homer_bart_1/bart112.bmp', './homer_bart_1/bart113.bmp', './homer_bart_1/bart114.bmp', './homer_bart_1/bart115.bmp', './homer_bart_1/bart116.bmp', './homer_bart_1/bart117.bmp', './homer_bart_1/bart118.bmp', './homer_bart_1/bart119.bmp', './homer_bart_1/bart12.bmp', './homer_bart_1/bart120.bmp', './homer_bart_1/bart121.bmp', './homer_bart_1/bart122.bmp', './homer_bart_1/bart123.bmp', './homer_bart_1/bart124.bmp', './homer_bart_1/bart125.bmp', './homer_bart_1/bart126.bmp', './homer_bart_1/bart127.bmp', './homer_bart_1/bart128.bmp', './homer_bart_1/bart13.bmp', './homer_bart_1/bart130.bmp', './homer_bart_1/bart131.bmp', './homer_bart_1/bart132.bmp', './homer_bart_1/bart133.bmp', './homer_bart_1/bart134.bmp', './homer_bart_1/bart135.bmp', './homer_bart_1/bart136.bmp', './homer_bart_1/bart137.bmp', './homer_bart_1/bart138.bmp', './homer_bart_1/bart139.bmp', './homer_bart_1/bart14.bmp', './homer_bart_1/bart141.bmp', './homer_bart_1/bart142.bmp', './homer_bart_1/bart143.bmp', './homer_bart_1/bart144.bmp', './homer_bart_1/bart145.bmp', './homer_bart_1/bart146.bmp', './homer_bart_1/bart147.bmp', './homer_bart_1/bart148.bmp', './homer_bart_1/bart149.bmp', './homer_bart_1/bart15.bmp', './homer_bart_1/bart150.bmp', './homer_bart_1/bart151.bmp', './homer_bart_1/bart153.bmp', './homer_bart_1/bart154.bmp', './homer_bart_1/bart155.bmp', './homer_bart_1/bart156.bmp', './homer_bart_1/bart157.bmp', './homer_bart_1/bart158.bmp', './homer_bart_1/bart159.bmp', './homer_bart_1/bart16.bmp', './homer_bart_1/bart160.bmp', './homer_bart_1/bart161.bmp', './homer_bart_1/bart162.bmp', './homer_bart_1/bart164.bmp', './homer_bart_1/bart165.bmp', './homer_bart_1/bart166.bmp', './homer_bart_1/bart167.bmp', './homer_bart_1/bart168.bmp', './homer_bart_1/bart169.bmp', './homer_bart_1/bart17.bmp', './homer_bart_1/bart18.bmp', './homer_bart_1/bart19.bmp', './homer_bart_1/bart2.bmp', './homer_bart_1/bart20.bmp', './homer_bart_1/bart21.bmp', './homer_bart_1/bart22.bmp', './homer_bart_1/bart23.bmp', './homer_bart_1/bart24.bmp', './homer_bart_1/bart25.bmp', './homer_bart_1/bart26.bmp', './homer_bart_1/bart27.bmp', './homer_bart_1/bart28.bmp', './homer_bart_1/bart29.bmp', './homer_bart_1/bart3.bmp', './homer_bart_1/bart30.bmp', './homer_bart_1/bart31.bmp', './homer_bart_1/bart32.bmp', './homer_bart_1/bart34.bmp', './homer_bart_1/bart35.bmp', './homer_bart_1/bart36.bmp', './homer_bart_1/bart37.bmp', './homer_bart_1/bart38.bmp', './homer_bart_1/bart39.bmp', './homer_bart_1/bart4.bmp', './homer_bart_1/bart40.bmp', './homer_bart_1/bart42.bmp', './homer_bart_1/bart43.bmp', './homer_bart_1/bart44.bmp', './homer_bart_1/bart45.bmp', './homer_bart_1/bart46.bmp', './homer_bart_1/bart47.bmp', './homer_bart_1/bart48.bmp', './homer_bart_1/bart49.bmp', './homer_bart_1/bart5.bmp', './homer_bart_1/bart50.bmp', './homer_bart_1/bart51.bmp', './homer_bart_1/bart52.bmp', './homer_bart_1/bart53.bmp', './homer_bart_1/bart54.bmp', './homer_bart_1/bart55.bmp', './homer_bart_1/bart56.bmp', './homer_bart_1/bart57.bmp', './homer_bart_1/bart58.bmp', './homer_bart_1/bart59.bmp', './homer_bart_1/bart6.bmp', './homer_bart_1/bart60.bmp', './homer_bart_1/bart61.bmp', './homer_bart_1/bart62.bmp', './homer_bart_1/bart63.bmp', './homer_bart_1/bart64.bmp', './homer_bart_1/bart65.bmp', './homer_bart_1/bart66.bmp', './homer_bart_1/bart67.bmp', './homer_bart_1/bart68.bmp', './homer_bart_1/bart69.bmp', './homer_bart_1/bart7.bmp', './homer_bart_1/bart70.bmp', './homer_bart_1/bart71.bmp', './homer_bart_1/bart72.bmp', './homer_bart_1/bart73.bmp', './homer_bart_1/bart74.bmp', './homer_bart_1/bart75.bmp', './homer_bart_1/bart76.bmp', './homer_bart_1/bart77.bmp', './homer_bart_1/bart79.bmp', './homer_bart_1/bart8.bmp', './homer_bart_1/bart80.bmp', './homer_bart_1/bart81.bmp', './homer_bart_1/bart82.bmp', './homer_bart_1/bart83.bmp', './homer_bart_1/bart84.bmp', './homer_bart_1/bart85.bmp', './homer_bart_1/bart86.bmp', './homer_bart_1/bart87.bmp', './homer_bart_1/bart89.bmp', './homer_bart_1/bart9.bmp', './homer_bart_1/bart90.bmp', './homer_bart_1/bart91.bmp', './homer_bart_1/bart92.bmp', './homer_bart_1/bart93.bmp', './homer_bart_1/bart94.bmp', './homer_bart_1/bart95.bmp', './homer_bart_1/bart96.bmp', './homer_bart_1/bart97.bmp', './homer_bart_1/bart98.bmp', './homer_bart_1/bart99.bmp', './homer_bart_1/homer1.bmp', './homer_bart_1/homer10.bmp', './homer_bart_1/homer100.bmp', './homer_bart_1/homer101.bmp', './homer_bart_1/homer102.bmp', './homer_bart_1/homer103.bmp', './homer_bart_1/homer104.bmp', './homer_bart_1/homer105.bmp', './homer_bart_1/homer106.bmp', './homer_bart_1/homer107.bmp', './homer_bart_1/homer109.bmp', './homer_bart_1/homer110.bmp', './homer_bart_1/homer112.bmp', './homer_bart_1/homer113.bmp', './homer_bart_1/homer115.bmp', './homer_bart_1/homer116.bmp', './homer_bart_1/homer117.bmp', './homer_bart_1/homer119.bmp', './homer_bart_1/homer120.bmp', './homer_bart_1/homer121.bmp', './homer_bart_1/homer122.bmp', './homer_bart_1/homer123.bmp', './homer_bart_1/homer124.bmp', './homer_bart_1/homer13.bmp', './homer_bart_1/homer14.bmp', './homer_bart_1/homer15.bmp', './homer_bart_1/homer16.bmp', './homer_bart_1/homer17.bmp', './homer_bart_1/homer18.bmp', './homer_bart_1/homer2.bmp', './homer_bart_1/homer20.bmp', './homer_bart_1/homer21.bmp', './homer_bart_1/homer22.bmp', './homer_bart_1/homer23.bmp', './homer_bart_1/homer24.bmp', './homer_bart_1/homer26.bmp', './homer_bart_1/homer27.bmp', './homer_bart_1/homer28.bmp', './homer_bart_1/homer29.bmp', './homer_bart_1/homer3.bmp', './homer_bart_1/homer30.bmp', './homer_bart_1/homer31.bmp', './homer_bart_1/homer32.bmp', './homer_bart_1/homer33.bmp', './homer_bart_1/homer34.bmp', './homer_bart_1/homer35.bmp', './homer_bart_1/homer36.bmp', './homer_bart_1/homer37.bmp', './homer_bart_1/homer38.bmp', './homer_bart_1/homer4.bmp', './homer_bart_1/homer40.bmp', './homer_bart_1/homer41.bmp', './homer_bart_1/homer43.bmp', './homer_bart_1/homer44.bmp', './homer_bart_1/homer45.bmp', './homer_bart_1/homer46.bmp', './homer_bart_1/homer47.bmp', './homer_bart_1/homer48.bmp', './homer_bart_1/homer49.bmp', './homer_bart_1/homer5.bmp', './homer_bart_1/homer50.bmp', './homer_bart_1/homer51.bmp', './homer_bart_1/homer52.bmp', './homer_bart_1/homer54.bmp', './homer_bart_1/homer55.bmp', './homer_bart_1/homer56.bmp', './homer_bart_1/homer57.bmp', './homer_bart_1/homer58.bmp', './homer_bart_1/homer59.bmp', './homer_bart_1/homer6.bmp', './homer_bart_1/homer60.bmp', './homer_bart_1/homer61.bmp', './homer_bart_1/homer62.bmp', './homer_bart_1/homer63.bmp', './homer_bart_1/homer65.bmp', './homer_bart_1/homer66.bmp', './homer_bart_1/homer68.bmp', './homer_bart_1/homer69.bmp', './homer_bart_1/homer7.bmp', './homer_bart_1/homer70.bmp', './homer_bart_1/homer71.bmp', './homer_bart_1/homer72.bmp', './homer_bart_1/homer73.bmp', './homer_bart_1/homer74.bmp', './homer_bart_1/homer75.bmp', './homer_bart_1/homer76.bmp', './homer_bart_1/homer77.bmp', './homer_bart_1/homer78.bmp', './homer_bart_1/homer79.bmp', './homer_bart_1/homer8.bmp', './homer_bart_1/homer80.bmp', './homer_bart_1/homer81.bmp', './homer_bart_1/homer82.bmp', './homer_bart_1/homer83.bmp', './homer_bart_1/homer84.bmp', './homer_bart_1/homer85.bmp', './homer_bart_1/homer86.bmp', './homer_bart_1/homer87.bmp', './homer_bart_1/homer9.bmp', './homer_bart_1/homer90.bmp', './homer_bart_1/homer91.bmp', './homer_bart_1/homer92.bmp', './homer_bart_1/homer93.bmp', './homer_bart_1/homer94.bmp', './homer_bart_1/homer95.bmp', './homer_bart_1/homer96.bmp', './homer_bart_1/homer97.bmp', './homer_bart_1/homer98.bmp', './homer_bart_1/homer99.bmp']\n"
          ]
        }
      ]
    },
    {
      "cell_type": "code",
      "source": [
        "# 특성 지정 (파일의 해더)\n",
        "export = 'mouth,pants,shoes,tshirt,shorts,sneakers,class/n'"
      ],
      "metadata": {
        "id": "gQ9UdzAe0ZY0"
      },
      "execution_count": 101,
      "outputs": []
    },
    {
      "cell_type": "code",
      "source": [
        "show_images = True\n",
        "features = []"
      ],
      "metadata": {
        "id": "kEIxKyNZ0jTy"
      },
      "execution_count": 102,
      "outputs": []
    },
    {
      "cell_type": "code",
      "source": [
        "for image_path in files:\n",
        "    # extrackt color\n",
        "    try :\n",
        "        original_image = cv2.imread(image_path)\n",
        "        (H, W) = original_image.shape[:2]\n",
        "    except :\n",
        "        continue\n",
        "    image = original_image.copy()\n",
        "    image_features = []\n",
        "    mounth = pants= shoes = 0\n",
        "    tshirt = shorts = sneakers = 0\n",
        "\n",
        "    image_name = os.path.basename(os.path.normpath(image_path))\n",
        "\n",
        "    if image_name.startswitch('b'):\n",
        "        class_name = 0\n",
        "    else :\n",
        "        class_name = 1\n",
        "\n",
        "    for height in range(0,H):\n",
        "        for width in range(0,W):\n",
        "            # BGR channel\n",
        "            blue = imagem.item(height, width, 0)\n",
        "            green = imagem.item(height, width, 1)\n",
        "            red = imagem.item(height, width, 2)\n",
        "\n",
        "            #Homer - brown mouth\n",
        "            if (blue >= 95 and blue <= 140) and (green >= 160 and green <= 185) and (175 <= red <= 200):\n",
        "                image[height, width] = [0, 255, 255]\n",
        "                mouth += 1"
      ],
      "metadata": {
        "colab": {
          "base_uri": "https://localhost:8080/",
          "height": 110
        },
        "id": "qwrbgXxL0mZb",
        "outputId": "7b5b1031-e4f5-4178-cb16-4ec453483482"
      },
      "execution_count": 103,
      "outputs": [
        {
          "output_type": "error",
          "ename": "SyntaxError",
          "evalue": "invalid syntax (<ipython-input-103-847bd2ff6e11>, line 10)",
          "traceback": [
            "\u001b[0;36m  File \u001b[0;32m\"<ipython-input-103-847bd2ff6e11>\"\u001b[0;36m, line \u001b[0;32m10\u001b[0m\n\u001b[0;31m    mounth = pants= shoes = -\u001b[0m\n\u001b[0m                             ^\u001b[0m\n\u001b[0;31mSyntaxError\u001b[0m\u001b[0;31m:\u001b[0m invalid syntax\n"
          ]
        }
      ]
    },
    {
      "cell_type": "markdown",
      "metadata": {
        "id": "aBbNwE-1hkOC"
      },
      "source": [
        "### Train and test sets"
      ]
    },
    {
      "cell_type": "markdown",
      "metadata": {
        "id": "7SWwQVVVhmrm"
      },
      "source": [
        "### Building and training the neural network"
      ]
    },
    {
      "cell_type": "markdown",
      "metadata": {
        "id": "ihTsEwaThri1"
      },
      "source": [
        "### Evaluating the neural network"
      ]
    },
    {
      "cell_type": "markdown",
      "metadata": {
        "id": "jmDaG79zhuDG"
      },
      "source": [
        "### Saving, loading and classifying one single image"
      ]
    }
  ]
}
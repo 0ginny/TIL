{
  "nbformat": 4,
  "nbformat_minor": 0,
  "metadata": {
    "colab": {
      "provenance": [],
      "authorship_tag": "ABX9TyPDFmzBhT8zPFf6nJXGQhrd",
      "include_colab_link": true
    },
    "kernelspec": {
      "name": "python3",
      "display_name": "Python 3"
    },
    "language_info": {
      "name": "python"
    }
  },
  "cells": [
    {
      "cell_type": "markdown",
      "metadata": {
        "id": "view-in-github",
        "colab_type": "text"
      },
      "source": [
        "<a href=\"https://colab.research.google.com/github/0ginny/TIL/blob/main/TIL(240319)%EB%B0%B1%ED%8A%B8%EB%9E%98%ED%82%B9%EC%97%90_%EB%8C%80%ED%95%B4%EC%84%9C.ipynb\" target=\"_parent\"><img src=\"https://colab.research.google.com/assets/colab-badge.svg\" alt=\"Open In Colab\"/></a>"
      ]
    },
    {
      "cell_type": "markdown",
      "source": [
        "# 백트래킹\n",
        "- 모든 경우를 판단해야 할 경우 ( 완전탐색 )\n",
        "- 깊이가 달라질 때 ( for 문으로 탐색 불가능 )"
      ],
      "metadata": {
        "id": "hgym68p53Zcg"
      }
    },
    {
      "cell_type": "markdown",
      "source": [
        "## 시간복잡도 (시간복잡도에 관해서는 추가로 공부해야 할 듯)\n",
        "- 재귀함수 백트래킹\n",
        "    - 중복 가능 O(N^N)  n = 8 까지\n",
        "    - 중복 줄가 O(N!)  n =10 까지\n"
      ],
      "metadata": {
        "id": "DMOoNR6731cY"
      }
    },
    {
      "cell_type": "markdown",
      "source": [
        "### 예시문제 9663 N-Queen"
      ],
      "metadata": {
        "id": "7KUokJri4NfO"
      }
    },
    {
      "cell_type": "markdown",
      "source": [
        "1. 아이디어\n",
        "\n",
        "- 모든 퀸의 경우의 수를 구해.\n",
        "- 퀸은 각 행당 1개씩만 존재할 수 있음.\n",
        "- 백트래킹 사용\n",
        "    - 퀸의 위치 정함 chk 되지 않은 열\n",
        "        - 현재 chk 을 copy\n",
        "    - 퀸의 공격범위 chk False로 만듬\n",
        "        - 재귀\n",
        "    - 재귀 나올 때  chk 원상복귀 (chk_copy는 지역변수여야해)\n",
        "    - 8번째까지 가능한 경우 cnt += 1 해줌\n",
        "    - 전부 탐색후 cnt 출력\n",
        "\n",
        "2. 시간복잡도\n",
        "- N! 인데 대각선 때문에 N(N-2)(N-3 이렇게 될 수 있음.\n",
        "- 정확한 시간복잡도는 검색해보자.\n",
        "- N = 14개 가능한가?? 애매하다.."
      ],
      "metadata": {
        "id": "4iCDM-x04g3j"
      }
    },
    {
      "cell_type": "code",
      "source": [
        "import sys\n",
        "import copy\n",
        "input = sys.stdin.readline\n",
        "\n",
        "N = int(input())\n",
        "\n",
        "chk = [[True] * N for _ in range(N)]\n",
        "\n",
        "cnt = 0\n",
        "\n",
        "dx = [1,-1,0]\n",
        "dy = [1,1,1]\n",
        "\n",
        "def rec(n,y,x):\n",
        "    # print(f'start n : {n}, y : {y}, x : {x}')\n",
        "    global cnt , chk\n",
        "    if n == N-1:\n",
        "        cnt+=1\n",
        "        return\n",
        "    # if True not in chk:\n",
        "    #     return\n",
        "    chk_copy = copy.deepcopy(chk)\n",
        "    # chk[y][x] = False  # 근데 사실 상관없어\n",
        "    # print(f' n : {n}, copy')\n",
        "    # for p in chk_copy:\n",
        "    #     print(p)\n",
        "    # print()\n",
        "\n",
        "    for d in range(1,N- n + 1): # 공격위치 체크\n",
        "        for k in range(3):\n",
        "            nx = x + dx[k] * d\n",
        "            ny = y + dy[k] * d\n",
        "\n",
        "            if 0 <= nx <N and 0 <= ny < N:\n",
        "                if chk[ny][nx]:\n",
        "                    chk[ny][nx] = False\n",
        "    # for p in chk:\n",
        "    #     print(p)\n",
        "    # print()\n",
        "    # 다음 퀸 위치 지정)\n",
        "    for j in range(N):\n",
        "        n += 1\n",
        "        # print(f'prob n : {n}, j : {j}')\n",
        "        if chk[n][j]:\n",
        "            rec(n,n,j)\n",
        "        n -= 1\n",
        "    chk = chk_copy\n",
        "\n",
        "\n",
        "for j in range(N):\n",
        "\n",
        "    rec(0,0,j)\n",
        "\n",
        "print(cnt)"
      ],
      "metadata": {
        "id": "3nTD_PtxJRvM"
      },
      "execution_count": null,
      "outputs": []
    },
    {
      "cell_type": "markdown",
      "source": [
        "But 시간초과.."
      ],
      "metadata": {
        "id": "-in7V6rZJT1A"
      }
    },
    {
      "cell_type": "code",
      "source": [],
      "metadata": {
        "id": "vfCiXakxJWzG"
      },
      "execution_count": null,
      "outputs": []
    }
  ]
}
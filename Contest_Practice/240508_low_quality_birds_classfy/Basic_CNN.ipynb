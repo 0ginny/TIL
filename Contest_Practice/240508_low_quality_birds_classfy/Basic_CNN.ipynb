{
 "cells": [
  {
   "cell_type": "markdown",
   "id": "219a5ff7",
   "metadata": {},
   "source": [
    "### 라이브러리"
   ]
  },
  {
   "cell_type": "code",
   "execution_count": null,
   "id": "5c12dc78",
   "metadata": {},
   "outputs": [],
   "source": [
    "import numpy as np\n",
    "import pandas as pd\n",
    "import os "
   ]
  },
  {
   "cell_type": "code",
   "execution_count": 7,
   "id": "bc47d72a",
   "metadata": {},
   "outputs": [],
   "source": [
    "import cv2"
   ]
  },
  {
   "cell_type": "code",
   "execution_count": 2,
   "id": "2a18fce9",
   "metadata": {},
   "outputs": [],
   "source": [
    "import tensorflow as tf\n",
    "from tensorflow.keras.models import Sequential\n",
    "from tensorflow.keras.layers import Dense, Conv2D, MaxPool2D, Flatten\n",
    "from tensorflow.keras.preprocessing.image import ImageDataGenerator"
   ]
  },
  {
   "cell_type": "code",
   "execution_count": 3,
   "id": "5ba0954c",
   "metadata": {},
   "outputs": [],
   "source": [
    "import seaborn as sns\n",
    "import matplotlib.pyplot as plt"
   ]
  },
  {
   "cell_type": "markdown",
   "id": "039a0908",
   "metadata": {},
   "source": [
    "# CNN 모델 분류"
   ]
  },
  {
   "cell_type": "markdown",
   "id": "081a5900",
   "metadata": {},
   "source": [
    "## 데이터 불러오기"
   ]
  },
  {
   "cell_type": "code",
   "execution_count": 6,
   "id": "de897b70",
   "metadata": {},
   "outputs": [
    {
     "data": {
      "text/html": [
       "<div>\n",
       "<style scoped>\n",
       "    .dataframe tbody tr th:only-of-type {\n",
       "        vertical-align: middle;\n",
       "    }\n",
       "\n",
       "    .dataframe tbody tr th {\n",
       "        vertical-align: top;\n",
       "    }\n",
       "\n",
       "    .dataframe thead th {\n",
       "        text-align: right;\n",
       "    }\n",
       "</style>\n",
       "<table border=\"1\" class=\"dataframe\">\n",
       "  <thead>\n",
       "    <tr style=\"text-align: right;\">\n",
       "      <th></th>\n",
       "      <th>img_path</th>\n",
       "      <th>upscale_img_path</th>\n",
       "      <th>label</th>\n",
       "    </tr>\n",
       "  </thead>\n",
       "  <tbody>\n",
       "    <tr>\n",
       "      <th>count</th>\n",
       "      <td>15834</td>\n",
       "      <td>15834</td>\n",
       "      <td>15834</td>\n",
       "    </tr>\n",
       "    <tr>\n",
       "      <th>unique</th>\n",
       "      <td>15834</td>\n",
       "      <td>15834</td>\n",
       "      <td>25</td>\n",
       "    </tr>\n",
       "    <tr>\n",
       "      <th>top</th>\n",
       "      <td>./train/TRAIN_03465.jpg</td>\n",
       "      <td>./upscale_train/TRAIN_15188.png</td>\n",
       "      <td>Ruddy Shelduck</td>\n",
       "    </tr>\n",
       "    <tr>\n",
       "      <th>freq</th>\n",
       "      <td>1</td>\n",
       "      <td>1</td>\n",
       "      <td>671</td>\n",
       "    </tr>\n",
       "  </tbody>\n",
       "</table>\n",
       "</div>"
      ],
      "text/plain": [
       "                       img_path                 upscale_img_path  \\\n",
       "count                     15834                            15834   \n",
       "unique                    15834                            15834   \n",
       "top     ./train/TRAIN_03465.jpg  ./upscale_train/TRAIN_15188.png   \n",
       "freq                          1                                1   \n",
       "\n",
       "                 label  \n",
       "count            15834  \n",
       "unique              25  \n",
       "top     Ruddy Shelduck  \n",
       "freq               671  "
      ]
     },
     "execution_count": 6,
     "metadata": {},
     "output_type": "execute_result"
    }
   ],
   "source": [
    "pd.read_csv('train.csv').describe()"
   ]
  },
  {
   "cell_type": "markdown",
   "id": "61f95f55",
   "metadata": {},
   "source": [
    "### 데이터 이해"
   ]
  },
  {
   "cell_type": "markdown",
   "id": "d7918505",
   "metadata": {},
   "source": [
    "## 데이터 전처리"
   ]
  },
  {
   "cell_type": "code",
   "execution_count": 8,
   "id": "ae5a1a68",
   "metadata": {},
   "outputs": [],
   "source": [
    "train_csv = pd.read_csv('train.csv')"
   ]
  },
  {
   "cell_type": "code",
   "execution_count": 13,
   "id": "bc871407",
   "metadata": {},
   "outputs": [
    {
     "data": {
      "text/plain": [
       "'./train/TRAIN_00000.jpg'"
      ]
     },
     "execution_count": 13,
     "metadata": {},
     "output_type": "execute_result"
    }
   ],
   "source": [
    "train_csv.iloc[0,0]"
   ]
  },
  {
   "cell_type": "code",
   "execution_count": 20,
   "id": "0063668c",
   "metadata": {},
   "outputs": [
    {
     "data": {
      "image/png": "[encoded data removed]",
      "text/plain": [
       "<Figure size 432x288 with 1 Axes>"
      ]
     },
     "metadata": {
      "needs_background": "light"
     },
     "output_type": "display_data"
    }
   ],
   "source": [
    "img = cv2.imread(train_csv.iloc[0,0])\n",
    "plt.imshow(img)\n",
    "plt.show()"
   ]
  },
  {
   "cell_type": "code",
   "execution_count": 21,
   "id": "e3609123",
   "metadata": {
    "scrolled": true
   },
   "outputs": [
    {
     "data": {
      "text/plain": [
       "(64, 64, 3)"
      ]
     },
     "execution_count": 21,
     "metadata": {},
     "output_type": "execute_result"
    }
   ],
   "source": [
    "img.shape"
   ]
  },
  {
   "cell_type": "code",
   "execution_count": 22,
   "id": "98fc1362",
   "metadata": {},
   "outputs": [
    {
     "data": {
      "text/plain": [
       "(15834, 3)"
      ]
     },
     "execution_count": 22,
     "metadata": {},
     "output_type": "execute_result"
    }
   ],
   "source": [
    "train_csv.shape"
   ]
  },
  {
   "cell_type": "code",
   "execution_count": 64,
   "id": "bec88622",
   "metadata": {},
   "outputs": [],
   "source": [
    "images =np.zeros(shape = (train_csv.shape[0],64,64,3))\n",
    "labels =np.zeros(shape = (train_csv.shape[0],1)).astype(str)"
   ]
  },
  {
   "cell_type": "code",
   "execution_count": 67,
   "id": "cb6d3801",
   "metadata": {},
   "outputs": [
    {
     "data": {
      "text/plain": [
       "array([['Ruddy Shelduck'],\n",
       "       ['Gray Wagtail'],\n",
       "       ['Indian Peacock'],\n",
       "       ...,\n",
       "       ['Cattle Egret'],\n",
       "       ['Ruddy Shelduck'],\n",
       "       ['Forest Wagtail']], dtype='<U32')"
      ]
     },
     "execution_count": 67,
     "metadata": {},
     "output_type": "execute_result"
    }
   ],
   "source": [
    "labels"
   ]
  },
  {
   "cell_type": "code",
   "execution_count": 65,
   "id": "ebdd0feb",
   "metadata": {},
   "outputs": [],
   "source": [
    "# 백터화 \n",
    "for i in range(train_csv.shape[0]) :\n",
    "\n",
    "    try :\n",
    "        image = cv2.imread(train_csv.iloc[i,0])\n",
    "        (H, W) = image.shape[:2] # 이미지의 가로 세로만 추출\n",
    "    except:\n",
    "        continue\n",
    "#     image = cv2.resize(image, (width, height))\n",
    "#     cv2_imshow(image)\n",
    "    # 백터로 변환\n",
    "    images[i] = image\n",
    "\n",
    "    labels[i] = train_csv.iloc[i,2]"
   ]
  },
  {
   "cell_type": "code",
   "execution_count": 63,
   "id": "d84354a8",
   "metadata": {},
   "outputs": [
    {
     "data": {
      "text/plain": [
       "((15834, 64, 64, 3), (15834, 1))"
      ]
     },
     "execution_count": 63,
     "metadata": {},
     "output_type": "execute_result"
    }
   ],
   "source": [
    "images.shape, labels.shape"
   ]
  },
  {
   "cell_type": "code",
   "execution_count": 29,
   "id": "36eea1f6",
   "metadata": {
    "scrolled": true
   },
   "outputs": [
    {
     "data": {
      "text/plain": [
       "4096"
      ]
     },
     "execution_count": 29,
     "metadata": {},
     "output_type": "execute_result"
    }
   ],
   "source": [
    "64 * 64"
   ]
  },
  {
   "cell_type": "code",
   "execution_count": 80,
   "id": "0a91ece6",
   "metadata": {},
   "outputs": [],
   "source": [
    "from sklearn.preprocessing import LabelEncoder\n",
    "label_encoder = LabelEncoder()"
   ]
  },
  {
   "cell_type": "code",
   "execution_count": 79,
   "id": "78d764e6",
   "metadata": {},
   "outputs": [
    {
     "ename": "ValueError",
     "evalue": "invalid literal for int() with base 10: 'Ruddy Shelduck'",
     "output_type": "error",
     "traceback": [
      "\u001b[1;31m---------------------------------------------------------------------------\u001b[0m",
      "\u001b[1;31mValueError\u001b[0m                                Traceback (most recent call last)",
      "\u001b[1;32m<ipython-input-79-5c242dd762a3>\u001b[0m in \u001b[0;36m<module>\u001b[1;34m\u001b[0m\n\u001b[0;32m      1\u001b[0m \u001b[1;32mfrom\u001b[0m \u001b[0mtensorflow\u001b[0m\u001b[1;33m.\u001b[0m\u001b[0mkeras\u001b[0m\u001b[1;33m.\u001b[0m\u001b[0mutils\u001b[0m \u001b[1;32mimport\u001b[0m \u001b[0mto_categorical\u001b[0m\u001b[1;33m\u001b[0m\u001b[1;33m\u001b[0m\u001b[0m\n\u001b[1;32m----> 2\u001b[1;33m \u001b[0mlabels_encoded\u001b[0m \u001b[1;33m=\u001b[0m \u001b[0mto_categorical\u001b[0m\u001b[1;33m(\u001b[0m\u001b[0mlabels\u001b[0m\u001b[1;33m,\u001b[0m \u001b[0mnum_classes\u001b[0m\u001b[1;33m=\u001b[0m\u001b[1;36m25\u001b[0m\u001b[1;33m)\u001b[0m\u001b[1;33m\u001b[0m\u001b[1;33m\u001b[0m\u001b[0m\n\u001b[0m",
      "\u001b[1;32m~\\anaconda3\\lib\\site-packages\\tensorflow\\python\\keras\\utils\\np_utils.py\u001b[0m in \u001b[0;36mto_categorical\u001b[1;34m(y, num_classes, dtype)\u001b[0m\n\u001b[0;32m     64\u001b[0m \u001b[1;33m\u001b[0m\u001b[0m\n\u001b[0;32m     65\u001b[0m   \"\"\"\n\u001b[1;32m---> 66\u001b[1;33m   \u001b[0my\u001b[0m \u001b[1;33m=\u001b[0m \u001b[0mnp\u001b[0m\u001b[1;33m.\u001b[0m\u001b[0marray\u001b[0m\u001b[1;33m(\u001b[0m\u001b[0my\u001b[0m\u001b[1;33m,\u001b[0m \u001b[0mdtype\u001b[0m\u001b[1;33m=\u001b[0m\u001b[1;34m'int'\u001b[0m\u001b[1;33m)\u001b[0m\u001b[1;33m\u001b[0m\u001b[1;33m\u001b[0m\u001b[0m\n\u001b[0m\u001b[0;32m     67\u001b[0m   \u001b[0minput_shape\u001b[0m \u001b[1;33m=\u001b[0m \u001b[0my\u001b[0m\u001b[1;33m.\u001b[0m\u001b[0mshape\u001b[0m\u001b[1;33m\u001b[0m\u001b[1;33m\u001b[0m\u001b[0m\n\u001b[0;32m     68\u001b[0m   \u001b[1;32mif\u001b[0m \u001b[0minput_shape\u001b[0m \u001b[1;32mand\u001b[0m \u001b[0minput_shape\u001b[0m\u001b[1;33m[\u001b[0m\u001b[1;33m-\u001b[0m\u001b[1;36m1\u001b[0m\u001b[1;33m]\u001b[0m \u001b[1;33m==\u001b[0m \u001b[1;36m1\u001b[0m \u001b[1;32mand\u001b[0m \u001b[0mlen\u001b[0m\u001b[1;33m(\u001b[0m\u001b[0minput_shape\u001b[0m\u001b[1;33m)\u001b[0m \u001b[1;33m>\u001b[0m \u001b[1;36m1\u001b[0m\u001b[1;33m:\u001b[0m\u001b[1;33m\u001b[0m\u001b[1;33m\u001b[0m\u001b[0m\n",
      "\u001b[1;31mValueError\u001b[0m: invalid literal for int() with base 10: 'Ruddy Shelduck'"
     ]
    }
   ],
   "source": [
    "from tensorflow.keras.utils import to_categorical\n"
   ]
  },
  {
   "cell_type": "code",
   "execution_count": 81,
   "id": "e249ac6c",
   "metadata": {
    "scrolled": true
   },
   "outputs": [
    {
     "name": "stderr",
     "output_type": "stream",
     "text": [
      "C:\\Users\\YJ_PC\\anaconda3\\lib\\site-packages\\sklearn\\utils\\validation.py:63: DataConversionWarning: A column-vector y was passed when a 1d array was expected. Please change the shape of y to (n_samples, ), for example using ravel().\n",
      "  return f(*args, **kwargs)\n"
     ]
    }
   ],
   "source": [
    "labels_int = label_encoder.fit_transform(labels)\n",
    "labels_encoded = to_categorical(labels_int, num_classes=25)"
   ]
  },
  {
   "cell_type": "code",
   "execution_count": 84,
   "id": "c4af0cc1",
   "metadata": {},
   "outputs": [
    {
     "data": {
      "text/plain": [
       "array([[0., 0., 0., ..., 0., 0., 0.],\n",
       "       [0., 0., 0., ..., 0., 0., 0.],\n",
       "       [0., 0., 0., ..., 0., 0., 0.],\n",
       "       ...,\n",
       "       [0., 0., 1., ..., 0., 0., 0.],\n",
       "       [0., 0., 0., ..., 0., 0., 0.],\n",
       "       [0., 0., 0., ..., 0., 0., 0.]], dtype=float32)"
      ]
     },
     "execution_count": 84,
     "metadata": {},
     "output_type": "execute_result"
    }
   ],
   "source": [
    "labels_encoded"
   ]
  },
  {
   "cell_type": "markdown",
   "id": "9a888a25",
   "metadata": {},
   "source": [
    "### 데이터 분리"
   ]
  },
  {
   "cell_type": "code",
   "execution_count": 32,
   "id": "6224b893",
   "metadata": {},
   "outputs": [],
   "source": [
    "from sklearn.model_selection import train_test_split"
   ]
  },
  {
   "cell_type": "code",
   "execution_count": 85,
   "id": "8fe82967",
   "metadata": {},
   "outputs": [],
   "source": [
    "X_train, y_train, X_test, y_test = train_test_split(images, labels_encoded, test_size=0.3,\n",
    "                                                   stratify= labels,\n",
    "                                                   random_state = 2)"
   ]
  },
  {
   "cell_type": "code",
   "execution_count": 86,
   "id": "c70b6eeb",
   "metadata": {},
   "outputs": [
    {
     "name": "stdout",
     "output_type": "stream",
     "text": [
      "(11083, 64, 64, 3)\n",
      "(4751, 64, 64, 3)\n",
      "(11083, 25)\n",
      "(4751, 25)\n"
     ]
    }
   ],
   "source": [
    "print(X_train.shape)\n",
    "print(y_train.shape)\n",
    "print(X_test.shape)\n",
    "print(y_test.shape)"
   ]
  },
  {
   "cell_type": "markdown",
   "id": "65d73868",
   "metadata": {},
   "source": [
    "## 모델 생성"
   ]
  },
  {
   "cell_type": "code",
   "execution_count": 73,
   "id": "96687be6",
   "metadata": {},
   "outputs": [
    {
     "data": {
      "text/plain": [
       "3137.5"
      ]
     },
     "execution_count": 73,
     "metadata": {},
     "output_type": "execute_result"
    }
   ],
   "source": [
    "(6273+2) /2"
   ]
  },
  {
   "cell_type": "code",
   "execution_count": 92,
   "id": "99664bf8",
   "metadata": {},
   "outputs": [
    {
     "name": "stdout",
     "output_type": "stream",
     "text": [
      "Model: \"sequential_5\"\n",
      "_________________________________________________________________\n",
      "Layer (type)                 Output Shape              Param #   \n",
      "=================================================================\n",
      "conv2d_8 (Conv2D)            (None, 62, 62, 32)        896       \n",
      "_________________________________________________________________\n",
      "max_pooling2d_6 (MaxPooling2 (None, 31, 31, 32)        0         \n",
      "_________________________________________________________________\n",
      "conv2d_9 (Conv2D)            (None, 29, 29, 32)        9248      \n",
      "_________________________________________________________________\n",
      "max_pooling2d_7 (MaxPooling2 (None, 14, 14, 32)        0         \n",
      "_________________________________________________________________\n",
      "flatten_3 (Flatten)          (None, 6272)              0         \n",
      "_________________________________________________________________\n",
      "dense_9 (Dense)              (None, 3137)              19678401  \n",
      "_________________________________________________________________\n",
      "dense_10 (Dense)             (None, 3137)              9843906   \n",
      "_________________________________________________________________\n",
      "dense_11 (Dense)             (None, 25)                78450     \n",
      "=================================================================\n",
      "Total params: 29,610,901\n",
      "Trainable params: 29,610,901\n",
      "Non-trainable params: 0\n",
      "_________________________________________________________________\n"
     ]
    }
   ],
   "source": [
    "cnn = Sequential()\n",
    "\n",
    "cnn.add(Conv2D(32, (3,3), input_shape = (64,64,3), activation='relu'))\n",
    "cnn.add(MaxPool2D(pool_size=(2,2)))\n",
    "\n",
    "cnn.add(Conv2D(32, (3,3), activation='relu'))\n",
    "cnn.add(MaxPool2D(pool_size=(2,2)))\n",
    "\n",
    "cnn.add(Flatten())\n",
    "\n",
    "cnn.add(Dense(units = 3137, activation='relu'))\n",
    "cnn.add(Dense(units = 3137, activation='relu'))\n",
    "cnn.add(Dense(units = 25, activation='softmax'))\n",
    "\n",
    "cnn.summary()"
   ]
  },
  {
   "cell_type": "code",
   "execution_count": 93,
   "id": "fc9cc12e",
   "metadata": {},
   "outputs": [],
   "source": [
    "cnn.compile(optimizer='Adam', loss='categorical_crossentropy', metrics = ['accuracy'])"
   ]
  },
  {
   "cell_type": "code",
   "execution_count": null,
   "id": "5386419f",
   "metadata": {},
   "outputs": [],
   "source": []
  },
  {
   "cell_type": "code",
   "execution_count": null,
   "id": "30189fff",
   "metadata": {},
   "outputs": [],
   "source": []
  },
  {
   "cell_type": "markdown",
   "id": "e69bffff",
   "metadata": {},
   "source": [
    "## 모델 학습"
   ]
  },
  {
   "cell_type": "code",
   "execution_count": 95,
   "id": "0ab98b13",
   "metadata": {},
   "outputs": [
    {
     "name": "stdout",
     "output_type": "stream",
     "text": [
      "Epoch 1/50\n",
      "347/347 [==============================] - 70s 201ms/step - loss: 2.1239 - accuracy: 0.3834\n",
      "Epoch 2/50\n",
      "347/347 [==============================] - 72s 208ms/step - loss: 1.4928 - accuracy: 0.5636\n",
      "Epoch 3/50\n",
      "347/347 [==============================] - 73s 211ms/step - loss: 0.9816 - accuracy: 0.7192\n",
      "Epoch 4/50\n",
      "347/347 [==============================] - 73s 212ms/step - loss: 0.8234 - accuracy: 0.7674\n",
      "Epoch 5/50\n",
      "347/347 [==============================] - 70s 202ms/step - loss: 0.5916 - accuracy: 0.8396\n",
      "Epoch 6/50\n",
      "347/347 [==============================] - 74s 214ms/step - loss: 0.3667 - accuracy: 0.9000\n",
      "Epoch 7/50\n",
      "347/347 [==============================] - 78s 225ms/step - loss: 0.2987 - accuracy: 0.9216\n",
      "Epoch 8/50\n",
      "347/347 [==============================] - 71s 205ms/step - loss: 0.3221 - accuracy: 0.9168\n",
      "Epoch 9/50\n",
      "347/347 [==============================] - 70s 202ms/step - loss: 0.4477 - accuracy: 0.8876\n",
      "Epoch 10/50\n",
      "347/347 [==============================] - 70s 203ms/step - loss: 0.3016 - accuracy: 0.9266\n",
      "Epoch 11/50\n",
      "347/347 [==============================] - 74s 212ms/step - loss: 0.2552 - accuracy: 0.9312\n",
      "Epoch 12/50\n",
      "347/347 [==============================] - 73s 209ms/step - loss: 0.2514 - accuracy: 0.9400\n",
      "Epoch 13/50\n",
      "347/347 [==============================] - 71s 206ms/step - loss: 0.3100 - accuracy: 0.9237\n",
      "Epoch 14/50\n",
      "347/347 [==============================] - 75s 216ms/step - loss: 0.2710 - accuracy: 0.9340\n",
      "Epoch 15/50\n",
      "347/347 [==============================] - 74s 214ms/step - loss: 0.1958 - accuracy: 0.9535\n",
      "Epoch 16/50\n",
      "347/347 [==============================] - 77s 221ms/step - loss: 0.2952 - accuracy: 0.9341\n",
      "Epoch 17/50\n",
      "347/347 [==============================] - 74s 213ms/step - loss: 0.1611 - accuracy: 0.9605\n",
      "Epoch 18/50\n",
      "347/347 [==============================] - 74s 213ms/step - loss: 0.2418 - accuracy: 0.9465\n",
      "Epoch 19/50\n",
      "347/347 [==============================] - 80s 229ms/step - loss: 0.2657 - accuracy: 0.9393\n",
      "Epoch 20/50\n",
      "347/347 [==============================] - 79s 229ms/step - loss: 0.3426 - accuracy: 0.9302\n",
      "Epoch 21/50\n",
      "347/347 [==============================] - 78s 226ms/step - loss: 0.2416 - accuracy: 0.9454\n",
      "Epoch 22/50\n",
      "347/347 [==============================] - 78s 225ms/step - loss: 0.1908 - accuracy: 0.9581\n",
      "Epoch 23/50\n",
      "347/347 [==============================] - 71s 204ms/step - loss: 0.3558 - accuracy: 0.9246\n",
      "Epoch 24/50\n",
      "347/347 [==============================] - 71s 204ms/step - loss: 0.2258 - accuracy: 0.9533\n",
      "Epoch 25/50\n",
      "347/347 [==============================] - 72s 208ms/step - loss: 0.2540 - accuracy: 0.9525\n",
      "Epoch 26/50\n",
      "347/347 [==============================] - 81s 233ms/step - loss: 0.2914 - accuracy: 0.9416\n",
      "Epoch 27/50\n",
      "347/347 [==============================] - 79s 228ms/step - loss: 0.2936 - accuracy: 0.9479\n",
      "Epoch 28/50\n",
      "347/347 [==============================] - 72s 207ms/step - loss: 0.2290 - accuracy: 0.9543\n",
      "Epoch 29/50\n",
      "347/347 [==============================] - 70s 202ms/step - loss: 0.2274 - accuracy: 0.9603\n",
      "Epoch 30/50\n",
      "347/347 [==============================] - 70s 202ms/step - loss: 0.2265 - accuracy: 0.9556\n",
      "Epoch 31/50\n",
      "347/347 [==============================] - 73s 211ms/step - loss: 0.1561 - accuracy: 0.9705\n",
      "Epoch 32/50\n",
      "347/347 [==============================] - 76s 220ms/step - loss: 0.2352 - accuracy: 0.9583\n",
      "Epoch 33/50\n",
      "347/347 [==============================] - 72s 208ms/step - loss: 0.2764 - accuracy: 0.9501\n",
      "Epoch 34/50\n",
      "347/347 [==============================] - 73s 209ms/step - loss: 0.2435 - accuracy: 0.9600\n",
      "Epoch 35/50\n",
      "347/347 [==============================] - 72s 206ms/step - loss: 0.3604 - accuracy: 0.9478\n",
      "Epoch 36/50\n",
      "347/347 [==============================] - 72s 208ms/step - loss: 0.3034 - accuracy: 0.9522\n",
      "Epoch 37/50\n",
      "347/347 [==============================] - 90s 260ms/step - loss: 0.1559 - accuracy: 0.9747\n",
      "Epoch 38/50\n",
      "347/347 [==============================] - 84s 243ms/step - loss: 0.1893 - accuracy: 0.9665\n",
      "Epoch 39/50\n",
      "347/347 [==============================] - 78s 224ms/step - loss: 0.2145 - accuracy: 0.9627\n",
      "Epoch 40/50\n",
      "347/347 [==============================] - 73s 211ms/step - loss: 0.1583 - accuracy: 0.9727\n",
      "Epoch 41/50\n",
      "347/347 [==============================] - 80s 230ms/step - loss: 0.4176 - accuracy: 0.9473\n",
      "Epoch 42/50\n",
      "347/347 [==============================] - 83s 239ms/step - loss: 0.2628 - accuracy: 0.9620\n",
      "Epoch 43/50\n",
      "347/347 [==============================] - 89s 258ms/step - loss: 0.1860 - accuracy: 0.9709\n",
      "Epoch 44/50\n",
      "347/347 [==============================] - 86s 247ms/step - loss: 0.1786 - accuracy: 0.9722\n",
      "Epoch 45/50\n",
      "347/347 [==============================] - 89s 256ms/step - loss: 0.2917 - accuracy: 0.9598\n",
      "Epoch 46/50\n",
      "347/347 [==============================] - 88s 253ms/step - loss: 0.2664 - accuracy: 0.9691\n",
      "Epoch 47/50\n",
      "347/347 [==============================] - 87s 251ms/step - loss: 0.2243 - accuracy: 0.9689\n",
      "Epoch 48/50\n",
      "347/347 [==============================] - 74s 214ms/step - loss: 0.1968 - accuracy: 0.9716\n",
      "Epoch 49/50\n",
      "347/347 [==============================] - 72s 208ms/step - loss: 0.1270 - accuracy: 0.9792\n",
      "Epoch 50/50\n",
      "347/347 [==============================] - 81s 235ms/step - loss: 0.2870 - accuracy: 0.9662\n"
     ]
    }
   ],
   "source": [
    "history = cnn.fit(x = X_train, y = X_test, epochs = 50, batch_size = 32)"
   ]
  },
  {
   "cell_type": "markdown",
   "id": "e0aac63c",
   "metadata": {},
   "source": [
    "### 모델 저장"
   ]
  },
  {
   "cell_type": "code",
   "execution_count": 96,
   "id": "ab4c53ac",
   "metadata": {},
   "outputs": [],
   "source": [
    "import pickle"
   ]
  },
  {
   "cell_type": "code",
   "execution_count": 99,
   "id": "7c332ee4",
   "metadata": {},
   "outputs": [
    {
     "ename": "TypeError",
     "evalue": "cannot pickle 'weakref' object",
     "output_type": "error",
     "traceback": [
      "\u001b[1;31m---------------------------------------------------------------------------\u001b[0m",
      "\u001b[1;31mTypeError\u001b[0m                                 Traceback (most recent call last)",
      "\u001b[1;32m<ipython-input-99-cd6dce68e923>\u001b[0m in \u001b[0;36m<module>\u001b[1;34m\u001b[0m\n\u001b[0;32m      1\u001b[0m \u001b[1;32mwith\u001b[0m \u001b[0mopen\u001b[0m\u001b[1;33m(\u001b[0m\u001b[1;34m\"first_model.dump\"\u001b[0m\u001b[1;33m,\u001b[0m\u001b[1;34m\"wb\"\u001b[0m\u001b[1;33m)\u001b[0m \u001b[1;32mas\u001b[0m \u001b[0mfw\u001b[0m\u001b[1;33m:\u001b[0m\u001b[1;33m\u001b[0m\u001b[1;33m\u001b[0m\u001b[0m\n\u001b[1;32m----> 2\u001b[1;33m     \u001b[0mpickle\u001b[0m\u001b[1;33m.\u001b[0m\u001b[0mdump\u001b[0m\u001b[1;33m(\u001b[0m\u001b[0mcnn\u001b[0m\u001b[1;33m,\u001b[0m \u001b[0mfw\u001b[0m\u001b[1;33m)\u001b[0m\u001b[1;33m\u001b[0m\u001b[1;33m\u001b[0m\u001b[0m\n\u001b[0m",
      "\u001b[1;31mTypeError\u001b[0m: cannot pickle 'weakref' object"
     ]
    }
   ],
   "source": [
    "with open(\"first_model.dump\",\"wb\") as fw:\n",
    "    pickle.dump(cnn, fw)"
   ]
  },
  {
   "cell_type": "code",
   "execution_count": null,
   "id": "2f0f632b",
   "metadata": {},
   "outputs": [],
   "source": [
    "with open('LabelEncoder4Birds.dump','wb') as fw:\n",
    "    pickle.dump(label_encoder, fw)"
   ]
  },
  {
   "cell_type": "markdown",
   "id": "3476fe9c",
   "metadata": {},
   "source": [
    "## 검증"
   ]
  },
  {
   "cell_type": "code",
   "execution_count": 111,
   "id": "1b551344",
   "metadata": {},
   "outputs": [],
   "source": [
    "pred = cnn.predict(y_train)"
   ]
  },
  {
   "cell_type": "markdown",
   "id": "37f34dca",
   "metadata": {},
   "source": [
    "pred.shape"
   ]
  },
  {
   "cell_type": "code",
   "execution_count": 112,
   "id": "9462e0f3",
   "metadata": {},
   "outputs": [],
   "source": [
    "pred_val = np.argmax(pred,axis = 1)"
   ]
  },
  {
   "cell_type": "code",
   "execution_count": 113,
   "id": "435b83de",
   "metadata": {},
   "outputs": [
    {
     "data": {
      "text/plain": [
       "array([13,  7, 12, ...,  6, 13,  8], dtype=int64)"
      ]
     },
     "execution_count": 113,
     "metadata": {},
     "output_type": "execute_result"
    }
   ],
   "source": [
    "pred_val"
   ]
  },
  {
   "cell_type": "code",
   "execution_count": 103,
   "id": "f6b8fe59",
   "metadata": {},
   "outputs": [
    {
     "data": {
      "text/plain": [
       "(4751, 25)"
      ]
     },
     "execution_count": 103,
     "metadata": {},
     "output_type": "execute_result"
    }
   ],
   "source": [
    "y_test.shape"
   ]
  },
  {
   "cell_type": "code",
   "execution_count": 114,
   "id": "2a141f2c",
   "metadata": {},
   "outputs": [],
   "source": [
    "y_test_val = np.argmax(y_test, axis = 1)"
   ]
  },
  {
   "cell_type": "code",
   "execution_count": 115,
   "id": "a5553b87",
   "metadata": {},
   "outputs": [
    {
     "data": {
      "text/plain": [
       "0.15723005683014102"
      ]
     },
     "execution_count": 115,
     "metadata": {},
     "output_type": "execute_result"
    }
   ],
   "source": [
    "from sklearn.metrics import accuracy_score\n",
    "accuracy_score(y_test_val,pred_val)"
   ]
  },
  {
   "cell_type": "code",
   "execution_count": 109,
   "id": "c24bd8e0",
   "metadata": {},
   "outputs": [
    {
     "data": {
      "text/plain": [
       "array(['Indian Peacock', 'Coppersmith Barbet', 'Indian Grey Hornbill',\n",
       "       ..., 'Common Tailorbird', 'Indian Peacock', 'Forest Wagtail'],\n",
       "      dtype='<U32')"
      ]
     },
     "execution_count": 109,
     "metadata": {},
     "output_type": "execute_result"
    }
   ],
   "source": [
    "pred_label = label_encoder.inverse_transform(pred_val)\n",
    "pred_label"
   ]
  },
  {
   "cell_type": "code",
   "execution_count": 116,
   "id": "dbb7175f",
   "metadata": {},
   "outputs": [
    {
     "data": {
      "text/plain": [
       "array([ 9, 16, 12, ...,  2, 23, 10], dtype=int64)"
      ]
     },
     "execution_count": 116,
     "metadata": {},
     "output_type": "execute_result"
    }
   ],
   "source": [
    "y_test_val"
   ]
  },
  {
   "cell_type": "code",
   "execution_count": 117,
   "id": "2b844c3f",
   "metadata": {},
   "outputs": [],
   "source": [
    "y_test_label = label_encoder.inverse_transform(y_test_val)"
   ]
  },
  {
   "cell_type": "code",
   "execution_count": 118,
   "id": "24f79c6a",
   "metadata": {},
   "outputs": [
    {
     "data": {
      "text/plain": [
       "array(['Gray Wagtail', 'Jungle Babbler', 'Indian Grey Hornbill', ...,\n",
       "       'Cattle Egret', 'White-Breasted Kingfisher', 'Hoopoe'],\n",
       "      dtype='<U32')"
      ]
     },
     "execution_count": 118,
     "metadata": {},
     "output_type": "execute_result"
    }
   ],
   "source": [
    "y_test_label"
   ]
  }
 ],
 "metadata": {
  "kernelspec": {
   "display_name": "Python 3",
   "language": "python",
   "name": "python3"
  },
  "language_info": {
   "codemirror_mode": {
    "name": "ipython",
    "version": 3
   },
   "file_extension": ".py",
   "mimetype": "text/x-python",
   "name": "python",
   "nbconvert_exporter": "python",
   "pygments_lexer": "ipython3",
   "version": "3.8.8"
  }
 },
 "nbformat": 4,
 "nbformat_minor": 5
}

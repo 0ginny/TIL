{
 "cells": [
  {
   "cell_type": "code",
   "execution_count": 1,
   "id": "ffeac231",
   "metadata": {},
   "outputs": [],
   "source": [
    "import cv2\n",
    "import numpy as np\n",
    "import matplotlib.pyplot as plt\n",
    "import seaborn as sns\n",
    "import tensorflow as tf\n",
    "from tensorflow.keras.preprocessing.image import ImageDataGenerator\n",
    "from tensorflow.keras.models import Sequential\n",
    "from tensorflow.keras.layers import Dense, Dropout, Conv2D, MaxPooling2D, Flatten, BatchNormalization"
   ]
  },
  {
   "cell_type": "code",
   "execution_count": 3,
   "id": "96d78184",
   "metadata": {},
   "outputs": [],
   "source": [
    "import pandas as pd"
   ]
  },
  {
   "cell_type": "code",
   "execution_count": 10,
   "id": "4ae053d1",
   "metadata": {},
   "outputs": [],
   "source": [
    "from sklearn.model_selection import train_test_split"
   ]
  },
  {
   "cell_type": "code",
   "execution_count": 27,
   "id": "089d51db",
   "metadata": {},
   "outputs": [],
   "source": [
    "from tensorflow.keras.callbacks import EarlyStopping"
   ]
  },
  {
   "cell_type": "code",
   "execution_count": 4,
   "id": "848dd698",
   "metadata": {},
   "outputs": [],
   "source": [
    "## load data csv\n",
    "train_csv = pd.read_csv('./train.csv')\n",
    "test_csv = pd.read_csv('./test.csv')"
   ]
  },
  {
   "cell_type": "code",
   "execution_count": 8,
   "id": "a4086591",
   "metadata": {},
   "outputs": [
    {
     "data": {
      "text/html": [
       "<div>\n",
       "<style scoped>\n",
       "    .dataframe tbody tr th:only-of-type {\n",
       "        vertical-align: middle;\n",
       "    }\n",
       "\n",
       "    .dataframe tbody tr th {\n",
       "        vertical-align: top;\n",
       "    }\n",
       "\n",
       "    .dataframe thead th {\n",
       "        text-align: right;\n",
       "    }\n",
       "</style>\n",
       "<table border=\"1\" class=\"dataframe\">\n",
       "  <thead>\n",
       "    <tr style=\"text-align: right;\">\n",
       "      <th></th>\n",
       "      <th>img_path</th>\n",
       "      <th>upscale_img_path</th>\n",
       "      <th>label</th>\n",
       "    </tr>\n",
       "  </thead>\n",
       "  <tbody>\n",
       "    <tr>\n",
       "      <th>0</th>\n",
       "      <td>./train/TRAIN_00000.jpg</td>\n",
       "      <td>./upscale_train/TRAIN_00000.png</td>\n",
       "      <td>Ruddy Shelduck</td>\n",
       "    </tr>\n",
       "    <tr>\n",
       "      <th>1</th>\n",
       "      <td>./train/TRAIN_00001.jpg</td>\n",
       "      <td>./upscale_train/TRAIN_00001.png</td>\n",
       "      <td>Gray Wagtail</td>\n",
       "    </tr>\n",
       "    <tr>\n",
       "      <th>2</th>\n",
       "      <td>./train/TRAIN_00002.jpg</td>\n",
       "      <td>./upscale_train/TRAIN_00002.png</td>\n",
       "      <td>Indian Peacock</td>\n",
       "    </tr>\n",
       "    <tr>\n",
       "      <th>3</th>\n",
       "      <td>./train/TRAIN_00003.jpg</td>\n",
       "      <td>./upscale_train/TRAIN_00003.png</td>\n",
       "      <td>Common Kingfisher</td>\n",
       "    </tr>\n",
       "    <tr>\n",
       "      <th>4</th>\n",
       "      <td>./train/TRAIN_00004.jpg</td>\n",
       "      <td>./upscale_train/TRAIN_00004.png</td>\n",
       "      <td>Common Kingfisher</td>\n",
       "    </tr>\n",
       "  </tbody>\n",
       "</table>\n",
       "</div>"
      ],
      "text/plain": [
       "                  img_path                 upscale_img_path              label\n",
       "0  ./train/TRAIN_00000.jpg  ./upscale_train/TRAIN_00000.png     Ruddy Shelduck\n",
       "1  ./train/TRAIN_00001.jpg  ./upscale_train/TRAIN_00001.png       Gray Wagtail\n",
       "2  ./train/TRAIN_00002.jpg  ./upscale_train/TRAIN_00002.png     Indian Peacock\n",
       "3  ./train/TRAIN_00003.jpg  ./upscale_train/TRAIN_00003.png  Common Kingfisher\n",
       "4  ./train/TRAIN_00004.jpg  ./upscale_train/TRAIN_00004.png  Common Kingfisher"
      ]
     },
     "execution_count": 8,
     "metadata": {},
     "output_type": "execute_result"
    }
   ],
   "source": [
    "train_csv.head()"
   ]
  },
  {
   "cell_type": "code",
   "execution_count": 35,
   "id": "5141c2d7",
   "metadata": {},
   "outputs": [],
   "source": [
    "width, height = 64, 64"
   ]
  },
  {
   "cell_type": "code",
   "execution_count": 13,
   "id": "092ba14b",
   "metadata": {},
   "outputs": [],
   "source": [
    "ratation_val = 7\n",
    "zoom_val = 0.2\n",
    "horizontal_bool = True\n",
    "vertical_bool = True\n",
    "batch_num = 32"
   ]
  },
  {
   "cell_type": "code",
   "execution_count": 16,
   "id": "57b36c74",
   "metadata": {
    "scrolled": true
   },
   "outputs": [
    {
     "name": "stdout",
     "output_type": "stream",
     "text": [
      "Found 11084 validated image filenames belonging to 25 classes.\n",
      "Found 4750 validated image filenames belonging to 25 classes.\n"
     ]
    }
   ],
   "source": [
    "# train data generate\n",
    "train_generator = ImageDataGenerator(rescale = 1./ 255,\n",
    "                                    rotation_range = ratation_val,\n",
    "                                    horizontal_flip=horizontal_bool,\n",
    "                                    vertical_flip=vertical_bool,\n",
    "                                    zoom_range= zoom_val,\n",
    "                                    validation_split= 0.3) # 30% 는 학습 데이터로 분류\n",
    "\n",
    "train_dataset = train_generator.flow_from_dataframe(train_csv, x_col= 'img_path', y_col= 'label',\n",
    "                                                   target_size= (width, height),\n",
    "                                                    batch_size = batch_num,\n",
    "                                                   class_mode = 'categorical',\n",
    "                                                   shuffle = True,\n",
    "                                                    subset='training',\n",
    "                                                   seed = 2)\n",
    "validation_dataset = train_generator.flow_from_dataframe(train_csv, x_col= 'img_path', y_col= 'label',\n",
    "                                                   target_size= (width, height),\n",
    "                                                    batch_size = batch_num,\n",
    "                                                   class_mode = 'categorical',\n",
    "                                                   shuffle = True,\n",
    "                                                    subset='validation',\n",
    "                                                   seed = 2)"
   ]
  },
  {
   "cell_type": "code",
   "execution_count": 18,
   "id": "e98771af",
   "metadata": {
    "scrolled": true
   },
   "outputs": [
    {
     "data": {
      "text/plain": [
       "<AxesSubplot:ylabel='count'>"
      ]
     },
     "execution_count": 18,
     "metadata": {},
     "output_type": "execute_result"
    },
    {
     "data": {
      "image/png": "[encoded data removed]",
      "text/plain": [
       "<Figure size 432x288 with 1 Axes>"
      ]
     },
     "metadata": {
      "needs_background": "light"
     },
     "output_type": "display_data"
    }
   ],
   "source": [
    "sns.countplot(x = train_dataset.classes)"
   ]
  },
  {
   "cell_type": "code",
   "execution_count": 19,
   "id": "cc69dfe7",
   "metadata": {
    "scrolled": true
   },
   "outputs": [
    {
     "data": {
      "text/plain": [
       "<AxesSubplot:ylabel='count'>"
      ]
     },
     "execution_count": 19,
     "metadata": {},
     "output_type": "execute_result"
    },
    {
     "data": {
      "image/png": "[encoded data removed]",
      "text/plain": [
       "<Figure size 432x288 with 1 Axes>"
      ]
     },
     "metadata": {
      "needs_background": "light"
     },
     "output_type": "display_data"
    }
   ],
   "source": [
    "sns.countplot(x = validation_dataset.classes)"
   ]
  },
  {
   "cell_type": "code",
   "execution_count": 40,
   "id": "fd357085",
   "metadata": {},
   "outputs": [],
   "source": [
    "num_detectors = 32\n",
    "num_classes = 25\n",
    "epochs = 50\n"
   ]
  },
  {
   "cell_type": "code",
   "execution_count": 41,
   "id": "6c1d682a",
   "metadata": {
    "scrolled": true
   },
   "outputs": [
    {
     "name": "stdout",
     "output_type": "stream",
     "text": [
      "Model: \"sequential_4\"\n",
      "_________________________________________________________________\n",
      "Layer (type)                 Output Shape              Param #   \n",
      "=================================================================\n",
      "conv2d_32 (Conv2D)           (None, 64, 64, 32)        896       \n",
      "_________________________________________________________________\n",
      "batch_normalization_40 (Batc (None, 64, 64, 32)        128       \n",
      "_________________________________________________________________\n",
      "conv2d_33 (Conv2D)           (None, 64, 64, 32)        9248      \n",
      "_________________________________________________________________\n",
      "batch_normalization_41 (Batc (None, 64, 64, 32)        128       \n",
      "_________________________________________________________________\n",
      "max_pooling2d_16 (MaxPooling (None, 32, 32, 32)        0         \n",
      "_________________________________________________________________\n",
      "dropout_24 (Dropout)         (None, 32, 32, 32)        0         \n",
      "_________________________________________________________________\n",
      "conv2d_34 (Conv2D)           (None, 32, 32, 64)        18496     \n",
      "_________________________________________________________________\n",
      "batch_normalization_42 (Batc (None, 32, 32, 64)        256       \n",
      "_________________________________________________________________\n",
      "conv2d_35 (Conv2D)           (None, 32, 32, 64)        36928     \n",
      "_________________________________________________________________\n",
      "batch_normalization_43 (Batc (None, 32, 32, 64)        256       \n",
      "_________________________________________________________________\n",
      "max_pooling2d_17 (MaxPooling (None, 16, 16, 64)        0         \n",
      "_________________________________________________________________\n",
      "dropout_25 (Dropout)         (None, 16, 16, 64)        0         \n",
      "_________________________________________________________________\n",
      "conv2d_36 (Conv2D)           (None, 16, 16, 128)       73856     \n",
      "_________________________________________________________________\n",
      "batch_normalization_44 (Batc (None, 16, 16, 128)       512       \n",
      "_________________________________________________________________\n",
      "conv2d_37 (Conv2D)           (None, 16, 16, 128)       147584    \n",
      "_________________________________________________________________\n",
      "batch_normalization_45 (Batc (None, 16, 16, 128)       512       \n",
      "_________________________________________________________________\n",
      "max_pooling2d_18 (MaxPooling (None, 8, 8, 128)         0         \n",
      "_________________________________________________________________\n",
      "dropout_26 (Dropout)         (None, 8, 8, 128)         0         \n",
      "_________________________________________________________________\n",
      "conv2d_38 (Conv2D)           (None, 8, 8, 256)         295168    \n",
      "_________________________________________________________________\n",
      "batch_normalization_46 (Batc (None, 8, 8, 256)         1024      \n",
      "_________________________________________________________________\n",
      "conv2d_39 (Conv2D)           (None, 8, 8, 256)         590080    \n",
      "_________________________________________________________________\n",
      "batch_normalization_47 (Batc (None, 8, 8, 256)         1024      \n",
      "_________________________________________________________________\n",
      "max_pooling2d_19 (MaxPooling (None, 4, 4, 256)         0         \n",
      "_________________________________________________________________\n",
      "dropout_27 (Dropout)         (None, 4, 4, 256)         0         \n",
      "_________________________________________________________________\n",
      "flatten_4 (Flatten)          (None, 4096)              0         \n",
      "_________________________________________________________________\n",
      "dense_12 (Dense)             (None, 64)                262208    \n",
      "_________________________________________________________________\n",
      "batch_normalization_48 (Batc (None, 64)                256       \n",
      "_________________________________________________________________\n",
      "dropout_28 (Dropout)         (None, 64)                0         \n",
      "_________________________________________________________________\n",
      "dense_13 (Dense)             (None, 64)                4160      \n",
      "_________________________________________________________________\n",
      "batch_normalization_49 (Batc (None, 64)                256       \n",
      "_________________________________________________________________\n",
      "dropout_29 (Dropout)         (None, 64)                0         \n",
      "_________________________________________________________________\n",
      "dense_14 (Dense)             (None, 25)                1625      \n",
      "=================================================================\n",
      "Total params: 1,444,601\n",
      "Trainable params: 1,442,425\n",
      "Non-trainable params: 2,176\n",
      "_________________________________________________________________\n",
      "None\n"
     ]
    }
   ],
   "source": [
    "# 모델 생성\n",
    "\n",
    "network = Sequential()\n",
    "\n",
    "network.add(Conv2D(num_detectors, (3,3), activation='relu', padding = 'same', input_shape = (width, height, 3)))\n",
    "network.add(BatchNormalization())\n",
    "network.add(Conv2D(num_detectors, (3,3), activation='relu', padding = 'same'))\n",
    "network.add(BatchNormalization())\n",
    "network.add(MaxPooling2D(pool_size=(2,2)))\n",
    "network.add(Dropout(0.2))\n",
    "\n",
    "network.add(Conv2D(2*num_detectors, (3,3), activation='relu', padding = 'same'))\n",
    "network.add(BatchNormalization())\n",
    "network.add(Conv2D(2*num_detectors, (3,3), activation='relu', padding = 'same'))\n",
    "network.add(BatchNormalization())\n",
    "network.add(MaxPooling2D(pool_size=(2,2)))\n",
    "network.add(Dropout(0.2))\n",
    "\n",
    "network.add(Conv2D(2*2*num_detectors, (3,3), activation='relu', padding = 'same'))\n",
    "network.add(BatchNormalization())\n",
    "network.add(Conv2D(2*2*num_detectors, (3,3), activation='relu', padding = 'same'))\n",
    "network.add(BatchNormalization())\n",
    "network.add(MaxPooling2D(pool_size=(2,2)))\n",
    "network.add(Dropout(0.2))\n",
    "\n",
    "network.add(Conv2D(2*2*2*num_detectors, (3,3), activation='relu', padding = 'same'))\n",
    "network.add(BatchNormalization())\n",
    "network.add(Conv2D(2*2*2*num_detectors, (3,3), activation='relu', padding = 'same'))\n",
    "network.add(BatchNormalization())\n",
    "network.add(MaxPooling2D(pool_size=(2,2)))\n",
    "network.add(Dropout(0.2))\n",
    "\n",
    "network.add(Flatten())\n",
    "\n",
    "network.add(Dense(2 * num_detectors, activation='relu'))\n",
    "network.add(BatchNormalization())\n",
    "network.add(Dropout(0.2))\n",
    "\n",
    "network.add(Dense(2 * num_detectors, activation='relu'))\n",
    "network.add(BatchNormalization())\n",
    "network.add(Dropout(0.2))\n",
    "\n",
    "network.add(Dense(num_classes, activation='softmax'))\n",
    "print(network.summary())"
   ]
  },
  {
   "cell_type": "code",
   "execution_count": 42,
   "id": "5f219461",
   "metadata": {},
   "outputs": [],
   "source": [
    "network.compile(optimizer='Adam', loss='categorical_crossentropy', metrics=['accuracy'])"
   ]
  },
  {
   "cell_type": "code",
   "execution_count": 50,
   "id": "9cf1a70d",
   "metadata": {},
   "outputs": [],
   "source": [
    "# validation accuracy가 향상되지 않으면 학습을 조기 중지합니다.\n",
    "# `monitor`는 \"val_accuracy\"를, `patience`는 20번의 epoch를 초과할 때 중지하도록 설정합니다.\n",
    "early_stopping_callback = EarlyStopping(\n",
    "    monitor='val_accuracy',\n",
    "    patience=5,  # 20번의 epoch 동안 향상되지 않으면 중지\n",
    "    restore_best_weights=True  # 최적의 가중치를 복원\n",
    ")"
   ]
  },
  {
   "cell_type": "code",
   "execution_count": 43,
   "id": "7ecb120f",
   "metadata": {
    "scrolled": true
   },
   "outputs": [
    {
     "name": "stdout",
     "output_type": "stream",
     "text": [
      "Epoch 1/50\n",
      "347/347 [==============================] - 137s 393ms/step - loss: 3.3233 - accuracy: 0.0829 - val_loss: 3.7538 - val_accuracy: 0.0406\n",
      "Epoch 2/50\n",
      "347/347 [==============================] - 136s 393ms/step - loss: 2.9500 - accuracy: 0.1352 - val_loss: 2.8265 - val_accuracy: 0.1613\n",
      "Epoch 3/50\n",
      "347/347 [==============================] - 140s 403ms/step - loss: 2.6840 - accuracy: 0.1996 - val_loss: 2.6220 - val_accuracy: 0.2246\n",
      "Epoch 4/50\n",
      "347/347 [==============================] - 140s 402ms/step - loss: 2.5036 - accuracy: 0.2531 - val_loss: 2.4658 - val_accuracy: 0.2533\n",
      "Epoch 5/50\n",
      "347/347 [==============================] - 142s 410ms/step - loss: 2.3587 - accuracy: 0.2811 - val_loss: 2.3122 - val_accuracy: 0.2979\n",
      "Epoch 6/50\n",
      "347/347 [==============================] - 140s 404ms/step - loss: 2.2598 - accuracy: 0.3154 - val_loss: 2.3486 - val_accuracy: 0.3080\n",
      "Epoch 7/50\n",
      "347/347 [==============================] - 138s 398ms/step - loss: 2.1472 - accuracy: 0.3602 - val_loss: 2.3251 - val_accuracy: 0.3044\n",
      "Epoch 8/50\n",
      "347/347 [==============================] - 502s 1s/step - loss: 2.0492 - accuracy: 0.3826 - val_loss: 2.0690 - val_accuracy: 0.3909\n",
      "Epoch 9/50\n",
      "347/347 [==============================] - 134s 385ms/step - loss: 1.9265 - accuracy: 0.4222 - val_loss: 2.2541 - val_accuracy: 0.3383\n",
      "Epoch 10/50\n",
      "347/347 [==============================] - 137s 396ms/step - loss: 1.8295 - accuracy: 0.4583 - val_loss: 1.8159 - val_accuracy: 0.4514\n",
      "Epoch 11/50\n",
      "347/347 [==============================] - 155s 446ms/step - loss: 1.7491 - accuracy: 0.4782 - val_loss: 1.8586 - val_accuracy: 0.4503\n",
      "Epoch 12/50\n",
      "347/347 [==============================] - 145s 418ms/step - loss: 1.6794 - accuracy: 0.5001 - val_loss: 2.0223 - val_accuracy: 0.4225\n",
      "Epoch 13/50\n",
      "347/347 [==============================] - 160s 462ms/step - loss: 1.5905 - accuracy: 0.5286 - val_loss: 1.5651 - val_accuracy: 0.5362\n",
      "Epoch 14/50\n",
      "347/347 [==============================] - 172s 497ms/step - loss: 1.5291 - accuracy: 0.5469 - val_loss: 1.6187 - val_accuracy: 0.5154\n",
      "Epoch 15/50\n",
      "347/347 [==============================] - 165s 475ms/step - loss: 1.4534 - accuracy: 0.5667 - val_loss: 1.6060 - val_accuracy: 0.5291\n",
      "Epoch 16/50\n",
      "347/347 [==============================] - 163s 469ms/step - loss: 1.4189 - accuracy: 0.5838 - val_loss: 1.4101 - val_accuracy: 0.5825\n",
      "Epoch 17/50\n",
      "347/347 [==============================] - 168s 485ms/step - loss: 1.3765 - accuracy: 0.5923 - val_loss: 1.3842 - val_accuracy: 0.5897\n",
      "Epoch 18/50\n",
      "347/347 [==============================] - 165s 475ms/step - loss: 1.3383 - accuracy: 0.6077 - val_loss: 1.4208 - val_accuracy: 0.5867\n",
      "Epoch 19/50\n",
      "347/347 [==============================] - 140s 404ms/step - loss: 1.2667 - accuracy: 0.6268 - val_loss: 1.3133 - val_accuracy: 0.6154\n",
      "Epoch 20/50\n",
      "347/347 [==============================] - 142s 409ms/step - loss: 1.2413 - accuracy: 0.6365 - val_loss: 1.2769 - val_accuracy: 0.6295\n",
      "Epoch 21/50\n",
      "347/347 [==============================] - 150s 432ms/step - loss: 1.2109 - accuracy: 0.6463 - val_loss: 1.2168 - val_accuracy: 0.6501\n",
      "Epoch 22/50\n",
      "347/347 [==============================] - 175s 505ms/step - loss: 1.1746 - accuracy: 0.6564 - val_loss: 1.3353 - val_accuracy: 0.6232\n",
      "Epoch 23/50\n",
      "347/347 [==============================] - 183s 527ms/step - loss: 1.1373 - accuracy: 0.6628 - val_loss: 1.3723 - val_accuracy: 0.5998\n",
      "Epoch 24/50\n",
      "347/347 [==============================] - 168s 485ms/step - loss: 1.1173 - accuracy: 0.6716 - val_loss: 1.1421 - val_accuracy: 0.6657\n",
      "Epoch 25/50\n",
      "347/347 [==============================] - 166s 479ms/step - loss: 1.0867 - accuracy: 0.6815 - val_loss: 1.1797 - val_accuracy: 0.6663\n",
      "Epoch 26/50\n",
      "347/347 [==============================] - 165s 475ms/step - loss: 1.0742 - accuracy: 0.6813 - val_loss: 1.1509 - val_accuracy: 0.6667\n",
      "Epoch 27/50\n",
      "347/347 [==============================] - 160s 462ms/step - loss: 1.0471 - accuracy: 0.6909 - val_loss: 1.1374 - val_accuracy: 0.6703\n",
      "Epoch 28/50\n",
      "347/347 [==============================] - 182s 524ms/step - loss: 0.9982 - accuracy: 0.7039 - val_loss: 1.2157 - val_accuracy: 0.6545\n",
      "Epoch 29/50\n",
      "347/347 [==============================] - 175s 503ms/step - loss: 0.9891 - accuracy: 0.7070 - val_loss: 1.1088 - val_accuracy: 0.6798\n",
      "Epoch 30/50\n",
      "347/347 [==============================] - 178s 514ms/step - loss: 0.9837 - accuracy: 0.7092 - val_loss: 1.0429 - val_accuracy: 0.6977\n",
      "Epoch 31/50\n",
      "347/347 [==============================] - 179s 516ms/step - loss: 0.9917 - accuracy: 0.7007 - val_loss: 1.0880 - val_accuracy: 0.6857\n",
      "Epoch 32/50\n",
      "347/347 [==============================] - 172s 497ms/step - loss: 0.9271 - accuracy: 0.7225 - val_loss: 1.0843 - val_accuracy: 0.6901\n",
      "Epoch 33/50\n",
      "347/347 [==============================] - 172s 496ms/step - loss: 0.9288 - accuracy: 0.7262 - val_loss: 1.5490 - val_accuracy: 0.5813\n",
      "Epoch 34/50\n",
      "347/347 [==============================] - 169s 488ms/step - loss: 0.8935 - accuracy: 0.7354 - val_loss: 1.1658 - val_accuracy: 0.6705\n",
      "Epoch 35/50\n",
      "347/347 [==============================] - 159s 459ms/step - loss: 0.9061 - accuracy: 0.7322 - val_loss: 1.0585 - val_accuracy: 0.6928\n",
      "Epoch 36/50\n",
      "347/347 [==============================] - 186s 535ms/step - loss: 0.8619 - accuracy: 0.7404 - val_loss: 1.0727 - val_accuracy: 0.6886\n",
      "Epoch 37/50\n",
      "347/347 [==============================] - 181s 523ms/step - loss: 0.8653 - accuracy: 0.7456 - val_loss: 1.0008 - val_accuracy: 0.7105\n",
      "Epoch 38/50\n",
      "347/347 [==============================] - 165s 477ms/step - loss: 0.8372 - accuracy: 0.7524 - val_loss: 0.9910 - val_accuracy: 0.7122\n",
      "Epoch 39/50\n",
      "347/347 [==============================] - 165s 476ms/step - loss: 0.8319 - accuracy: 0.7564 - val_loss: 1.0884 - val_accuracy: 0.6867\n",
      "Epoch 40/50\n",
      "347/347 [==============================] - 166s 478ms/step - loss: 0.8252 - accuracy: 0.7534 - val_loss: 1.0277 - val_accuracy: 0.7116\n",
      "Epoch 41/50\n",
      "347/347 [==============================] - 185s 533ms/step - loss: 0.7966 - accuracy: 0.7639 - val_loss: 1.1141 - val_accuracy: 0.6865\n",
      "Epoch 42/50\n",
      "347/347 [==============================] - 176s 508ms/step - loss: 0.7925 - accuracy: 0.7618 - val_loss: 0.9657 - val_accuracy: 0.7282\n",
      "Epoch 43/50\n",
      "347/347 [==============================] - 185s 533ms/step - loss: 0.7766 - accuracy: 0.7704 - val_loss: 1.1155 - val_accuracy: 0.6878\n",
      "Epoch 44/50\n",
      "347/347 [==============================] - 176s 508ms/step - loss: 0.7514 - accuracy: 0.7755 - val_loss: 1.0433 - val_accuracy: 0.7107\n",
      "Epoch 45/50\n",
      "347/347 [==============================] - 174s 502ms/step - loss: 0.7490 - accuracy: 0.7727 - val_loss: 1.0458 - val_accuracy: 0.7091\n",
      "Epoch 46/50\n",
      "347/347 [==============================] - 180s 518ms/step - loss: 0.7410 - accuracy: 0.7766 - val_loss: 1.0905 - val_accuracy: 0.6989\n",
      "Epoch 47/50\n",
      "347/347 [==============================] - 184s 531ms/step - loss: 0.7291 - accuracy: 0.7809 - val_loss: 1.0130 - val_accuracy: 0.7200\n",
      "Epoch 48/50\n",
      "347/347 [==============================] - 174s 503ms/step - loss: 0.7156 - accuracy: 0.7908 - val_loss: 1.0487 - val_accuracy: 0.7011\n",
      "Epoch 49/50\n",
      "347/347 [==============================] - 154s 443ms/step - loss: 0.7254 - accuracy: 0.7826 - val_loss: 0.9410 - val_accuracy: 0.7362\n",
      "Epoch 50/50\n",
      "347/347 [==============================] - 154s 442ms/step - loss: 0.6949 - accuracy: 0.7935 - val_loss: 0.9788 - val_accuracy: 0.7312\n"
     ]
    },
    {
     "data": {
      "text/plain": [
       "<tensorflow.python.keras.callbacks.History at 0x14fa37754f0>"
      ]
     },
     "execution_count": 43,
     "metadata": {},
     "output_type": "execute_result"
    }
   ],
   "source": [
    "network.fit(\n",
    "    train_dataset,\n",
    "    epochs=epochs,\n",
    "    validation_data=validation_dataset,\n",
    "    callbacks=[early_stopping_callback]\n",
    ")"
   ]
  },
  {
   "cell_type": "code",
   "execution_count": 44,
   "id": "21bc7d6c",
   "metadata": {},
   "outputs": [],
   "source": [
    "model_json = network.to_json()\n",
    "with open('second_complex_model.json','w') as json_file:\n",
    "  json_file.write(model_json)"
   ]
  },
  {
   "cell_type": "code",
   "execution_count": 45,
   "id": "8c3d3691",
   "metadata": {},
   "outputs": [],
   "source": [
    "from keras.models import save_model\n",
    "network_saved = save_model(network, 'weight_sencond_birds.hdf5')"
   ]
  },
  {
   "cell_type": "markdown",
   "id": "61e98b99",
   "metadata": {},
   "source": [
    "open"
   ]
  },
  {
   "cell_type": "code",
   "execution_count": 46,
   "id": "0a03e90d",
   "metadata": {},
   "outputs": [],
   "source": [
    "with open('second_complex_model.json', 'r') as json_file:\n",
    "  json_saved_model = json_file.read()\n",
    "\n",
    "network_loaded = tf.keras.models.model_from_json(json_saved_model)\n",
    "network_loaded.load_weights('weight_sencond_birds.hdf5')\n",
    "network_loaded.compile(loss = 'categorical_crossentropy', optimizer='Adam', metrics=['accuracy'])"
   ]
  },
  {
   "cell_type": "code",
   "execution_count": 47,
   "id": "f0e2755c",
   "metadata": {},
   "outputs": [
    {
     "name": "stdout",
     "output_type": "stream",
     "text": [
      "Model: \"sequential_4\"\n",
      "_________________________________________________________________\n",
      "Layer (type)                 Output Shape              Param #   \n",
      "=================================================================\n",
      "conv2d_32 (Conv2D)           (None, 64, 64, 32)        896       \n",
      "_________________________________________________________________\n",
      "batch_normalization_40 (Batc (None, 64, 64, 32)        128       \n",
      "_________________________________________________________________\n",
      "conv2d_33 (Conv2D)           (None, 64, 64, 32)        9248      \n",
      "_________________________________________________________________\n",
      "batch_normalization_41 (Batc (None, 64, 64, 32)        128       \n",
      "_________________________________________________________________\n",
      "max_pooling2d_16 (MaxPooling (None, 32, 32, 32)        0         \n",
      "_________________________________________________________________\n",
      "dropout_24 (Dropout)         (None, 32, 32, 32)        0         \n",
      "_________________________________________________________________\n",
      "conv2d_34 (Conv2D)           (None, 32, 32, 64)        18496     \n",
      "_________________________________________________________________\n",
      "batch_normalization_42 (Batc (None, 32, 32, 64)        256       \n",
      "_________________________________________________________________\n",
      "conv2d_35 (Conv2D)           (None, 32, 32, 64)        36928     \n",
      "_________________________________________________________________\n",
      "batch_normalization_43 (Batc (None, 32, 32, 64)        256       \n",
      "_________________________________________________________________\n",
      "max_pooling2d_17 (MaxPooling (None, 16, 16, 64)        0         \n",
      "_________________________________________________________________\n",
      "dropout_25 (Dropout)         (None, 16, 16, 64)        0         \n",
      "_________________________________________________________________\n",
      "conv2d_36 (Conv2D)           (None, 16, 16, 128)       73856     \n",
      "_________________________________________________________________\n",
      "batch_normalization_44 (Batc (None, 16, 16, 128)       512       \n",
      "_________________________________________________________________\n",
      "conv2d_37 (Conv2D)           (None, 16, 16, 128)       147584    \n",
      "_________________________________________________________________\n",
      "batch_normalization_45 (Batc (None, 16, 16, 128)       512       \n",
      "_________________________________________________________________\n",
      "max_pooling2d_18 (MaxPooling (None, 8, 8, 128)         0         \n",
      "_________________________________________________________________\n",
      "dropout_26 (Dropout)         (None, 8, 8, 128)         0         \n",
      "_________________________________________________________________\n",
      "conv2d_38 (Conv2D)           (None, 8, 8, 256)         295168    \n",
      "_________________________________________________________________\n",
      "batch_normalization_46 (Batc (None, 8, 8, 256)         1024      \n",
      "_________________________________________________________________\n",
      "conv2d_39 (Conv2D)           (None, 8, 8, 256)         590080    \n",
      "_________________________________________________________________\n",
      "batch_normalization_47 (Batc (None, 8, 8, 256)         1024      \n",
      "_________________________________________________________________\n",
      "max_pooling2d_19 (MaxPooling (None, 4, 4, 256)         0         \n",
      "_________________________________________________________________\n",
      "dropout_27 (Dropout)         (None, 4, 4, 256)         0         \n",
      "_________________________________________________________________\n",
      "flatten_4 (Flatten)          (None, 4096)              0         \n",
      "_________________________________________________________________\n",
      "dense_12 (Dense)             (None, 64)                262208    \n",
      "_________________________________________________________________\n",
      "batch_normalization_48 (Batc (None, 64)                256       \n",
      "_________________________________________________________________\n",
      "dropout_28 (Dropout)         (None, 64)                0         \n",
      "_________________________________________________________________\n",
      "dense_13 (Dense)             (None, 64)                4160      \n",
      "_________________________________________________________________\n",
      "batch_normalization_49 (Batc (None, 64)                256       \n",
      "_________________________________________________________________\n",
      "dropout_29 (Dropout)         (None, 64)                0         \n",
      "_________________________________________________________________\n",
      "dense_14 (Dense)             (None, 25)                1625      \n",
      "=================================================================\n",
      "Total params: 1,444,601\n",
      "Trainable params: 1,442,425\n",
      "Non-trainable params: 2,176\n",
      "_________________________________________________________________\n"
     ]
    }
   ],
   "source": [
    "network_loaded.summary()"
   ]
  },
  {
   "cell_type": "code",
   "execution_count": 52,
   "id": "f73fbe79",
   "metadata": {},
   "outputs": [
    {
     "data": {
      "text/html": [
       "<div>\n",
       "<style scoped>\n",
       "    .dataframe tbody tr th:only-of-type {\n",
       "        vertical-align: middle;\n",
       "    }\n",
       "\n",
       "    .dataframe tbody tr th {\n",
       "        vertical-align: top;\n",
       "    }\n",
       "\n",
       "    .dataframe thead th {\n",
       "        text-align: right;\n",
       "    }\n",
       "</style>\n",
       "<table border=\"1\" class=\"dataframe\">\n",
       "  <thead>\n",
       "    <tr style=\"text-align: right;\">\n",
       "      <th></th>\n",
       "      <th>id</th>\n",
       "      <th>label</th>\n",
       "    </tr>\n",
       "  </thead>\n",
       "  <tbody>\n",
       "    <tr>\n",
       "      <th>0</th>\n",
       "      <td>TEST_00000</td>\n",
       "      <td>Indian Roller</td>\n",
       "    </tr>\n",
       "    <tr>\n",
       "      <th>1</th>\n",
       "      <td>TEST_00001</td>\n",
       "      <td>Indian Roller</td>\n",
       "    </tr>\n",
       "    <tr>\n",
       "      <th>2</th>\n",
       "      <td>TEST_00002</td>\n",
       "      <td>Indian Roller</td>\n",
       "    </tr>\n",
       "    <tr>\n",
       "      <th>3</th>\n",
       "      <td>TEST_00003</td>\n",
       "      <td>Indian Roller</td>\n",
       "    </tr>\n",
       "    <tr>\n",
       "      <th>4</th>\n",
       "      <td>TEST_00004</td>\n",
       "      <td>Indian Roller</td>\n",
       "    </tr>\n",
       "  </tbody>\n",
       "</table>\n",
       "</div>"
      ],
      "text/plain": [
       "           id          label\n",
       "0  TEST_00000  Indian Roller\n",
       "1  TEST_00001  Indian Roller\n",
       "2  TEST_00002  Indian Roller\n",
       "3  TEST_00003  Indian Roller\n",
       "4  TEST_00004  Indian Roller"
      ]
     },
     "execution_count": 52,
     "metadata": {},
     "output_type": "execute_result"
    }
   ],
   "source": [
    "submision_csv = pd.read_csv('sample_submission.csv')\n",
    "submision_csv.head()"
   ]
  },
  {
   "cell_type": "code",
   "execution_count": 53,
   "id": "5a978297",
   "metadata": {},
   "outputs": [
    {
     "data": {
      "text/html": [
       "<div>\n",
       "<style scoped>\n",
       "    .dataframe tbody tr th:only-of-type {\n",
       "        vertical-align: middle;\n",
       "    }\n",
       "\n",
       "    .dataframe tbody tr th {\n",
       "        vertical-align: top;\n",
       "    }\n",
       "\n",
       "    .dataframe thead th {\n",
       "        text-align: right;\n",
       "    }\n",
       "</style>\n",
       "<table border=\"1\" class=\"dataframe\">\n",
       "  <thead>\n",
       "    <tr style=\"text-align: right;\">\n",
       "      <th></th>\n",
       "      <th>id</th>\n",
       "      <th>img_path</th>\n",
       "    </tr>\n",
       "  </thead>\n",
       "  <tbody>\n",
       "    <tr>\n",
       "      <th>0</th>\n",
       "      <td>TEST_00000</td>\n",
       "      <td>./test/TEST_00000.jpg</td>\n",
       "    </tr>\n",
       "    <tr>\n",
       "      <th>1</th>\n",
       "      <td>TEST_00001</td>\n",
       "      <td>./test/TEST_00001.jpg</td>\n",
       "    </tr>\n",
       "    <tr>\n",
       "      <th>2</th>\n",
       "      <td>TEST_00002</td>\n",
       "      <td>./test/TEST_00002.jpg</td>\n",
       "    </tr>\n",
       "    <tr>\n",
       "      <th>3</th>\n",
       "      <td>TEST_00003</td>\n",
       "      <td>./test/TEST_00003.jpg</td>\n",
       "    </tr>\n",
       "    <tr>\n",
       "      <th>4</th>\n",
       "      <td>TEST_00004</td>\n",
       "      <td>./test/TEST_00004.jpg</td>\n",
       "    </tr>\n",
       "    <tr>\n",
       "      <th>...</th>\n",
       "      <td>...</td>\n",
       "      <td>...</td>\n",
       "    </tr>\n",
       "    <tr>\n",
       "      <th>6781</th>\n",
       "      <td>TEST_06781</td>\n",
       "      <td>./test/TEST_06781.jpg</td>\n",
       "    </tr>\n",
       "    <tr>\n",
       "      <th>6782</th>\n",
       "      <td>TEST_06782</td>\n",
       "      <td>./test/TEST_06782.jpg</td>\n",
       "    </tr>\n",
       "    <tr>\n",
       "      <th>6783</th>\n",
       "      <td>TEST_06783</td>\n",
       "      <td>./test/TEST_06783.jpg</td>\n",
       "    </tr>\n",
       "    <tr>\n",
       "      <th>6784</th>\n",
       "      <td>TEST_06784</td>\n",
       "      <td>./test/TEST_06784.jpg</td>\n",
       "    </tr>\n",
       "    <tr>\n",
       "      <th>6785</th>\n",
       "      <td>TEST_06785</td>\n",
       "      <td>./test/TEST_06785.jpg</td>\n",
       "    </tr>\n",
       "  </tbody>\n",
       "</table>\n",
       "<p>6786 rows × 2 columns</p>\n",
       "</div>"
      ],
      "text/plain": [
       "              id               img_path\n",
       "0     TEST_00000  ./test/TEST_00000.jpg\n",
       "1     TEST_00001  ./test/TEST_00001.jpg\n",
       "2     TEST_00002  ./test/TEST_00002.jpg\n",
       "3     TEST_00003  ./test/TEST_00003.jpg\n",
       "4     TEST_00004  ./test/TEST_00004.jpg\n",
       "...          ...                    ...\n",
       "6781  TEST_06781  ./test/TEST_06781.jpg\n",
       "6782  TEST_06782  ./test/TEST_06782.jpg\n",
       "6783  TEST_06783  ./test/TEST_06783.jpg\n",
       "6784  TEST_06784  ./test/TEST_06784.jpg\n",
       "6785  TEST_06785  ./test/TEST_06785.jpg\n",
       "\n",
       "[6786 rows x 2 columns]"
      ]
     },
     "execution_count": 53,
     "metadata": {},
     "output_type": "execute_result"
    }
   ],
   "source": [
    "test_csv"
   ]
  },
  {
   "cell_type": "code",
   "execution_count": 66,
   "id": "a68a0d60",
   "metadata": {},
   "outputs": [
    {
     "name": "stdout",
     "output_type": "stream",
     "text": [
      "Found 6786 validated image filenames.\n"
     ]
    }
   ],
   "source": [
    "test_generator = ImageDataGenerator(rescale = 1./ 255)\n",
    "\n",
    "test_dataset = test_generator.flow_from_dataframe(test_csv, x_col= 'img_path', # y_col= 'label',\n",
    "                                                   target_size= (width, height),\n",
    "                                                    batch_size = 1,\n",
    "                                                   class_mode = None ,\n",
    "                                                   shuffle = False)"
   ]
  },
  {
   "cell_type": "code",
   "execution_count": 67,
   "id": "f820cea1",
   "metadata": {},
   "outputs": [
    {
     "data": {
      "text/plain": [
       "array([[1.9427484e-02, 9.0705762e-03, 3.1995226e-04, ..., 2.1334626e-03,\n",
       "        5.9535272e-02, 6.7041241e-05],\n",
       "       [8.7246346e-01, 1.2806159e-02, 1.7557158e-04, ..., 3.0996892e-04,\n",
       "        1.2620459e-03, 1.3345405e-03],\n",
       "       [2.7184785e-04, 2.6798712e-03, 1.1377201e-03, ..., 1.0259064e-03,\n",
       "        4.7261343e-05, 1.1452303e-02],\n",
       "       ...,\n",
       "       [3.2600368e-05, 4.7398262e-05, 1.1785170e-01, ..., 1.0346075e-03,\n",
       "        6.0172752e-05, 2.3662983e-03],\n",
       "       [3.1940215e-06, 2.6560531e-04, 1.9945044e-04, ..., 1.3682585e-03,\n",
       "        6.0684673e-05, 5.4553348e-05],\n",
       "       [3.0899528e-08, 3.7248685e-07, 1.6505838e-10, ..., 7.3629338e-09,\n",
       "        8.4170509e-08, 3.4665411e-12]], dtype=float32)"
      ]
     },
     "execution_count": 67,
     "metadata": {},
     "output_type": "execute_result"
    }
   ],
   "source": [
    "prediction = network_loaded.predict(test_dataset)\n",
    "prediction"
   ]
  },
  {
   "cell_type": "code",
   "execution_count": 68,
   "id": "8c38a10b",
   "metadata": {},
   "outputs": [
    {
     "data": {
      "text/plain": [
       "(6786, 25)"
      ]
     },
     "execution_count": 68,
     "metadata": {},
     "output_type": "execute_result"
    }
   ],
   "source": [
    "prediction.shape"
   ]
  },
  {
   "cell_type": "code",
   "execution_count": 69,
   "id": "eb319639",
   "metadata": {},
   "outputs": [
    {
     "data": {
      "text/plain": [
       "array([ 7,  0, 16, ..., 21, 10,  7], dtype=int64)"
      ]
     },
     "execution_count": 69,
     "metadata": {},
     "output_type": "execute_result"
    }
   ],
   "source": [
    "pred_max = np.argmax(prediction, axis = 1)\n",
    "pred_max"
   ]
  },
  {
   "cell_type": "code",
   "execution_count": 70,
   "id": "58c3e469",
   "metadata": {},
   "outputs": [
    {
     "data": {
      "text/plain": [
       "(6786,)"
      ]
     },
     "execution_count": 70,
     "metadata": {},
     "output_type": "execute_result"
    }
   ],
   "source": [
    "pred_max.shape"
   ]
  },
  {
   "cell_type": "code",
   "execution_count": 62,
   "id": "bd3b5508",
   "metadata": {},
   "outputs": [
    {
     "name": "stdout",
     "output_type": "stream",
     "text": [
      "Class indices: {'Asian Green Bee-Eater': 0, 'Brown-Headed Barbet': 1, 'Cattle Egret': 2, 'Common Kingfisher': 3, 'Common Myna': 4, 'Common Rosefinch': 5, 'Common Tailorbird': 6, 'Coppersmith Barbet': 7, 'Forest Wagtail': 8, 'Gray Wagtail': 9, 'Hoopoe': 10, 'House Crow': 11, 'Indian Grey Hornbill': 12, 'Indian Peacock': 13, 'Indian Pitta': 14, 'Indian Roller': 15, 'Jungle Babbler': 16, 'Northern Lapwing': 17, 'Red-Wattled Lapwing': 18, 'Ruddy Shelduck': 19, 'Rufous Treepie': 20, 'Sarus Crane': 21, 'White Wagtail': 22, 'White-Breasted Kingfisher': 23, 'White-Breasted Waterhen': 24}\n",
      "Predicted class name: Common Kingfisher\n"
     ]
    }
   ],
   "source": [
    "# 클래스 이름과 정수 레이블의 매핑을 확인합니다.\n",
    "class_indices = train_dataset.class_indices\n",
    "print(\"Class indices:\", class_indices)\n",
    "\n",
    "# 매핑을 사용하여 정수 레이블을 원래의 라벨로 변환합니다.\n",
    "def convert_label(int_label):\n",
    "    for class_name, index in class_indices.items():\n",
    "        if index == int_label:\n",
    "            return class_name\n",
    "    return None\n",
    "\n",
    "# 예측 결과에서 정수 레이블을 받은 후 원래의 라벨로 변환\n",
    "predicted_int_label = 3  # 예시로 정수 레이블을 사용\n",
    "predicted_class_name = convert_label(predicted_int_label)\n",
    "print(f\"Predicted class name: {predicted_class_name}\")"
   ]
  },
  {
   "cell_type": "code",
   "execution_count": 71,
   "id": "856af806",
   "metadata": {},
   "outputs": [
    {
     "data": {
      "text/plain": [
       "(6786,)"
      ]
     },
     "execution_count": 71,
     "metadata": {},
     "output_type": "execute_result"
    }
   ],
   "source": [
    "pred_val = np.array([convert_label(i) for i in pred_max])\n",
    "pred_val.shape"
   ]
  },
  {
   "cell_type": "code",
   "execution_count": 64,
   "id": "57422022",
   "metadata": {},
   "outputs": [
    {
     "data": {
      "text/html": [
       "<div>\n",
       "<style scoped>\n",
       "    .dataframe tbody tr th:only-of-type {\n",
       "        vertical-align: middle;\n",
       "    }\n",
       "\n",
       "    .dataframe tbody tr th {\n",
       "        vertical-align: top;\n",
       "    }\n",
       "\n",
       "    .dataframe thead th {\n",
       "        text-align: right;\n",
       "    }\n",
       "</style>\n",
       "<table border=\"1\" class=\"dataframe\">\n",
       "  <thead>\n",
       "    <tr style=\"text-align: right;\">\n",
       "      <th></th>\n",
       "      <th>id</th>\n",
       "      <th>label</th>\n",
       "    </tr>\n",
       "  </thead>\n",
       "  <tbody>\n",
       "    <tr>\n",
       "      <th>0</th>\n",
       "      <td>TEST_00000</td>\n",
       "      <td>Indian Roller</td>\n",
       "    </tr>\n",
       "    <tr>\n",
       "      <th>1</th>\n",
       "      <td>TEST_00001</td>\n",
       "      <td>Indian Roller</td>\n",
       "    </tr>\n",
       "    <tr>\n",
       "      <th>2</th>\n",
       "      <td>TEST_00002</td>\n",
       "      <td>Indian Roller</td>\n",
       "    </tr>\n",
       "    <tr>\n",
       "      <th>3</th>\n",
       "      <td>TEST_00003</td>\n",
       "      <td>Indian Roller</td>\n",
       "    </tr>\n",
       "    <tr>\n",
       "      <th>4</th>\n",
       "      <td>TEST_00004</td>\n",
       "      <td>Indian Roller</td>\n",
       "    </tr>\n",
       "    <tr>\n",
       "      <th>...</th>\n",
       "      <td>...</td>\n",
       "      <td>...</td>\n",
       "    </tr>\n",
       "    <tr>\n",
       "      <th>6781</th>\n",
       "      <td>TEST_06781</td>\n",
       "      <td>Indian Roller</td>\n",
       "    </tr>\n",
       "    <tr>\n",
       "      <th>6782</th>\n",
       "      <td>TEST_06782</td>\n",
       "      <td>Indian Roller</td>\n",
       "    </tr>\n",
       "    <tr>\n",
       "      <th>6783</th>\n",
       "      <td>TEST_06783</td>\n",
       "      <td>Indian Roller</td>\n",
       "    </tr>\n",
       "    <tr>\n",
       "      <th>6784</th>\n",
       "      <td>TEST_06784</td>\n",
       "      <td>Indian Roller</td>\n",
       "    </tr>\n",
       "    <tr>\n",
       "      <th>6785</th>\n",
       "      <td>TEST_06785</td>\n",
       "      <td>Indian Roller</td>\n",
       "    </tr>\n",
       "  </tbody>\n",
       "</table>\n",
       "<p>6786 rows × 2 columns</p>\n",
       "</div>"
      ],
      "text/plain": [
       "              id          label\n",
       "0     TEST_00000  Indian Roller\n",
       "1     TEST_00001  Indian Roller\n",
       "2     TEST_00002  Indian Roller\n",
       "3     TEST_00003  Indian Roller\n",
       "4     TEST_00004  Indian Roller\n",
       "...          ...            ...\n",
       "6781  TEST_06781  Indian Roller\n",
       "6782  TEST_06782  Indian Roller\n",
       "6783  TEST_06783  Indian Roller\n",
       "6784  TEST_06784  Indian Roller\n",
       "6785  TEST_06785  Indian Roller\n",
       "\n",
       "[6786 rows x 2 columns]"
      ]
     },
     "execution_count": 64,
     "metadata": {},
     "output_type": "execute_result"
    }
   ],
   "source": [
    "result = pd.read_csv('sample_submission.csv')\n",
    "result"
   ]
  },
  {
   "cell_type": "code",
   "execution_count": null,
   "id": "c534d260",
   "metadata": {},
   "outputs": [],
   "source": [
    "result['label'] = pred_val\n",
    "result"
   ]
  },
  {
   "cell_type": "code",
   "execution_count": 78,
   "id": "11b20496",
   "metadata": {},
   "outputs": [
    {
     "name": "stdout",
     "output_type": "stream",
     "text": [
      "              id                      label\n",
      "0     TEST_00000         Coppersmith Barbet\n",
      "1     TEST_00001      Asian Green Bee-Eater\n",
      "2     TEST_00002             Jungle Babbler\n",
      "3     TEST_00003                Sarus Crane\n",
      "4     TEST_00004                Sarus Crane\n",
      "...          ...                        ...\n",
      "6781  TEST_06781  White-Breasted Kingfisher\n",
      "6782  TEST_06782               Gray Wagtail\n",
      "6783  TEST_06783                Sarus Crane\n",
      "6784  TEST_06784                     Hoopoe\n",
      "6785  TEST_06785         Coppersmith Barbet\n",
      "\n",
      "[6786 rows x 2 columns]\n"
     ]
    }
   ],
   "source": [
    "result.to_csv(\"second_result.csv\", index=False)\n",
    "data = pd.read_csv(\"second_result.csv\")\n",
    "print(data)"
   ]
  },
  {
   "cell_type": "code",
   "execution_count": 79,
   "id": "eb26d39c",
   "metadata": {},
   "outputs": [],
   "source": [
    "# pickle 저장\n",
    "import pickle"
   ]
  },
  {
   "cell_type": "code",
   "execution_count": 82,
   "id": "4e1abe72",
   "metadata": {},
   "outputs": [
    {
     "ename": "TypeError",
     "evalue": "cannot pickle '_thread.lock' object",
     "output_type": "error",
     "traceback": [
      "\u001b[1;31m---------------------------------------------------------------------------\u001b[0m",
      "\u001b[1;31mTypeError\u001b[0m                                 Traceback (most recent call last)",
      "\u001b[1;32m<ipython-input-82-4294b7875b2f>\u001b[0m in \u001b[0;36m<module>\u001b[1;34m\u001b[0m\n\u001b[0;32m      1\u001b[0m \u001b[1;32mwith\u001b[0m \u001b[0mopen\u001b[0m\u001b[1;33m(\u001b[0m\u001b[1;34m'training_dataset.pickle'\u001b[0m\u001b[1;33m,\u001b[0m \u001b[1;34m'wb'\u001b[0m\u001b[1;33m)\u001b[0m \u001b[1;32mas\u001b[0m \u001b[0mf\u001b[0m\u001b[1;33m:\u001b[0m\u001b[1;33m\u001b[0m\u001b[1;33m\u001b[0m\u001b[0m\n\u001b[1;32m----> 2\u001b[1;33m     \u001b[0mpickle\u001b[0m\u001b[1;33m.\u001b[0m\u001b[0mdump\u001b[0m\u001b[1;33m(\u001b[0m\u001b[0mtrain_dataset\u001b[0m\u001b[1;33m,\u001b[0m \u001b[0mf\u001b[0m\u001b[1;33m)\u001b[0m\u001b[1;33m\u001b[0m\u001b[1;33m\u001b[0m\u001b[0m\n\u001b[0m",
      "\u001b[1;31mTypeError\u001b[0m: cannot pickle '_thread.lock' object"
     ]
    }
   ],
   "source": [
    "with open('training_dataset.pickle', 'wb') as f:\n",
    "    pickle.dump(train_dataset, f)"
   ]
  },
  {
   "cell_type": "code",
   "execution_count": 81,
   "id": "880d82e2",
   "metadata": {},
   "outputs": [
    {
     "ename": "EOFError",
     "evalue": "Ran out of input",
     "output_type": "error",
     "traceback": [
      "\u001b[1;31m---------------------------------------------------------------------------\u001b[0m",
      "\u001b[1;31mEOFError\u001b[0m                                  Traceback (most recent call last)",
      "\u001b[1;32m<ipython-input-81-f72e7f574e0e>\u001b[0m in \u001b[0;36m<module>\u001b[1;34m\u001b[0m\n\u001b[0;32m      1\u001b[0m \u001b[1;32mwith\u001b[0m \u001b[0mopen\u001b[0m\u001b[1;33m(\u001b[0m\u001b[1;34m'training_dataset.pickle'\u001b[0m\u001b[1;33m,\u001b[0m \u001b[1;34m'rb'\u001b[0m\u001b[1;33m)\u001b[0m \u001b[1;32mas\u001b[0m \u001b[0mf\u001b[0m\u001b[1;33m:\u001b[0m\u001b[1;33m\u001b[0m\u001b[1;33m\u001b[0m\u001b[0m\n\u001b[1;32m----> 2\u001b[1;33m     \u001b[0mdata\u001b[0m \u001b[1;33m=\u001b[0m \u001b[0mpickle\u001b[0m\u001b[1;33m.\u001b[0m\u001b[0mload\u001b[0m\u001b[1;33m(\u001b[0m\u001b[0mf\u001b[0m\u001b[1;33m)\u001b[0m\u001b[1;33m\u001b[0m\u001b[1;33m\u001b[0m\u001b[0m\n\u001b[0m\u001b[0;32m      3\u001b[0m \u001b[0mdata\u001b[0m\u001b[1;33m\u001b[0m\u001b[1;33m\u001b[0m\u001b[0m\n",
      "\u001b[1;31mEOFError\u001b[0m: Ran out of input"
     ]
    }
   ],
   "source": [
    "with open('training_dataset.pickle', 'rb') as f:\n",
    "    data = pickle.load(f)\n",
    "data"
   ]
  }
 ],
 "metadata": {
  "kernelspec": {
   "display_name": "Python 3",
   "language": "python",
   "name": "python3"
  },
  "language_info": {
   "codemirror_mode": {
    "name": "ipython",
    "version": 3
   },
   "file_extension": ".py",
   "mimetype": "text/x-python",
   "name": "python",
   "nbconvert_exporter": "python",
   "pygments_lexer": "ipython3",
   "version": "3.8.8"
  }
 },
 "nbformat": 4,
 "nbformat_minor": 5
}

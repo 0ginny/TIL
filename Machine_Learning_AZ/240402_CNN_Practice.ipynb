{
 "cells": [
  {
   "cell_type": "markdown",
   "metadata": {
    "colab_type": "text",
    "id": "3DR-eO17geWu"
   },
   "source": [
    "# Convolutional Neural Network"
   ]
  },
  {
   "cell_type": "markdown",
   "metadata": {},
   "source": [
    "[Download_Dataset](https://drive.google.com/file/d/1SzuyFzVBMxEG3hb5zRbdSWxY0JNdJZPP/view?usp=drive_link)"
   ]
  },
  {
   "cell_type": "markdown",
   "metadata": {
    "colab_type": "text",
    "id": "EMefrVPCg-60"
   },
   "source": [
    "### Importing the libraries"
   ]
  },
  {
   "cell_type": "code",
   "execution_count": 1,
   "metadata": {},
   "outputs": [],
   "source": [
    "import tensorflow as tf\n",
    "from keras.preprocessing.image import ImageDataGenerator"
   ]
  },
  {
   "cell_type": "code",
   "execution_count": 18,
   "metadata": {},
   "outputs": [],
   "source": [
    "import numpy as np\n",
    "from keras.preprocessing import image"
   ]
  },
  {
   "cell_type": "code",
   "execution_count": 22,
   "metadata": {},
   "outputs": [],
   "source": [
    "import pandas as pd"
   ]
  },
  {
   "cell_type": "code",
   "execution_count": 2,
   "metadata": {},
   "outputs": [
    {
     "data": {
      "text/plain": [
       "'2.5.0'"
      ]
     },
     "execution_count": 2,
     "metadata": {},
     "output_type": "execute_result"
    }
   ],
   "source": [
    "tf.__version__"
   ]
  },
  {
   "cell_type": "markdown",
   "metadata": {},
   "source": [
    "[Keras API Doc](https://keras.io/api/)"
   ]
  },
  {
   "cell_type": "markdown",
   "metadata": {
    "colab_type": "text",
    "id": "oxQxCBWyoGPE"
   },
   "source": [
    "## Part 1 - Data Preprocessing"
   ]
  },
  {
   "cell_type": "markdown",
   "metadata": {
    "colab_type": "text",
    "id": "MvE-heJNo3GG"
   },
   "source": [
    "### Preprocessing the Training set"
   ]
  },
  {
   "cell_type": "code",
   "execution_count": 4,
   "metadata": {
    "scrolled": true
   },
   "outputs": [
    {
     "name": "stdout",
     "output_type": "stream",
     "text": [
      "Found 8000 images belonging to 2 classes.\n"
     ]
    }
   ],
   "source": [
    "train_datagen = ImageDataGenerator(rescale = 1./255, #스케일링\n",
    "                                  shear_range = 0/2, # 기울도 보고\n",
    "                                  zoom_range=0.2, # 확대도 해보고\n",
    "                                   horizontal_flip =True #뒤집어도 보고\n",
    "                                  )\n",
    "training_set = train_datagen.flow_from_directory('dataset/training_set',\n",
    "                                                 target_size = (64, 64), # 크기가 너무 커지면 분석이 느려져\n",
    "                                                 batch_size = 32, #배치에 얼마나 많은 이미지를 배치할 지\n",
    "                                                 class_mode = 'binary') #고양이와 개만 구분할 거니까"
   ]
  },
  {
   "cell_type": "code",
   "execution_count": 41,
   "metadata": {},
   "outputs": [
    {
     "name": "stdout",
     "output_type": "stream",
     "text": [
      "(32, 64, 64, 3)\n",
      "(32,)\n"
     ]
    }
   ],
   "source": [
    "X, y = training_set.next()\n",
    "print(X.shape)\n",
    "print(y.shape)"
   ]
  },
  {
   "cell_type": "markdown",
   "metadata": {
    "colab_type": "text",
    "id": "mrCMmGw9pHys"
   },
   "source": [
    "### Preprocessing the Test set"
   ]
  },
  {
   "cell_type": "code",
   "execution_count": null,
   "metadata": {},
   "outputs": [],
   "source": [
    "# 확인을 위해 test set도 처리해줘야지.\n",
    "test_datagen = ImageDataGenerator(rescale = 1./255)\n",
    "test_set = test_datagen.flow_from_directory('dataset/test_set',\n",
    "                                            target_size = (64, 64),\n",
    "                                            batch_size = 32,\n",
    "                                            class_mode = 'binary')"
   ]
  },
  {
   "cell_type": "code",
   "execution_count": 42,
   "metadata": {},
   "outputs": [
    {
     "name": "stdout",
     "output_type": "stream",
     "text": [
      "(32, 64, 64, 3)\n",
      "(32,)\n"
     ]
    }
   ],
   "source": [
    "X, y = test_set.next()\n",
    "print(X.shape)\n",
    "print(y.shape)"
   ]
  },
  {
   "cell_type": "markdown",
   "metadata": {
    "colab_type": "text",
    "id": "af8O4l90gk7B"
   },
   "source": [
    "## Part 2 - Building the CNN"
   ]
  },
  {
   "cell_type": "markdown",
   "metadata": {
    "colab_type": "text",
    "id": "ces1gXY2lmoX"
   },
   "source": [
    "### Initialising the CNN"
   ]
  },
  {
   "cell_type": "code",
   "execution_count": 6,
   "metadata": {},
   "outputs": [],
   "source": [
    "cnn = tf.keras.models.Sequential()"
   ]
  },
  {
   "cell_type": "markdown",
   "metadata": {
    "colab_type": "text",
    "id": "u5YJj_XMl5LF"
   },
   "source": [
    "### Step 1 - Convolution"
   ]
  },
  {
   "cell_type": "code",
   "execution_count": 8,
   "metadata": {},
   "outputs": [],
   "source": [
    "cnn.add(tf.keras.layers.Conv2D(filters =32, # 정해진 공식은 없어\n",
    "                              kernel_size =3,\n",
    "                              activation = 'relu',\n",
    "                              input_shape =[64,64,3])) #pixel 64x64, color(RGB), 맨 처음 레이어에만 입력"
   ]
  },
  {
   "cell_type": "markdown",
   "metadata": {
    "colab_type": "text",
    "id": "tf87FpvxmNOJ"
   },
   "source": [
    "### Step 2 - Pooling"
   ]
  },
  {
   "cell_type": "code",
   "execution_count": 9,
   "metadata": {},
   "outputs": [],
   "source": [
    "cnn.add(tf.keras.layers.MaxPool2D(pool_size = 2, #풀링사이즈 = 2x2\n",
    "                                 strides = 2)) #2칸씩 이동하녀 풀링"
   ]
  },
  {
   "cell_type": "markdown",
   "metadata": {
    "colab_type": "text",
    "id": "xaTOgD8rm4mU"
   },
   "source": [
    "### Adding a second convolutional layer"
   ]
  },
  {
   "cell_type": "code",
   "execution_count": 10,
   "metadata": {},
   "outputs": [],
   "source": [
    "# 2층으로 쌓자\n",
    "cnn.add(tf.keras.layers.Conv2D(filters=32, kernel_size=3, activation='relu'))\n",
    "cnn.add(tf.keras.layers.MaxPool2D(pool_size=2, strides=2))"
   ]
  },
  {
   "cell_type": "markdown",
   "metadata": {
    "colab_type": "text",
    "id": "tmiEuvTunKfk"
   },
   "source": [
    "### Step 3 - Flattening"
   ]
  },
  {
   "cell_type": "code",
   "execution_count": 11,
   "metadata": {},
   "outputs": [],
   "source": [
    "cnn.add(tf.keras.layers.Flatten()) # 그냥 연결해주면 돼"
   ]
  },
  {
   "cell_type": "markdown",
   "metadata": {
    "colab_type": "text",
    "id": "dAoSECOm203v"
   },
   "source": [
    "### Step 4 - Full Connection"
   ]
  },
  {
   "cell_type": "markdown",
   "metadata": {},
   "source": [
    "[about Dense Layer](https://wikidocs.net/192928)"
   ]
  },
  {
   "cell_type": "code",
   "execution_count": null,
   "metadata": {},
   "outputs": [],
   "source": [
    "# my code like ann\n",
    "'''\n",
    "cnn.add(tf.keras.layers.Dense(uints = 2,\n",
    "                             activation = 'softmax' \n",
    "                             ))\n",
    "                             '''"
   ]
  },
  {
   "cell_type": "code",
   "execution_count": 13,
   "metadata": {},
   "outputs": [],
   "source": [
    "# 이거 최종 결정 레이어 아니야. 연결하는 레이어야\n",
    "# 이미지를 ANN 이런식으로 나오는 과정이지\n",
    "# 찾아보니 convolution 과 polling에선 각 데이터들이 연결되지 않아. 독립적으로 있는 거야 그래서 그걸 연결해주는 신경망이 필요한거야.\n",
    "cnn.add(tf.keras.layers.Dense(units = 128, #왜? 유닛이 많으면 정확도가 높아져\n",
    "                             activation = 'relu' \n",
    "                             ))"
   ]
  },
  {
   "cell_type": "markdown",
   "metadata": {
    "colab_type": "text",
    "id": "yTldFvbX28Na"
   },
   "source": [
    "### Step 5 - Output Layer"
   ]
  },
  {
   "cell_type": "code",
   "execution_count": 14,
   "metadata": {},
   "outputs": [],
   "source": [
    "cnn.add(tf.keras.layers.Dense(units = 1, #이진분류할 거니까\n",
    "                             activation = 'sigmoid' \n",
    "                             ))"
   ]
  },
  {
   "cell_type": "markdown",
   "metadata": {
    "colab_type": "text",
    "id": "D6XkI90snSDl"
   },
   "source": [
    "## Part 3 - Training the CNN"
   ]
  },
  {
   "cell_type": "markdown",
   "metadata": {
    "colab_type": "text",
    "id": "vfrFQACEnc6i"
   },
   "source": [
    "### Compiling the CNN"
   ]
  },
  {
   "cell_type": "code",
   "execution_count": 15,
   "metadata": {},
   "outputs": [],
   "source": [
    "cnn.compile(optimizer='adam',\n",
    "           loss='binary_crossentropy',\n",
    "           metrics = ['accuracy'])"
   ]
  },
  {
   "cell_type": "markdown",
   "metadata": {
    "colab_type": "text",
    "id": "ehS-v3MIpX2h"
   },
   "source": [
    "### Training the CNN on the Training set and evaluating it on the Test set"
   ]
  },
  {
   "cell_type": "code",
   "execution_count": 16,
   "metadata": {},
   "outputs": [
    {
     "name": "stdout",
     "output_type": "stream",
     "text": [
      "Epoch 1/25\n",
      "250/250 [==============================] - 37s 144ms/step - loss: 0.6682 - accuracy: 0.5920 - val_loss: 0.6526 - val_accuracy: 0.6330\n",
      "Epoch 2/25\n",
      "250/250 [==============================] - 34s 137ms/step - loss: 0.6144 - accuracy: 0.6589 - val_loss: 0.6287 - val_accuracy: 0.6460\n",
      "Epoch 3/25\n",
      "250/250 [==============================] - 33s 133ms/step - loss: 0.5766 - accuracy: 0.6989 - val_loss: 0.6442 - val_accuracy: 0.6380\n",
      "Epoch 4/25\n",
      "250/250 [==============================] - 33s 133ms/step - loss: 0.5397 - accuracy: 0.7286 - val_loss: 0.5066 - val_accuracy: 0.7570\n",
      "Epoch 5/25\n",
      "250/250 [==============================] - 35s 140ms/step - loss: 0.5145 - accuracy: 0.7496 - val_loss: 0.5189 - val_accuracy: 0.7545\n",
      "Epoch 6/25\n",
      "250/250 [==============================] - 36s 142ms/step - loss: 0.4911 - accuracy: 0.7629 - val_loss: 0.5204 - val_accuracy: 0.7390\n",
      "Epoch 7/25\n",
      "250/250 [==============================] - 36s 142ms/step - loss: 0.4775 - accuracy: 0.7720 - val_loss: 0.4761 - val_accuracy: 0.7670\n",
      "Epoch 8/25\n",
      "250/250 [==============================] - 41s 166ms/step - loss: 0.4584 - accuracy: 0.7805 - val_loss: 0.4673 - val_accuracy: 0.7800\n",
      "Epoch 9/25\n",
      "250/250 [==============================] - 37s 148ms/step - loss: 0.4471 - accuracy: 0.7830 - val_loss: 0.4903 - val_accuracy: 0.7785\n",
      "Epoch 10/25\n",
      "250/250 [==============================] - 36s 145ms/step - loss: 0.4284 - accuracy: 0.7997 - val_loss: 0.4579 - val_accuracy: 0.7750\n",
      "Epoch 11/25\n",
      "250/250 [==============================] - 35s 140ms/step - loss: 0.4116 - accuracy: 0.8108 - val_loss: 0.4668 - val_accuracy: 0.7870\n",
      "Epoch 12/25\n",
      "250/250 [==============================] - 36s 142ms/step - loss: 0.4056 - accuracy: 0.8120 - val_loss: 0.4643 - val_accuracy: 0.7830\n",
      "Epoch 13/25\n",
      "250/250 [==============================] - 34s 136ms/step - loss: 0.3935 - accuracy: 0.8211 - val_loss: 0.4871 - val_accuracy: 0.7880\n",
      "Epoch 14/25\n",
      "250/250 [==============================] - 34s 138ms/step - loss: 0.3744 - accuracy: 0.8286 - val_loss: 0.5096 - val_accuracy: 0.7690\n",
      "Epoch 15/25\n",
      "250/250 [==============================] - 34s 135ms/step - loss: 0.3615 - accuracy: 0.8344 - val_loss: 0.5253 - val_accuracy: 0.7760\n",
      "Epoch 16/25\n",
      "250/250 [==============================] - 33s 133ms/step - loss: 0.3505 - accuracy: 0.8395 - val_loss: 0.4587 - val_accuracy: 0.7910\n",
      "Epoch 17/25\n",
      "250/250 [==============================] - 33s 133ms/step - loss: 0.3345 - accuracy: 0.8534 - val_loss: 0.6221 - val_accuracy: 0.7580\n",
      "Epoch 18/25\n",
      "250/250 [==============================] - 33s 131ms/step - loss: 0.3226 - accuracy: 0.8622 - val_loss: 0.5989 - val_accuracy: 0.7430\n",
      "Epoch 19/25\n",
      "250/250 [==============================] - 34s 137ms/step - loss: 0.3076 - accuracy: 0.8661 - val_loss: 0.4548 - val_accuracy: 0.8115\n",
      "Epoch 20/25\n",
      "250/250 [==============================] - 34s 136ms/step - loss: 0.2965 - accuracy: 0.8754 - val_loss: 0.5134 - val_accuracy: 0.7910\n",
      "Epoch 21/25\n",
      "250/250 [==============================] - 33s 133ms/step - loss: 0.2842 - accuracy: 0.8777 - val_loss: 0.5134 - val_accuracy: 0.7985\n",
      "Epoch 22/25\n",
      "250/250 [==============================] - 33s 134ms/step - loss: 0.2666 - accuracy: 0.8866 - val_loss: 0.4859 - val_accuracy: 0.7845\n",
      "Epoch 23/25\n",
      "250/250 [==============================] - 33s 133ms/step - loss: 0.2519 - accuracy: 0.8940 - val_loss: 0.5113 - val_accuracy: 0.7985\n",
      "Epoch 24/25\n",
      "250/250 [==============================] - 33s 133ms/step - loss: 0.2394 - accuracy: 0.9009 - val_loss: 0.5477 - val_accuracy: 0.8015\n",
      "Epoch 25/25\n",
      "250/250 [==============================] - 33s 131ms/step - loss: 0.2354 - accuracy: 0.9057 - val_loss: 0.5614 - val_accuracy: 0.7915\n"
     ]
    },
    {
     "data": {
      "text/plain": [
       "<tensorflow.python.keras.callbacks.History at 0x2251a0a9b20>"
      ]
     },
     "execution_count": 16,
     "metadata": {},
     "output_type": "execute_result"
    }
   ],
   "source": [
    "cnn.fit(x = training_set,\n",
    "        validation_data= test_set,\n",
    "       epochs = 25)"
   ]
  },
  {
   "cell_type": "markdown",
   "metadata": {
    "colab_type": "text",
    "id": "U3PZasO0006Z"
   },
   "source": [
    "## Part 4 - Making a single prediction"
   ]
  },
  {
   "cell_type": "code",
   "execution_count": 30,
   "metadata": {},
   "outputs": [
    {
     "data": {
      "text/plain": [
       "(1, 64, 64, 3)"
      ]
     },
     "execution_count": 30,
     "metadata": {},
     "output_type": "execute_result"
    }
   ],
   "source": [
    "test_image.shape"
   ]
  },
  {
   "cell_type": "code",
   "execution_count": 37,
   "metadata": {},
   "outputs": [
    {
     "name": "stdout",
     "output_type": "stream",
     "text": [
      "just change to array shape : (64, 64, 3)\n",
      "after expend, shape : (1, 64, 64, 3)\n",
      "result : [[0.02214101]]\n",
      "cat\n"
     ]
    }
   ],
   "source": [
    "test_image = image.load_img(path = 'dataset/single_prediction/cat_or_dog_2.jpg', #1 :개, 2: 고양이\n",
    "                           target_size = (64,64)) # 기존 변형한 형태로 만들어줘야지\n",
    "\n",
    "#근데 왜 스케일은 필요없을까?\n",
    "# 추가자료 - 아래처럼 하면 이미지를 정규화 할 수 있어.\n",
    "# result = cnn.predict(test_image /255.0)\n",
    "\n",
    "\n",
    "test_image = image.img_to_array(test_image) # 검사할 때는 배열형태로 해야해\n",
    "\n",
    "print(f'just change to array shape : {test_image.shape}')\n",
    "# 이전에 배치에 넣어ㄴ놨기때문에 배치로 만들어놔야해.\n",
    "test_image =  np.expand_dims(test_image,axis=0)\n",
    "print(f'after expend, shape : {test_image.shape}')\n",
    "      \n",
    "\n",
    "# r결과\n",
    "result = cnn.predict(test_image/255.0) # 이렇게 했을 때 문제는 if 문에서 완전한 1이 나오지 않을 수 있다는 거??\n",
    "print(f'result : {result}')\n",
    "#ㅇ 인코딩\n",
    "training_set.class_indices\n",
    "if result[0][0] > 0.5 :\n",
    "    prediction = 'dog'\n",
    "else :\n",
    "    prediction = 'cat'\n",
    "    \n",
    "print(prediction)"
   ]
  }
 ],
 "metadata": {
  "colab": {
   "collapsed_sections": [],
   "name": "convolutional_neural_network.ipynb",
   "provenance": [],
   "toc_visible": true
  },
  "kernelspec": {
   "display_name": "Python 3",
   "language": "python",
   "name": "python3"
  },
  "language_info": {
   "codemirror_mode": {
    "name": "ipython",
    "version": 3
   },
   "file_extension": ".py",
   "mimetype": "text/x-python",
   "name": "python",
   "nbconvert_exporter": "python",
   "pygments_lexer": "ipython3",
   "version": "3.8.8"
  }
 },
 "nbformat": 4,
 "nbformat_minor": 1
}

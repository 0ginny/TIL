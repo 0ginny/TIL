{
  "nbformat": 4,
  "nbformat_minor": 0,
  "metadata": {
    "colab": {
      "provenance": [],
      "authorship_tag": "ABX9TyOLnC3wkrBBt67eggUkCPVD",
      "include_colab_link": true
    },
    "kernelspec": {
      "name": "python3",
      "display_name": "Python 3"
    },
    "language_info": {
      "name": "python"
    }
  },
  "cells": [
    {
      "cell_type": "markdown",
      "metadata": {
        "id": "view-in-github",
        "colab_type": "text"
      },
      "source": [
        "<a href=\"https://colab.research.google.com/github/0ginny/TIL/blob/main/TIL_240320_%ED%88%AC%ED%8F%AC%EC%9D%B8%ED%84%B0%EC%97%90_%EB%8C%80%ED%95%B4%EC%84%9C.ipynb\" target=\"_parent\"><img src=\"https://colab.research.google.com/assets/colab-badge.svg\" alt=\"Open In Colab\"/></a>"
      ]
    },
    {
      "cell_type": "markdown",
      "source": [
        "# 투포인터\n",
        "- 연속하다는 특징을 이용해 시간복잡도를 줄이는 방법\n",
        "- O(N^2) -> O(N)\n",
        "## 사고방법\n",
        "- 바로 생각하기 어려움\n",
        "- 전체 경우 생각해보고 만약 시간복잡도가 넘으면 투포인터 고려"
      ],
      "metadata": {
        "id": "yYrbOkUI7zgS"
      }
    },
    {
      "cell_type": "code",
      "source": [
        "# 기본문제 2559\n",
        "\n",
        "\"\"\"\n",
        "2559 시간 12:41\n",
        "0. 문제이해.\n",
        "    - 입력 : 온도갯수, 얼마나 연속\n",
        "    - 출력 : 연속 온도 합 최대\n",
        "    - 숫자 범위:\n",
        "        - 정수의 수 e5\n",
        "        - 연속의 수 e5\n",
        "        - 온도범위 +- 100\n",
        "1. 아이디어\n",
        "    - temp 리스트에 온도값 저장\n",
        "    - list slicing sum 하면 안되나?\n",
        "        - view인지 copy인지 확인하자. 어차피 저장할 거 아니라 상관없음.\n",
        "        - 시간복잡도 : O(N) = e5\n",
        "\"\"\"\n",
        "\n",
        "import sys\n",
        "input = sys.stdin.readline\n",
        "\n",
        "N, K = map(int,input().split())\n",
        "\n",
        "temp = list(map(int,input().split()))\n",
        "\n",
        "maxs = -10 ** 7\n",
        "\n",
        "for i in range(N-K+1):\n",
        "    maxs = max(maxs,sum(temp[i:i+K]))\n",
        "\n",
        "print(maxs)"
      ],
      "metadata": {
        "id": "tJTtMCV58OJa"
      },
      "execution_count": null,
      "outputs": []
    },
    {
      "cell_type": "markdown",
      "source": [
        "위처럼 하면 시간초과 뜸. 슬라이싱에 시간복잡도를 알아보자.\n",
        "\n",
        "    - 슬라이싱 O(N) 연산이라고 함.\n",
        "    - 그래서 총 시간복잡도는 O(N^2) = e10로 초과됨"
      ],
      "metadata": {
        "id": "kveEH4G1_etj"
      }
    },
    {
      "cell_type": "code",
      "source": [
        "\"\"\"\n",
        "1. 아이디어\n",
        "    - 투포인터 사용\n",
        "        - 처음에 연속수 저장하고, 처음꺼 빼고, 다음꺼 넣기\n",
        "            - 시간복잡도 O(2N) = O(N) 가능\n",
        "\"\"\"\n",
        "\n",
        "import sys\n",
        "input = sys.stdin.readline\n",
        "\n",
        "N, K = map(int,input().split())\n",
        "\n",
        "temp = list(map(int,input().split()))\n",
        "\n",
        "total = sum(temp[:K])\n",
        "maxs = total\n",
        "for i in range(N-K):\n",
        "    total = total + temp[i+K] - temp[i]\n",
        "    # print(f' i : {temp[i]}, i+k = {temp[i+K]}, maxs : {maxs} , total : {total}')\n",
        "    maxs = max(maxs, total)\n",
        "print(maxs)"
      ],
      "metadata": {
        "id": "GOVjgG6E_imr"
      },
      "execution_count": null,
      "outputs": []
    }
  ]
}